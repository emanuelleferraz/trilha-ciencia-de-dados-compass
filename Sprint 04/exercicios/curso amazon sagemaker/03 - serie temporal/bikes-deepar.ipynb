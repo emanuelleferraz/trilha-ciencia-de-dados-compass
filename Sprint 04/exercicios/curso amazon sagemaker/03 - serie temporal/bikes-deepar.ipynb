{
 "cells": [
  {
   "cell_type": "markdown",
   "id": "5feb7f65-3fdc-4656-bed8-aff27e4d5ddb",
   "metadata": {},
   "source": [
    "# Series Temporais com Base de Bikes"
   ]
  },
  {
   "cell_type": "markdown",
   "id": "23bd7a00-507c-4da6-8263-57c631b36211",
   "metadata": {},
   "source": [
    "## Tratamento da base de dados"
   ]
  },
  {
   "cell_type": "code",
   "execution_count": 1,
   "id": "25c2fa2b-67c0-432c-acf2-8dea0162cfd8",
   "metadata": {},
   "outputs": [],
   "source": [
    "import pandas as pd\n",
    "import matplotlib.pyplot as plt\n",
    "%matplotlib inline\n",
    "import json\n",
    "import os\n",
    "import numpy as np\n",
    "import datetime"
   ]
  },
  {
   "cell_type": "code",
   "execution_count": 2,
   "id": "9a525d29-303e-401f-b228-896258fb1b98",
   "metadata": {},
   "outputs": [
    {
     "data": {
      "text/html": [
       "<div>\n",
       "<style scoped>\n",
       "    .dataframe tbody tr th:only-of-type {\n",
       "        vertical-align: middle;\n",
       "    }\n",
       "\n",
       "    .dataframe tbody tr th {\n",
       "        vertical-align: top;\n",
       "    }\n",
       "\n",
       "    .dataframe thead th {\n",
       "        text-align: right;\n",
       "    }\n",
       "</style>\n",
       "<table border=\"1\" class=\"dataframe\">\n",
       "  <thead>\n",
       "    <tr style=\"text-align: right;\">\n",
       "      <th></th>\n",
       "      <th>datetime</th>\n",
       "      <th>season</th>\n",
       "      <th>holiday</th>\n",
       "      <th>workingday</th>\n",
       "      <th>weather</th>\n",
       "      <th>temp</th>\n",
       "      <th>atemp</th>\n",
       "      <th>humidity</th>\n",
       "      <th>windspeed</th>\n",
       "      <th>casual</th>\n",
       "      <th>registered</th>\n",
       "      <th>count</th>\n",
       "    </tr>\n",
       "  </thead>\n",
       "  <tbody>\n",
       "    <tr>\n",
       "      <th>0</th>\n",
       "      <td>2011-01-01 00:00:00</td>\n",
       "      <td>1</td>\n",
       "      <td>0</td>\n",
       "      <td>0</td>\n",
       "      <td>1</td>\n",
       "      <td>9.84</td>\n",
       "      <td>14.395</td>\n",
       "      <td>81</td>\n",
       "      <td>0.0</td>\n",
       "      <td>3</td>\n",
       "      <td>13</td>\n",
       "      <td>16</td>\n",
       "    </tr>\n",
       "    <tr>\n",
       "      <th>1</th>\n",
       "      <td>2011-01-01 01:00:00</td>\n",
       "      <td>1</td>\n",
       "      <td>0</td>\n",
       "      <td>0</td>\n",
       "      <td>1</td>\n",
       "      <td>9.02</td>\n",
       "      <td>13.635</td>\n",
       "      <td>80</td>\n",
       "      <td>0.0</td>\n",
       "      <td>8</td>\n",
       "      <td>32</td>\n",
       "      <td>40</td>\n",
       "    </tr>\n",
       "    <tr>\n",
       "      <th>2</th>\n",
       "      <td>2011-01-01 02:00:00</td>\n",
       "      <td>1</td>\n",
       "      <td>0</td>\n",
       "      <td>0</td>\n",
       "      <td>1</td>\n",
       "      <td>9.02</td>\n",
       "      <td>13.635</td>\n",
       "      <td>80</td>\n",
       "      <td>0.0</td>\n",
       "      <td>5</td>\n",
       "      <td>27</td>\n",
       "      <td>32</td>\n",
       "    </tr>\n",
       "    <tr>\n",
       "      <th>3</th>\n",
       "      <td>2011-01-01 03:00:00</td>\n",
       "      <td>1</td>\n",
       "      <td>0</td>\n",
       "      <td>0</td>\n",
       "      <td>1</td>\n",
       "      <td>9.84</td>\n",
       "      <td>14.395</td>\n",
       "      <td>75</td>\n",
       "      <td>0.0</td>\n",
       "      <td>3</td>\n",
       "      <td>10</td>\n",
       "      <td>13</td>\n",
       "    </tr>\n",
       "    <tr>\n",
       "      <th>4</th>\n",
       "      <td>2011-01-01 04:00:00</td>\n",
       "      <td>1</td>\n",
       "      <td>0</td>\n",
       "      <td>0</td>\n",
       "      <td>1</td>\n",
       "      <td>9.84</td>\n",
       "      <td>14.395</td>\n",
       "      <td>75</td>\n",
       "      <td>0.0</td>\n",
       "      <td>0</td>\n",
       "      <td>1</td>\n",
       "      <td>1</td>\n",
       "    </tr>\n",
       "  </tbody>\n",
       "</table>\n",
       "</div>"
      ],
      "text/plain": [
       "              datetime  season  holiday  workingday  weather  temp   atemp  \\\n",
       "0  2011-01-01 00:00:00       1        0           0        1  9.84  14.395   \n",
       "1  2011-01-01 01:00:00       1        0           0        1  9.02  13.635   \n",
       "2  2011-01-01 02:00:00       1        0           0        1  9.02  13.635   \n",
       "3  2011-01-01 03:00:00       1        0           0        1  9.84  14.395   \n",
       "4  2011-01-01 04:00:00       1        0           0        1  9.84  14.395   \n",
       "\n",
       "   humidity  windspeed  casual  registered  count  \n",
       "0        81        0.0       3          13     16  \n",
       "1        80        0.0       8          32     40  \n",
       "2        80        0.0       5          27     32  \n",
       "3        75        0.0       3          10     13  \n",
       "4        75        0.0       0           1      1  "
      ]
     },
     "execution_count": 2,
     "metadata": {},
     "output_type": "execute_result"
    }
   ],
   "source": [
    "base = pd.read_csv('train.csv')\n",
    "base.head()"
   ]
  },
  {
   "cell_type": "code",
   "execution_count": 3,
   "id": "f18dcfa3-ca3d-4c6a-816a-6a110a051ce9",
   "metadata": {},
   "outputs": [
    {
     "data": {
      "text/plain": [
       "datetime       object\n",
       "season          int64\n",
       "holiday         int64\n",
       "workingday      int64\n",
       "weather         int64\n",
       "temp          float64\n",
       "atemp         float64\n",
       "humidity        int64\n",
       "windspeed     float64\n",
       "casual          int64\n",
       "registered      int64\n",
       "count           int64\n",
       "dtype: object"
      ]
     },
     "execution_count": 3,
     "metadata": {},
     "output_type": "execute_result"
    }
   ],
   "source": [
    "base.dtypes"
   ]
  },
  {
   "cell_type": "code",
   "execution_count": 4,
   "id": "72e4e409-7579-4730-95e9-a09233c5d83e",
   "metadata": {},
   "outputs": [
    {
     "data": {
      "text/html": [
       "<div>\n",
       "<style scoped>\n",
       "    .dataframe tbody tr th:only-of-type {\n",
       "        vertical-align: middle;\n",
       "    }\n",
       "\n",
       "    .dataframe tbody tr th {\n",
       "        vertical-align: top;\n",
       "    }\n",
       "\n",
       "    .dataframe thead th {\n",
       "        text-align: right;\n",
       "    }\n",
       "</style>\n",
       "<table border=\"1\" class=\"dataframe\">\n",
       "  <thead>\n",
       "    <tr style=\"text-align: right;\">\n",
       "      <th></th>\n",
       "      <th>season</th>\n",
       "      <th>holiday</th>\n",
       "      <th>workingday</th>\n",
       "      <th>weather</th>\n",
       "      <th>temp</th>\n",
       "      <th>atemp</th>\n",
       "      <th>humidity</th>\n",
       "      <th>windspeed</th>\n",
       "      <th>casual</th>\n",
       "      <th>registered</th>\n",
       "      <th>count</th>\n",
       "    </tr>\n",
       "    <tr>\n",
       "      <th>datetime</th>\n",
       "      <th></th>\n",
       "      <th></th>\n",
       "      <th></th>\n",
       "      <th></th>\n",
       "      <th></th>\n",
       "      <th></th>\n",
       "      <th></th>\n",
       "      <th></th>\n",
       "      <th></th>\n",
       "      <th></th>\n",
       "      <th></th>\n",
       "    </tr>\n",
       "  </thead>\n",
       "  <tbody>\n",
       "    <tr>\n",
       "      <th>2011-01-01 00:00:00</th>\n",
       "      <td>1</td>\n",
       "      <td>0</td>\n",
       "      <td>0</td>\n",
       "      <td>1</td>\n",
       "      <td>9.84</td>\n",
       "      <td>14.395</td>\n",
       "      <td>81</td>\n",
       "      <td>0.0000</td>\n",
       "      <td>3</td>\n",
       "      <td>13</td>\n",
       "      <td>16</td>\n",
       "    </tr>\n",
       "    <tr>\n",
       "      <th>2011-01-01 01:00:00</th>\n",
       "      <td>1</td>\n",
       "      <td>0</td>\n",
       "      <td>0</td>\n",
       "      <td>1</td>\n",
       "      <td>9.02</td>\n",
       "      <td>13.635</td>\n",
       "      <td>80</td>\n",
       "      <td>0.0000</td>\n",
       "      <td>8</td>\n",
       "      <td>32</td>\n",
       "      <td>40</td>\n",
       "    </tr>\n",
       "    <tr>\n",
       "      <th>2011-01-01 02:00:00</th>\n",
       "      <td>1</td>\n",
       "      <td>0</td>\n",
       "      <td>0</td>\n",
       "      <td>1</td>\n",
       "      <td>9.02</td>\n",
       "      <td>13.635</td>\n",
       "      <td>80</td>\n",
       "      <td>0.0000</td>\n",
       "      <td>5</td>\n",
       "      <td>27</td>\n",
       "      <td>32</td>\n",
       "    </tr>\n",
       "    <tr>\n",
       "      <th>2011-01-01 03:00:00</th>\n",
       "      <td>1</td>\n",
       "      <td>0</td>\n",
       "      <td>0</td>\n",
       "      <td>1</td>\n",
       "      <td>9.84</td>\n",
       "      <td>14.395</td>\n",
       "      <td>75</td>\n",
       "      <td>0.0000</td>\n",
       "      <td>3</td>\n",
       "      <td>10</td>\n",
       "      <td>13</td>\n",
       "    </tr>\n",
       "    <tr>\n",
       "      <th>2011-01-01 04:00:00</th>\n",
       "      <td>1</td>\n",
       "      <td>0</td>\n",
       "      <td>0</td>\n",
       "      <td>1</td>\n",
       "      <td>9.84</td>\n",
       "      <td>14.395</td>\n",
       "      <td>75</td>\n",
       "      <td>0.0000</td>\n",
       "      <td>0</td>\n",
       "      <td>1</td>\n",
       "      <td>1</td>\n",
       "    </tr>\n",
       "    <tr>\n",
       "      <th>...</th>\n",
       "      <td>...</td>\n",
       "      <td>...</td>\n",
       "      <td>...</td>\n",
       "      <td>...</td>\n",
       "      <td>...</td>\n",
       "      <td>...</td>\n",
       "      <td>...</td>\n",
       "      <td>...</td>\n",
       "      <td>...</td>\n",
       "      <td>...</td>\n",
       "      <td>...</td>\n",
       "    </tr>\n",
       "    <tr>\n",
       "      <th>2012-12-19 19:00:00</th>\n",
       "      <td>4</td>\n",
       "      <td>0</td>\n",
       "      <td>1</td>\n",
       "      <td>1</td>\n",
       "      <td>15.58</td>\n",
       "      <td>19.695</td>\n",
       "      <td>50</td>\n",
       "      <td>26.0027</td>\n",
       "      <td>7</td>\n",
       "      <td>329</td>\n",
       "      <td>336</td>\n",
       "    </tr>\n",
       "    <tr>\n",
       "      <th>2012-12-19 20:00:00</th>\n",
       "      <td>4</td>\n",
       "      <td>0</td>\n",
       "      <td>1</td>\n",
       "      <td>1</td>\n",
       "      <td>14.76</td>\n",
       "      <td>17.425</td>\n",
       "      <td>57</td>\n",
       "      <td>15.0013</td>\n",
       "      <td>10</td>\n",
       "      <td>231</td>\n",
       "      <td>241</td>\n",
       "    </tr>\n",
       "    <tr>\n",
       "      <th>2012-12-19 21:00:00</th>\n",
       "      <td>4</td>\n",
       "      <td>0</td>\n",
       "      <td>1</td>\n",
       "      <td>1</td>\n",
       "      <td>13.94</td>\n",
       "      <td>15.910</td>\n",
       "      <td>61</td>\n",
       "      <td>15.0013</td>\n",
       "      <td>4</td>\n",
       "      <td>164</td>\n",
       "      <td>168</td>\n",
       "    </tr>\n",
       "    <tr>\n",
       "      <th>2012-12-19 22:00:00</th>\n",
       "      <td>4</td>\n",
       "      <td>0</td>\n",
       "      <td>1</td>\n",
       "      <td>1</td>\n",
       "      <td>13.94</td>\n",
       "      <td>17.425</td>\n",
       "      <td>61</td>\n",
       "      <td>6.0032</td>\n",
       "      <td>12</td>\n",
       "      <td>117</td>\n",
       "      <td>129</td>\n",
       "    </tr>\n",
       "    <tr>\n",
       "      <th>2012-12-19 23:00:00</th>\n",
       "      <td>4</td>\n",
       "      <td>0</td>\n",
       "      <td>1</td>\n",
       "      <td>1</td>\n",
       "      <td>13.12</td>\n",
       "      <td>16.665</td>\n",
       "      <td>66</td>\n",
       "      <td>8.9981</td>\n",
       "      <td>4</td>\n",
       "      <td>84</td>\n",
       "      <td>88</td>\n",
       "    </tr>\n",
       "  </tbody>\n",
       "</table>\n",
       "<p>10886 rows × 11 columns</p>\n",
       "</div>"
      ],
      "text/plain": [
       "                     season  holiday  workingday  weather   temp   atemp  \\\n",
       "datetime                                                                   \n",
       "2011-01-01 00:00:00       1        0           0        1   9.84  14.395   \n",
       "2011-01-01 01:00:00       1        0           0        1   9.02  13.635   \n",
       "2011-01-01 02:00:00       1        0           0        1   9.02  13.635   \n",
       "2011-01-01 03:00:00       1        0           0        1   9.84  14.395   \n",
       "2011-01-01 04:00:00       1        0           0        1   9.84  14.395   \n",
       "...                     ...      ...         ...      ...    ...     ...   \n",
       "2012-12-19 19:00:00       4        0           1        1  15.58  19.695   \n",
       "2012-12-19 20:00:00       4        0           1        1  14.76  17.425   \n",
       "2012-12-19 21:00:00       4        0           1        1  13.94  15.910   \n",
       "2012-12-19 22:00:00       4        0           1        1  13.94  17.425   \n",
       "2012-12-19 23:00:00       4        0           1        1  13.12  16.665   \n",
       "\n",
       "                     humidity  windspeed  casual  registered  count  \n",
       "datetime                                                             \n",
       "2011-01-01 00:00:00        81     0.0000       3          13     16  \n",
       "2011-01-01 01:00:00        80     0.0000       8          32     40  \n",
       "2011-01-01 02:00:00        80     0.0000       5          27     32  \n",
       "2011-01-01 03:00:00        75     0.0000       3          10     13  \n",
       "2011-01-01 04:00:00        75     0.0000       0           1      1  \n",
       "...                       ...        ...     ...         ...    ...  \n",
       "2012-12-19 19:00:00        50    26.0027       7         329    336  \n",
       "2012-12-19 20:00:00        57    15.0013      10         231    241  \n",
       "2012-12-19 21:00:00        61    15.0013       4         164    168  \n",
       "2012-12-19 22:00:00        61     6.0032      12         117    129  \n",
       "2012-12-19 23:00:00        66     8.9981       4          84     88  \n",
       "\n",
       "[10886 rows x 11 columns]"
      ]
     },
     "execution_count": 4,
     "metadata": {},
     "output_type": "execute_result"
    }
   ],
   "source": [
    "base = pd.read_csv('train.csv', parse_dates=['datetime'], index_col=0)\n",
    "base"
   ]
  },
  {
   "cell_type": "code",
   "execution_count": 5,
   "id": "28f246f2-b323-4bef-8be3-964d447c73e1",
   "metadata": {},
   "outputs": [
    {
     "data": {
      "text/html": [
       "<div>\n",
       "<style scoped>\n",
       "    .dataframe tbody tr th:only-of-type {\n",
       "        vertical-align: middle;\n",
       "    }\n",
       "\n",
       "    .dataframe tbody tr th {\n",
       "        vertical-align: top;\n",
       "    }\n",
       "\n",
       "    .dataframe thead th {\n",
       "        text-align: right;\n",
       "    }\n",
       "</style>\n",
       "<table border=\"1\" class=\"dataframe\">\n",
       "  <thead>\n",
       "    <tr style=\"text-align: right;\">\n",
       "      <th></th>\n",
       "      <th>count</th>\n",
       "    </tr>\n",
       "    <tr>\n",
       "      <th>datetime</th>\n",
       "      <th></th>\n",
       "    </tr>\n",
       "  </thead>\n",
       "  <tbody>\n",
       "    <tr>\n",
       "      <th>2011-01-01 00:00:00</th>\n",
       "      <td>16</td>\n",
       "    </tr>\n",
       "    <tr>\n",
       "      <th>2011-01-01 01:00:00</th>\n",
       "      <td>40</td>\n",
       "    </tr>\n",
       "    <tr>\n",
       "      <th>2011-01-01 02:00:00</th>\n",
       "      <td>32</td>\n",
       "    </tr>\n",
       "    <tr>\n",
       "      <th>2011-01-01 03:00:00</th>\n",
       "      <td>13</td>\n",
       "    </tr>\n",
       "    <tr>\n",
       "      <th>2011-01-01 04:00:00</th>\n",
       "      <td>1</td>\n",
       "    </tr>\n",
       "    <tr>\n",
       "      <th>...</th>\n",
       "      <td>...</td>\n",
       "    </tr>\n",
       "    <tr>\n",
       "      <th>2012-12-19 19:00:00</th>\n",
       "      <td>336</td>\n",
       "    </tr>\n",
       "    <tr>\n",
       "      <th>2012-12-19 20:00:00</th>\n",
       "      <td>241</td>\n",
       "    </tr>\n",
       "    <tr>\n",
       "      <th>2012-12-19 21:00:00</th>\n",
       "      <td>168</td>\n",
       "    </tr>\n",
       "    <tr>\n",
       "      <th>2012-12-19 22:00:00</th>\n",
       "      <td>129</td>\n",
       "    </tr>\n",
       "    <tr>\n",
       "      <th>2012-12-19 23:00:00</th>\n",
       "      <td>88</td>\n",
       "    </tr>\n",
       "  </tbody>\n",
       "</table>\n",
       "<p>10886 rows × 1 columns</p>\n",
       "</div>"
      ],
      "text/plain": [
       "                     count\n",
       "datetime                  \n",
       "2011-01-01 00:00:00     16\n",
       "2011-01-01 01:00:00     40\n",
       "2011-01-01 02:00:00     32\n",
       "2011-01-01 03:00:00     13\n",
       "2011-01-01 04:00:00      1\n",
       "...                    ...\n",
       "2012-12-19 19:00:00    336\n",
       "2012-12-19 20:00:00    241\n",
       "2012-12-19 21:00:00    168\n",
       "2012-12-19 22:00:00    129\n",
       "2012-12-19 23:00:00     88\n",
       "\n",
       "[10886 rows x 1 columns]"
      ]
     },
     "execution_count": 5,
     "metadata": {},
     "output_type": "execute_result"
    }
   ],
   "source": [
    "base.drop(columns = ['season', 'holiday','workingday','weather','temp','atemp', 'humidity','windspeed','casual', 'registered'], axis=1, inplace = True)\n",
    "base"
   ]
  },
  {
   "cell_type": "code",
   "execution_count": 6,
   "id": "aac4eb9e-d70d-46cc-8389-0aaacfdb3abe",
   "metadata": {},
   "outputs": [
    {
     "data": {
      "text/html": [
       "<div>\n",
       "<style scoped>\n",
       "    .dataframe tbody tr th:only-of-type {\n",
       "        vertical-align: middle;\n",
       "    }\n",
       "\n",
       "    .dataframe tbody tr th {\n",
       "        vertical-align: top;\n",
       "    }\n",
       "\n",
       "    .dataframe thead th {\n",
       "        text-align: right;\n",
       "    }\n",
       "</style>\n",
       "<table border=\"1\" class=\"dataframe\">\n",
       "  <thead>\n",
       "    <tr style=\"text-align: right;\">\n",
       "      <th></th>\n",
       "      <th>count</th>\n",
       "    </tr>\n",
       "    <tr>\n",
       "      <th>datetime</th>\n",
       "      <th></th>\n",
       "    </tr>\n",
       "  </thead>\n",
       "  <tbody>\n",
       "    <tr>\n",
       "      <th>2011-01-01</th>\n",
       "      <td>985</td>\n",
       "    </tr>\n",
       "    <tr>\n",
       "      <th>2011-01-02</th>\n",
       "      <td>801</td>\n",
       "    </tr>\n",
       "    <tr>\n",
       "      <th>2011-01-03</th>\n",
       "      <td>1349</td>\n",
       "    </tr>\n",
       "    <tr>\n",
       "      <th>2011-01-04</th>\n",
       "      <td>1562</td>\n",
       "    </tr>\n",
       "    <tr>\n",
       "      <th>2011-01-05</th>\n",
       "      <td>1600</td>\n",
       "    </tr>\n",
       "    <tr>\n",
       "      <th>...</th>\n",
       "      <td>...</td>\n",
       "    </tr>\n",
       "    <tr>\n",
       "      <th>2012-12-15</th>\n",
       "      <td>5047</td>\n",
       "    </tr>\n",
       "    <tr>\n",
       "      <th>2012-12-16</th>\n",
       "      <td>3786</td>\n",
       "    </tr>\n",
       "    <tr>\n",
       "      <th>2012-12-17</th>\n",
       "      <td>4585</td>\n",
       "    </tr>\n",
       "    <tr>\n",
       "      <th>2012-12-18</th>\n",
       "      <td>5557</td>\n",
       "    </tr>\n",
       "    <tr>\n",
       "      <th>2012-12-19</th>\n",
       "      <td>5267</td>\n",
       "    </tr>\n",
       "  </tbody>\n",
       "</table>\n",
       "<p>719 rows × 1 columns</p>\n",
       "</div>"
      ],
      "text/plain": [
       "            count\n",
       "datetime         \n",
       "2011-01-01    985\n",
       "2011-01-02    801\n",
       "2011-01-03   1349\n",
       "2011-01-04   1562\n",
       "2011-01-05   1600\n",
       "...           ...\n",
       "2012-12-15   5047\n",
       "2012-12-16   3786\n",
       "2012-12-17   4585\n",
       "2012-12-18   5557\n",
       "2012-12-19   5267\n",
       "\n",
       "[719 rows x 1 columns]"
      ]
     },
     "execution_count": 6,
     "metadata": {},
     "output_type": "execute_result"
    }
   ],
   "source": [
    "# Previsão será por dia\n",
    "base = base.groupby(pd.Grouper(freq = 'D')).sum()\n",
    "base"
   ]
  },
  {
   "cell_type": "code",
   "execution_count": 7,
   "id": "16cd8700-7d5a-4dfd-ac4d-f3c0fe321204",
   "metadata": {},
   "outputs": [
    {
     "data": {
      "text/plain": [
       "(719, 1)"
      ]
     },
     "execution_count": 7,
     "metadata": {},
     "output_type": "execute_result"
    }
   ],
   "source": [
    "# Separação\n",
    "base_teste = base.copy()\n",
    "base_teste.shape"
   ]
  },
  {
   "cell_type": "code",
   "execution_count": 8,
   "id": "93542ee8-01c7-4291-a488-fa26b7710f51",
   "metadata": {},
   "outputs": [
    {
     "data": {
      "text/html": [
       "<div>\n",
       "<style scoped>\n",
       "    .dataframe tbody tr th:only-of-type {\n",
       "        vertical-align: middle;\n",
       "    }\n",
       "\n",
       "    .dataframe tbody tr th {\n",
       "        vertical-align: top;\n",
       "    }\n",
       "\n",
       "    .dataframe thead th {\n",
       "        text-align: right;\n",
       "    }\n",
       "</style>\n",
       "<table border=\"1\" class=\"dataframe\">\n",
       "  <thead>\n",
       "    <tr style=\"text-align: right;\">\n",
       "      <th></th>\n",
       "      <th>count</th>\n",
       "    </tr>\n",
       "    <tr>\n",
       "      <th>datetime</th>\n",
       "      <th></th>\n",
       "    </tr>\n",
       "  </thead>\n",
       "  <tbody>\n",
       "    <tr>\n",
       "      <th>2011-01-01</th>\n",
       "      <td>985</td>\n",
       "    </tr>\n",
       "    <tr>\n",
       "      <th>2011-01-02</th>\n",
       "      <td>801</td>\n",
       "    </tr>\n",
       "    <tr>\n",
       "      <th>2011-01-03</th>\n",
       "      <td>1349</td>\n",
       "    </tr>\n",
       "    <tr>\n",
       "      <th>2011-01-04</th>\n",
       "      <td>1562</td>\n",
       "    </tr>\n",
       "    <tr>\n",
       "      <th>2011-01-05</th>\n",
       "      <td>1600</td>\n",
       "    </tr>\n",
       "    <tr>\n",
       "      <th>...</th>\n",
       "      <td>...</td>\n",
       "    </tr>\n",
       "    <tr>\n",
       "      <th>2012-11-15</th>\n",
       "      <td>5445</td>\n",
       "    </tr>\n",
       "    <tr>\n",
       "      <th>2012-11-16</th>\n",
       "      <td>5698</td>\n",
       "    </tr>\n",
       "    <tr>\n",
       "      <th>2012-11-17</th>\n",
       "      <td>5629</td>\n",
       "    </tr>\n",
       "    <tr>\n",
       "      <th>2012-11-18</th>\n",
       "      <td>4669</td>\n",
       "    </tr>\n",
       "    <tr>\n",
       "      <th>2012-11-19</th>\n",
       "      <td>5499</td>\n",
       "    </tr>\n",
       "  </tbody>\n",
       "</table>\n",
       "<p>689 rows × 1 columns</p>\n",
       "</div>"
      ],
      "text/plain": [
       "            count\n",
       "datetime         \n",
       "2011-01-01    985\n",
       "2011-01-02    801\n",
       "2011-01-03   1349\n",
       "2011-01-04   1562\n",
       "2011-01-05   1600\n",
       "...           ...\n",
       "2012-11-15   5445\n",
       "2012-11-16   5698\n",
       "2012-11-17   5629\n",
       "2012-11-18   4669\n",
       "2012-11-19   5499\n",
       "\n",
       "[689 rows x 1 columns]"
      ]
     },
     "execution_count": 8,
     "metadata": {},
     "output_type": "execute_result"
    }
   ],
   "source": [
    "base_treinamento = base.iloc[0:689,:]\n",
    "base_treinamento"
   ]
  },
  {
   "cell_type": "code",
   "execution_count": 9,
   "id": "3b25ab8b-a3e5-4642-806c-9b4d76c5e107",
   "metadata": {},
   "outputs": [
    {
     "data": {
      "text/plain": [
       "(Timestamp('2011-01-01 00:00:00'), Timestamp('2012-11-19 00:00:00'))"
      ]
     },
     "execution_count": 9,
     "metadata": {},
     "output_type": "execute_result"
    }
   ],
   "source": [
    "# Treinamento desse algoritmo é feito com mais dados de teste (30) a previsão será nessa quantidade de dias. A base de treinamentoo será menor que a base de teste.\n",
    "base_treinamento.index.min(), base_treinamento.index.max()"
   ]
  },
  {
   "cell_type": "code",
   "execution_count": 10,
   "id": "e4fe5612-b445-465f-bffd-dea39f09a648",
   "metadata": {},
   "outputs": [
    {
     "data": {
      "text/plain": [
       "(Timestamp('2011-01-01 00:00:00'), Timestamp('2012-12-19 00:00:00'))"
      ]
     },
     "execution_count": 10,
     "metadata": {},
     "output_type": "execute_result"
    }
   ],
   "source": [
    "base_teste.index.min(), base_teste.index.max()"
   ]
  },
  {
   "cell_type": "code",
   "execution_count": 11,
   "id": "416a5b0c-dc4a-496e-a1a5-2644d72668de",
   "metadata": {},
   "outputs": [],
   "source": [
    "dt_data_inicial = \"2011-01-01\"\n",
    "dt_data_final_treinamento = \"2012-11-19\"\n",
    "dt_previsao_maxima = \"2012-12-19\"\n",
    "\n",
    "faixa_treinamento = pd.date_range(start=dt_data_inicial, end=dt_data_final_treinamento, freq=\"D\")\n",
    "faixa_teste = pd.date_range(start=dt_data_inicial, end=dt_previsao_maxima, freq=\"D\")"
   ]
  },
  {
   "cell_type": "code",
   "execution_count": 12,
   "id": "2e02074b-8015-461c-a1d1-376c6aca24b8",
   "metadata": {},
   "outputs": [
    {
     "data": {
      "text/plain": [
       "(689,)"
      ]
     },
     "execution_count": 12,
     "metadata": {},
     "output_type": "execute_result"
    }
   ],
   "source": [
    "faixa_treinamento.shape"
   ]
  },
  {
   "cell_type": "code",
   "execution_count": 13,
   "id": "23f8223a-ec5d-4791-93df-b0a8211a3c87",
   "metadata": {},
   "outputs": [
    {
     "data": {
      "text/plain": [
       "(719,)"
      ]
     },
     "execution_count": 13,
     "metadata": {},
     "output_type": "execute_result"
    }
   ],
   "source": [
    "faixa_teste.shape "
   ]
  },
  {
   "cell_type": "code",
   "execution_count": 14,
   "id": "25c092a1-af0f-45e1-a50e-df099bc780bd",
   "metadata": {},
   "outputs": [],
   "source": [
    "serie_temporal_treinamento = []\n",
    "serie_temporal_teste = []\n",
    "\n",
    "serie_temporal_treinamento.append(base_treinamento[faixa_treinamento[0]:faixa_treinamento[688]]['count'])\n",
    "serie_temporal_teste.append(base_teste[faixa_teste[0]:faixa_teste[718]]['count'])"
   ]
  },
  {
   "cell_type": "code",
   "execution_count": 15,
   "id": "e5037ca8-b12b-41a8-bddb-57e715758dad",
   "metadata": {},
   "outputs": [
    {
     "data": {
      "text/plain": [
       "(list, list)"
      ]
     },
     "execution_count": 15,
     "metadata": {},
     "output_type": "execute_result"
    }
   ],
   "source": [
    "type(serie_temporal_treinamento), type(serie_temporal_teste)"
   ]
  },
  {
   "cell_type": "code",
   "execution_count": 16,
   "id": "0903ca2c-c5bd-407f-801a-2a86f5529d51",
   "metadata": {},
   "outputs": [
    {
     "data": {
      "text/plain": [
       "[datetime\n",
       " 2011-01-01     985\n",
       " 2011-01-02     801\n",
       " 2011-01-03    1349\n",
       " 2011-01-04    1562\n",
       " 2011-01-05    1600\n",
       "               ... \n",
       " 2012-11-15    5445\n",
       " 2012-11-16    5698\n",
       " 2012-11-17    5629\n",
       " 2012-11-18    4669\n",
       " 2012-11-19    5499\n",
       " Freq: D, Name: count, Length: 689, dtype: int64]"
      ]
     },
     "execution_count": 16,
     "metadata": {},
     "output_type": "execute_result"
    }
   ],
   "source": [
    "serie_temporal_treinamento"
   ]
  },
  {
   "cell_type": "code",
   "execution_count": 17,
   "id": "21ac9b82-a88c-4407-8028-2cd64349c697",
   "metadata": {},
   "outputs": [
    {
     "data": {
      "text/plain": [
       "[datetime\n",
       " 2011-01-01     985\n",
       " 2011-01-02     801\n",
       " 2011-01-03    1349\n",
       " 2011-01-04    1562\n",
       " 2011-01-05    1600\n",
       "               ... \n",
       " 2012-12-15    5047\n",
       " 2012-12-16    3786\n",
       " 2012-12-17    4585\n",
       " 2012-12-18    5557\n",
       " 2012-12-19    5267\n",
       " Freq: D, Name: count, Length: 719, dtype: int64]"
      ]
     },
     "execution_count": 17,
     "metadata": {},
     "output_type": "execute_result"
    }
   ],
   "source": [
    "serie_temporal_teste"
   ]
  },
  {
   "cell_type": "code",
   "execution_count": 18,
   "id": "634379a4-d4c3-46eb-98f0-cfb8f84db3f1",
   "metadata": {},
   "outputs": [
    {
     "data": {
      "text/plain": [
       "(689, 719)"
      ]
     },
     "execution_count": 18,
     "metadata": {},
     "output_type": "execute_result"
    }
   ],
   "source": [
    "len(serie_temporal_treinamento[0]), len(serie_temporal_teste[0])"
   ]
  },
  {
   "cell_type": "code",
   "execution_count": 19,
   "id": "879d30cd-97bc-43f0-b952-e089915d5c57",
   "metadata": {},
   "outputs": [
    {
     "data": {
      "image/png": "[encoded data removed]",
      "text/plain": [
       "<Figure size 1000x1000 with 1 Axes>"
      ]
     },
     "metadata": {},
     "output_type": "display_data"
    }
   ],
   "source": [
    "plt.figure(figsize=(10,10))\n",
    "serie_temporal_teste[0].plot(label = \"Teste\")\n",
    "serie_temporal_treinamento[0].plot(label = \"Treinamento\")\n",
    "plt.legend()\n",
    "plt.show()"
   ]
  },
  {
   "cell_type": "code",
   "execution_count": 23,
   "id": "ddba2cba-ae05-43a6-9b61-ce54527022b2",
   "metadata": {},
   "outputs": [],
   "source": [
    "# Preparando os dados para enviar para o algoritmo de DeepAr\n",
    "\n",
    "# Função de eliminação de valores inválidos\n",
    "def encode_target(ts):\n",
    "    return [x if np.isfinite(x) else \"NaN\" for x in ts]"
   ]
  },
  {
   "cell_type": "code",
   "execution_count": 22,
   "id": "ee1ed87e-a5fa-4ae3-929a-e2c2d665149b",
   "metadata": {
    "collapsed": true,
    "jupyter": {
     "outputs_hidden": true
    }
   },
   "outputs": [
    {
     "data": {
      "text/plain": [
       "[985,\n",
       " 801,\n",
       " 1349,\n",
       " 1562,\n",
       " 1600,\n",
       " 1606,\n",
       " 1510,\n",
       " 959,\n",
       " 822,\n",
       " 1321,\n",
       " 1263,\n",
       " 1162,\n",
       " 1406,\n",
       " 1421,\n",
       " 1248]"
      ]
     },
     "execution_count": 22,
     "metadata": {},
     "output_type": "execute_result"
    }
   ],
   "source": [
    "encode_target(serie_temporal_treinamento[0][0:15])"
   ]
  },
  {
   "cell_type": "code",
   "execution_count": 24,
   "id": "1307d893-89a5-4a11-9b2c-6a41f47697f1",
   "metadata": {},
   "outputs": [],
   "source": [
    "def series_to_obj(ts):\n",
    "    obj = {\"start\": str(ts.index[0]), \"target\": encode_target(ts)}\n",
    "    return obj"
   ]
  },
  {
   "cell_type": "code",
   "execution_count": 25,
   "id": "391876a9-6f42-471d-a77d-75d891ac03a2",
   "metadata": {},
   "outputs": [
    {
     "data": {
      "text/plain": [
       "{'start': '2011-01-01 00:00:00',\n",
       " 'target': [985, 801, 1349, 1562, 1600, 1606, 1510, 959, 822]}"
      ]
     },
     "execution_count": 25,
     "metadata": {},
     "output_type": "execute_result"
    }
   ],
   "source": [
    "series_to_obj(serie_temporal_treinamento[0][0:9])"
   ]
  },
  {
   "cell_type": "code",
   "execution_count": 28,
   "id": "cfdfde9e-b54d-42b9-8ff9-336c557e3ada",
   "metadata": {},
   "outputs": [],
   "source": [
    "# para ultilizar o algoritmo os dados precisam estar em formato json\n",
    "def series_to_jsonline(ts):\n",
    "    return json.dumps(series_to_obj(ts))"
   ]
  },
  {
   "cell_type": "code",
   "execution_count": 29,
   "id": "ff809a22-981f-4eab-9157-83eef55132a7",
   "metadata": {},
   "outputs": [
    {
     "data": {
      "text/plain": [
       "'{\"start\": \"2011-01-01 00:00:00\", \"target\": [985, 801, 1349, 1562, 1600]}'"
      ]
     },
     "execution_count": 29,
     "metadata": {},
     "output_type": "execute_result"
    }
   ],
   "source": [
    "series_to_jsonline(serie_temporal_treinamento[0][0:5])"
   ]
  },
  {
   "cell_type": "code",
   "execution_count": 30,
   "id": "0fea2f23-256a-4449-a44e-6091c1c3883d",
   "metadata": {},
   "outputs": [],
   "source": [
    "# Criando um arquivo JSON com ambas as bases\n",
    "encoding = 'utf-8'\n",
    "arquivo_json_treinamento = 'train.json'\n",
    "arquivo_json_teste = 'test.json'\n",
    "with open(arquivo_json_treinamento, 'wb') as fp:\n",
    "    for ts in serie_temporal_treinamento:\n",
    "        fp.write(series_to_jsonline(ts).encode(encoding))\n",
    "        fp.write('\\n'.encode(encoding))\n",
    "\n",
    "with open(arquivo_json_teste, 'wb') as fp:\n",
    "    for ts in serie_temporal_teste:\n",
    "        fp.write(series_to_jsonline(ts).encode(encoding))\n",
    "        fp.write('\\n'.encode(encoding))\n"
   ]
  },
  {
   "cell_type": "markdown",
   "id": "1ef74eea-e785-460d-9953-db9a2cbbf684",
   "metadata": {},
   "source": [
    "## Configuração SageMaker"
   ]
  },
  {
   "cell_type": "code",
   "execution_count": 31,
   "id": "00513862-8251-45d5-9458-6e9862626483",
   "metadata": {},
   "outputs": [
    {
     "name": "stdout",
     "output_type": "stream",
     "text": [
      "sagemaker.config INFO - Not applying SDK defaults from location: /etc/xdg/sagemaker/config.yaml\n",
      "sagemaker.config INFO - Not applying SDK defaults from location: /home/sagemaker-user/.config/sagemaker/config.yaml\n"
     ]
    }
   ],
   "source": [
    "import boto3\n",
    "import sagemaker"
   ]
  },
  {
   "cell_type": "code",
   "execution_count": 32,
   "id": "b36bf5e0-372b-42a6-8085-80367edad15e",
   "metadata": {},
   "outputs": [
    {
     "name": "stdout",
     "output_type": "stream",
     "text": [
      "Role: arn:aws:iam::831926590523:role/service-role/AmazonSageMaker-ExecutionRole-20250103T092223\n",
      "Localização da base de treinamento: s3://emanuelle-sprint04/datasets/bike/train/train.json\n",
      "Localização da base de teste: s3://emanuelle-sprint04/datasets/bike/test/test.json\n",
      "Modelo será salvo em: s3://emanuelle-sprint04/modelos/bike/deepar/output\n"
     ]
    }
   ],
   "source": [
    "session = sagemaker.Session()\n",
    "role = sagemaker.get_execution_role()\n",
    "job_name = 'deepar-bike'\n",
    "bucket = 'emanuelle-sprint04'\n",
    "subpasta_dataset = 'datasets/bike'\n",
    "subpasta_modelo = 'modelos/bike/deepar'\n",
    "s3_train_data = 's3://{}/{}/train/{}'.format(bucket, subpasta_dataset, 'train.json')\n",
    "s3_test_data = 's3://{}/{}/test/{}'.format(bucket, subpasta_dataset, 'test.json')\n",
    "output_location = 's3://{}/{}/output'.format(bucket, subpasta_modelo)\n",
    "\n",
    "print('Role: {}'.format(role))\n",
    "print('Localização da base de treinamento: {}'.format(s3_train_data))\n",
    "print('Localização da base de teste: {}'.format(s3_test_data))\n",
    "print('Modelo será salvo em: {}'.format(output_location))"
   ]
  },
  {
   "cell_type": "code",
   "execution_count": 33,
   "id": "85bcf90f-1475-4c44-9e0f-4c73f61eeef5",
   "metadata": {},
   "outputs": [],
   "source": [
    "# Função para salvar os arquivos JSON no S3\n",
    "def escreve_s3(arquivo, bucket, nome):\n",
    "    with open(arquivo, 'rb') as f:\n",
    "        return boto3.Session().resource('s3').Bucket(bucket).Object(nome).upload_fileobj(f)"
   ]
  },
  {
   "cell_type": "code",
   "execution_count": 35,
   "id": "ed4aa105-1c11-4c9e-a07d-3e7547bd04a2",
   "metadata": {},
   "outputs": [],
   "source": [
    "# Salvando\n",
    "escreve_s3('train.json', bucket, os.path.join(subpasta_dataset, 'train', 'train.json'))\n",
    "escreve_s3('test.json', bucket, os.path.join(subpasta_dataset, 'test', 'test.json'))"
   ]
  },
  {
   "cell_type": "code",
   "execution_count": 36,
   "id": "6ea977a4-c029-4a20-bb41-6c23c4d32563",
   "metadata": {},
   "outputs": [
    {
     "name": "stdout",
     "output_type": "stream",
     "text": [
      "datasets/bike/train/train.json\n",
      "datasets/bike/test/test.json\n"
     ]
    }
   ],
   "source": [
    "print(os.path.join(subpasta_dataset, 'train', 'train.json'))\n",
    "print(os.path.join(subpasta_dataset, 'test', 'test.json'))"
   ]
  },
  {
   "cell_type": "markdown",
   "id": "ee040c98-964f-4bed-b863-bce2ac828dbc",
   "metadata": {},
   "source": [
    "## Treinamento do DeepAR"
   ]
  },
  {
   "cell_type": "code",
   "execution_count": 37,
   "id": "2a2d8186-0b1d-4ccb-963a-457ce55ba956",
   "metadata": {},
   "outputs": [],
   "source": [
    "container = sagemaker.image_uris.retrieve(framework = 'forecasting-deepar', region = session.boto_region_name)"
   ]
  },
  {
   "cell_type": "code",
   "execution_count": 52,
   "id": "4da22397-201a-4734-adfe-1a4c0495362e",
   "metadata": {},
   "outputs": [],
   "source": [
    "deepar = sagemaker.estimator.Estimator(image_uri = container,\n",
    "                                       role = role,\n",
    "                                       instance_count = 1,\n",
    "                                       instance_type = 'ml.m5.large',\n",
    "                                       output_path = output_location,\n",
    "                                       sagemaker_session = session,\n",
    "                                       base_job_name = job_name,\n",
    "                                       use_spot_instances = False,\n",
    "                                       max_run = 3600)"
   ]
  },
  {
   "cell_type": "code",
   "execution_count": 53,
   "id": "ced2b026-e544-4470-9577-4113528b6b60",
   "metadata": {},
   "outputs": [],
   "source": [
    "# Criando alguns parametros\n",
    "freq = 'D'\n",
    "prediction_length = 30 # dias\n",
    "context_length = 30 # passado para prever"
   ]
  },
  {
   "cell_type": "code",
   "execution_count": 54,
   "id": "0970e65e-1fa9-4004-a95b-7ef1b3151699",
   "metadata": {},
   "outputs": [],
   "source": [
    "hyperparametros = {\n",
    "    'time_freq': freq,\n",
    "    'epochs': \"20\", # épocas para o treinamento da rede neural\n",
    "    'context_length': str(context_length),\n",
    "    'prediction_length': str(prediction_length)\n",
    "}"
   ]
  },
  {
   "cell_type": "code",
   "execution_count": 55,
   "id": "88a7ef37-db29-4ef3-b75a-27adf7b4fa99",
   "metadata": {},
   "outputs": [],
   "source": [
    "deepar.set_hyperparameters(**hyperparametros)"
   ]
  },
  {
   "cell_type": "code",
   "execution_count": 56,
   "id": "48d5b152-f63f-4a37-bec0-93c25713c003",
   "metadata": {},
   "outputs": [
    {
     "data": {
      "text/plain": [
       "{'train': 's3://emanuelle-sprint04/datasets/bike/train/train.json',\n",
       " 'test': 's3://emanuelle-sprint04/datasets/bike/test/test.json'}"
      ]
     },
     "execution_count": 56,
     "metadata": {},
     "output_type": "execute_result"
    }
   ],
   "source": [
    "# Passando para formato de dicionário\n",
    "data_channels = {'train': s3_train_data, 'test': s3_test_data}\n",
    "data_channels"
   ]
  },
  {
   "cell_type": "code",
   "execution_count": 57,
   "id": "88ab0904-9651-4c36-b289-db3c55ac90c7",
   "metadata": {
    "collapsed": true,
    "jupyter": {
     "outputs_hidden": true
    }
   },
   "outputs": [
    {
     "name": "stderr",
     "output_type": "stream",
     "text": [
      "INFO:sagemaker:Creating training-job with name: deepar-bike-2025-01-08-17-28-39-759\n"
     ]
    },
    {
     "name": "stdout",
     "output_type": "stream",
     "text": [
      "2025-01-08 17:28:43 Starting - Starting the training job...\n",
      "2025-01-08 17:28:58 Starting - Preparing the instances for training...\n",
      "2025-01-08 17:29:22 Downloading - Downloading input data...\n",
      "2025-01-08 17:29:57 Downloading - Downloading the training image...............\n",
      "2025-01-08 17:32:29 Training - Training image download completed. Training in progress.\u001b[34mDocker entrypoint called with argument(s): train\u001b[0m\n",
      "\u001b[34mRunning default environment configuration script\u001b[0m\n",
      "\u001b[34mRunning custom environment configuration script\u001b[0m\n",
      "\u001b[34m/opt/amazon/lib/python3.8/site-packages/mxnet/model.py:97: SyntaxWarning: \"is\" with a literal. Did you mean \"==\"?\n",
      "  if num_device is 1 and 'dist' not in kvstore:\u001b[0m\n",
      "\u001b[34m[01/08/2025 17:32:35 INFO 139775033849664] Reading default configuration from /opt/amazon/lib/python3.8/site-packages/algorithm/resources/default-input.json: {'_kvstore': 'auto', '_num_gpus': 'auto', '_num_kv_servers': 'auto', '_tuning_objective_metric': '', 'cardinality': 'auto', 'dropout_rate': '0.10', 'early_stopping_patience': '', 'embedding_dimension': '10', 'learning_rate': '0.001', 'likelihood': 'student-t', 'mini_batch_size': '128', 'num_cells': '40', 'num_dynamic_feat': 'auto', 'num_eval_samples': '100', 'num_layers': '2', 'test_quantiles': '[0.1, 0.2, 0.3, 0.4, 0.5, 0.6, 0.7, 0.8, 0.9]'}\u001b[0m\n",
      "\u001b[34m[01/08/2025 17:32:35 INFO 139775033849664] Merging with provided configuration from /opt/ml/input/config/hyperparameters.json: {'context_length': '30', 'epochs': '20', 'prediction_length': '30', 'time_freq': 'D'}\u001b[0m\n",
      "\u001b[34m[01/08/2025 17:32:35 INFO 139775033849664] Final configuration: {'_kvstore': 'auto', '_num_gpus': 'auto', '_num_kv_servers': 'auto', '_tuning_objective_metric': '', 'cardinality': 'auto', 'dropout_rate': '0.10', 'early_stopping_patience': '', 'embedding_dimension': '10', 'learning_rate': '0.001', 'likelihood': 'student-t', 'mini_batch_size': '128', 'num_cells': '40', 'num_dynamic_feat': 'auto', 'num_eval_samples': '100', 'num_layers': '2', 'test_quantiles': '[0.1, 0.2, 0.3, 0.4, 0.5, 0.6, 0.7, 0.8, 0.9]', 'context_length': '30', 'epochs': '20', 'prediction_length': '30', 'time_freq': 'D'}\u001b[0m\n",
      "\u001b[34mProcess 7 is a worker.\u001b[0m\n",
      "\u001b[34m[01/08/2025 17:32:35 INFO 139775033849664] Detected entry point for worker worker\u001b[0m\n",
      "\u001b[34m[01/08/2025 17:32:35 INFO 139775033849664] random_seed is None\u001b[0m\n",
      "\u001b[34m[01/08/2025 17:32:35 INFO 139775033849664] [cardinality=auto] `cat` field was NOT found in the file `/opt/ml/input/data/train/train.json` and will NOT be used for training.\u001b[0m\n",
      "\u001b[34m[01/08/2025 17:32:35 INFO 139775033849664] [num_dynamic_feat=auto] `dynamic_feat` field was NOT found in the file `/opt/ml/input/data/train/train.json` and will NOT be used for training.\u001b[0m\n",
      "\u001b[34m[01/08/2025 17:32:35 INFO 139775033849664] Training set statistics:\u001b[0m\n",
      "\u001b[34m[01/08/2025 17:32:35 INFO 139775033849664] Integer time series\u001b[0m\n",
      "\u001b[34m[01/08/2025 17:32:35 INFO 139775033849664] number of time series: 1\u001b[0m\n",
      "\u001b[34m[01/08/2025 17:32:35 INFO 139775033849664] number of observations: 689\u001b[0m\n",
      "\u001b[34m[01/08/2025 17:32:35 INFO 139775033849664] mean target length: 689.0\u001b[0m\n",
      "\u001b[34m[01/08/2025 17:32:35 INFO 139775033849664] min/mean/max target: 0.0/2883.1625544267054/8714.0\u001b[0m\n",
      "\u001b[34m[01/08/2025 17:32:35 INFO 139775033849664] mean abs(target): 2883.1625544267054\u001b[0m\n",
      "\u001b[34m[01/08/2025 17:32:35 INFO 139775033849664] contains missing values: no\u001b[0m\n",
      "\u001b[34m[01/08/2025 17:32:35 INFO 139775033849664] Small number of time series. Doing 1280 passes over dataset with prob 1.0 per epoch.\u001b[0m\n",
      "\u001b[34m[01/08/2025 17:32:35 INFO 139775033849664] Test set statistics:\u001b[0m\n",
      "\u001b[34m[01/08/2025 17:32:35 INFO 139775033849664] Integer time series\u001b[0m\n",
      "\u001b[34m[01/08/2025 17:32:35 INFO 139775033849664] number of time series: 1\u001b[0m\n",
      "\u001b[34m[01/08/2025 17:32:35 INFO 139775033849664] number of observations: 719\u001b[0m\n",
      "\u001b[34m[01/08/2025 17:32:35 INFO 139775033849664] mean target length: 719.0\u001b[0m\n",
      "\u001b[34m[01/08/2025 17:32:35 INFO 139775033849664] min/mean/max target: 0.0/2900.5229485396385/8714.0\u001b[0m\n",
      "\u001b[34m[01/08/2025 17:32:35 INFO 139775033849664] mean abs(target): 2900.5229485396385\u001b[0m\n",
      "\u001b[34m[01/08/2025 17:32:35 INFO 139775033849664] contains missing values: no\u001b[0m\n",
      "\u001b[34m/opt/amazon/lib/python3.8/site-packages/algorithm/core/date_feature_set.py:44: FutureWarning: weekofyear and week have been deprecated, please use DatetimeIndex.isocalendar().week instead, which returns a Series.  To exactly reproduce the behavior of week and weekofyear and return an Index, you may call pd.Int64Index(idx.isocalendar().week)\n",
      "  return index.weekofyear / 51.0 - 0.5\u001b[0m\n",
      "\u001b[34m[01/08/2025 17:32:35 INFO 139775033849664] #memory_usage::<batchbuffer> = 16.4599609375 mb\u001b[0m\n",
      "\u001b[34m/opt/amazon/python3.8/lib/python3.8/subprocess.py:848: RuntimeWarning: line buffering (buffering=1) isn't supported in binary mode, the default buffer size will be used\n",
      "  self.stdout = io.open(c2pread, 'rb', bufsize)\u001b[0m\n",
      "\u001b[34m[01/08/2025 17:32:35 INFO 139775033849664] nvidia-smi: took 0.031 seconds to run.\u001b[0m\n",
      "\u001b[34m[01/08/2025 17:32:35 INFO 139775033849664] nvidia-smi identified 0 GPUs.\u001b[0m\n",
      "\u001b[34m[01/08/2025 17:32:35 INFO 139775033849664] Number of GPUs being used: 0\u001b[0m\n",
      "\u001b[34m[01/08/2025 17:32:35 INFO 139775033849664] Create Store: local\u001b[0m\n",
      "\u001b[34m#metrics {\"StartTime\": 1736357555.8067918, \"EndTime\": 1736357555.9492517, \"Dimensions\": {\"Algorithm\": \"AWS/DeepAR\", \"Host\": \"algo-1\", \"Operation\": \"training\"}, \"Metrics\": {\"get_graph.time\": {\"sum\": 141.37697219848633, \"count\": 1, \"min\": 141.37697219848633, \"max\": 141.37697219848633}}}\u001b[0m\n",
      "\u001b[34m[01/08/2025 17:32:35 INFO 139775033849664] Number of GPUs being used: 0\u001b[0m\n",
      "\u001b[34m[01/08/2025 17:32:36 INFO 139775033849664] #memory_usage::<model> = 53 mb\u001b[0m\n",
      "\u001b[34m#metrics {\"StartTime\": 1736357555.9493408, \"EndTime\": 1736357556.2076147, \"Dimensions\": {\"Algorithm\": \"AWS/DeepAR\", \"Host\": \"algo-1\", \"Operation\": \"training\"}, \"Metrics\": {\"initialize.time\": {\"sum\": 400.70319175720215, \"count\": 1, \"min\": 400.70319175720215, \"max\": 400.70319175720215}}}\u001b[0m\n",
      "\u001b[34m[17:32:36] /opt/brazil-pkg-cache/packages/AIAlgorithmsMXNet/AIAlgorithmsMXNet-1.3.x_Cuda_11.1.x.406.0/AL2_x86_64/generic-flavor/src/src/operator/nn/mkldnn/mkldnn_base.cc:74: Allocate 20480 bytes with malloc directly\u001b[0m\n",
      "\u001b[34m[01/08/2025 17:32:37 INFO 139775033849664] Epoch[0] Batch[0] avg_epoch_loss=10.924725\u001b[0m\n",
      "\u001b[34m[01/08/2025 17:32:37 INFO 139775033849664] #quality_metric: host=algo-1, epoch=0, batch=0 train loss <loss>=10.924724578857422\u001b[0m\n",
      "\u001b[34m[01/08/2025 17:32:39 INFO 139775033849664] Epoch[0] Batch[5] avg_epoch_loss=10.106977\u001b[0m\n",
      "\u001b[34m[01/08/2025 17:32:39 INFO 139775033849664] #quality_metric: host=algo-1, epoch=0, batch=5 train loss <loss>=10.106976826985678\u001b[0m\n",
      "\u001b[34m[01/08/2025 17:32:39 INFO 139775033849664] Epoch[0] Batch [5]#011Speed: 279.00 samples/sec#011loss=10.106977\u001b[0m\n",
      "\u001b[34m[01/08/2025 17:32:41 INFO 139775033849664] Epoch[0] Batch[10] avg_epoch_loss=9.737854\u001b[0m\n",
      "\u001b[34m[01/08/2025 17:32:41 INFO 139775033849664] #quality_metric: host=algo-1, epoch=0, batch=10 train loss <loss>=9.294907569885254\u001b[0m\n",
      "\u001b[34m[01/08/2025 17:32:41 INFO 139775033849664] Epoch[0] Batch [10]#011Speed: 345.37 samples/sec#011loss=9.294908\u001b[0m\n",
      "\u001b[34m[01/08/2025 17:32:41 INFO 139775033849664] processed a total of 1381 examples\u001b[0m\n",
      "\u001b[34m#metrics {\"StartTime\": 1736357556.2076797, \"EndTime\": 1736357561.22783, \"Dimensions\": {\"Algorithm\": \"AWS/DeepAR\", \"Host\": \"algo-1\", \"Operation\": \"training\"}, \"Metrics\": {\"epochs\": {\"sum\": 20.0, \"count\": 1, \"min\": 20, \"max\": 20}, \"update.time\": {\"sum\": 5020.0536251068115, \"count\": 1, \"min\": 5020.0536251068115, \"max\": 5020.0536251068115}}}\u001b[0m\n",
      "\u001b[34m[01/08/2025 17:32:41 INFO 139775033849664] #throughput_metric: host=algo-1, train throughput=275.0897254684876 records/second\u001b[0m\n",
      "\u001b[34m[01/08/2025 17:32:41 INFO 139775033849664] #progress_metric: host=algo-1, completed 5.0 % of epochs\u001b[0m\n",
      "\u001b[34m[01/08/2025 17:32:41 INFO 139775033849664] #quality_metric: host=algo-1, epoch=0, train loss <loss>=9.737854437394576\u001b[0m\n",
      "\u001b[34m[01/08/2025 17:32:41 INFO 139775033849664] Epoch[1] Batch[0] avg_epoch_loss=9.188709\u001b[0m\n",
      "\u001b[34m[01/08/2025 17:32:41 INFO 139775033849664] #quality_metric: host=algo-1, epoch=1, batch=0 train loss <loss>=9.188709259033203\u001b[0m\n",
      "\u001b[34m[01/08/2025 17:32:43 INFO 139775033849664] Epoch[1] Batch[5] avg_epoch_loss=9.073453\u001b[0m\n",
      "\u001b[34m[01/08/2025 17:32:43 INFO 139775033849664] #quality_metric: host=algo-1, epoch=1, batch=5 train loss <loss>=9.073453108469645\u001b[0m\n",
      "\u001b[34m[01/08/2025 17:32:43 INFO 139775033849664] Epoch[1] Batch [5]#011Speed: 396.35 samples/sec#011loss=9.073453\u001b[0m\n",
      "\u001b[34m[01/08/2025 17:32:44 INFO 139775033849664] processed a total of 1272 examples\u001b[0m\n",
      "\u001b[34m#metrics {\"StartTime\": 1736357561.2279193, \"EndTime\": 1736357564.8529804, \"Dimensions\": {\"Algorithm\": \"AWS/DeepAR\", \"Host\": \"algo-1\", \"Operation\": \"training\"}, \"Metrics\": {\"update.time\": {\"sum\": 3624.633550643921, \"count\": 1, \"min\": 3624.633550643921, \"max\": 3624.633550643921}}}\u001b[0m\n",
      "\u001b[34m[01/08/2025 17:32:44 INFO 139775033849664] #throughput_metric: host=algo-1, train throughput=350.918800993568 records/second\u001b[0m\n",
      "\u001b[34m[01/08/2025 17:32:44 INFO 139775033849664] #progress_metric: host=algo-1, completed 10.0 % of epochs\u001b[0m\n",
      "\u001b[34m[01/08/2025 17:32:44 INFO 139775033849664] #quality_metric: host=algo-1, epoch=1, train loss <loss>=9.005339336395263\u001b[0m\n",
      "\u001b[34m[01/08/2025 17:32:45 INFO 139775033849664] Epoch[2] Batch[0] avg_epoch_loss=8.984537\u001b[0m\n",
      "\u001b[34m[01/08/2025 17:32:45 INFO 139775033849664] #quality_metric: host=algo-1, epoch=2, batch=0 train loss <loss>=8.984537124633789\u001b[0m\n",
      "\u001b[34m[01/08/2025 17:32:47 INFO 139775033849664] Epoch[2] Batch[5] avg_epoch_loss=8.793607\u001b[0m\n",
      "\u001b[34m[01/08/2025 17:32:47 INFO 139775033849664] #quality_metric: host=algo-1, epoch=2, batch=5 train loss <loss>=8.793606917063395\u001b[0m\n",
      "\u001b[34m[01/08/2025 17:32:47 INFO 139775033849664] Epoch[2] Batch [5]#011Speed: 397.39 samples/sec#011loss=8.793607\u001b[0m\n",
      "\u001b[34m[01/08/2025 17:32:48 INFO 139775033849664] processed a total of 1275 examples\u001b[0m\n",
      "\u001b[34m#metrics {\"StartTime\": 1736357564.8530602, \"EndTime\": 1736357568.5959513, \"Dimensions\": {\"Algorithm\": \"AWS/DeepAR\", \"Host\": \"algo-1\", \"Operation\": \"training\"}, \"Metrics\": {\"update.time\": {\"sum\": 3742.2540187835693, \"count\": 1, \"min\": 3742.2540187835693, \"max\": 3742.2540187835693}}}\u001b[0m\n",
      "\u001b[34m[01/08/2025 17:32:48 INFO 139775033849664] #throughput_metric: host=algo-1, train throughput=340.69186139072934 records/second\u001b[0m\n",
      "\u001b[34m[01/08/2025 17:32:48 INFO 139775033849664] #progress_metric: host=algo-1, completed 15.0 % of epochs\u001b[0m\n",
      "\u001b[34m[01/08/2025 17:32:48 INFO 139775033849664] #quality_metric: host=algo-1, epoch=2, train loss <loss>=8.738798713684082\u001b[0m\n",
      "\u001b[34m[01/08/2025 17:32:49 INFO 139775033849664] Epoch[3] Batch[0] avg_epoch_loss=8.597702\u001b[0m\n",
      "\u001b[34m[01/08/2025 17:32:49 INFO 139775033849664] #quality_metric: host=algo-1, epoch=3, batch=0 train loss <loss>=8.597702026367188\u001b[0m\n",
      "\u001b[34m[01/08/2025 17:32:50 INFO 139775033849664] Epoch[3] Batch[5] avg_epoch_loss=8.569513\u001b[0m\n",
      "\u001b[34m[01/08/2025 17:32:50 INFO 139775033849664] #quality_metric: host=algo-1, epoch=3, batch=5 train loss <loss>=8.569513320922852\u001b[0m\n",
      "\u001b[34m[01/08/2025 17:32:50 INFO 139775033849664] Epoch[3] Batch [5]#011Speed: 382.54 samples/sec#011loss=8.569513\u001b[0m\n",
      "\u001b[34m[01/08/2025 17:32:52 INFO 139775033849664] processed a total of 1266 examples\u001b[0m\n",
      "\u001b[34m#metrics {\"StartTime\": 1736357568.5960321, \"EndTime\": 1736357572.2862737, \"Dimensions\": {\"Algorithm\": \"AWS/DeepAR\", \"Host\": \"algo-1\", \"Operation\": \"training\"}, \"Metrics\": {\"update.time\": {\"sum\": 3689.800500869751, \"count\": 1, \"min\": 3689.800500869751, \"max\": 3689.800500869751}}}\u001b[0m\n",
      "\u001b[34m[01/08/2025 17:32:52 INFO 139775033849664] #throughput_metric: host=algo-1, train throughput=343.0979381902922 records/second\u001b[0m\n",
      "\u001b[34m[01/08/2025 17:32:52 INFO 139775033849664] #progress_metric: host=algo-1, completed 20.0 % of epochs\u001b[0m\n",
      "\u001b[34m[01/08/2025 17:32:52 INFO 139775033849664] #quality_metric: host=algo-1, epoch=3, train loss <loss>=8.531691455841065\u001b[0m\n",
      "\u001b[34m[01/08/2025 17:32:53 INFO 139775033849664] Epoch[4] Batch[0] avg_epoch_loss=8.387517\u001b[0m\n",
      "\u001b[34m[01/08/2025 17:32:53 INFO 139775033849664] #quality_metric: host=algo-1, epoch=4, batch=0 train loss <loss>=8.387516975402832\u001b[0m\n",
      "\u001b[34m[01/08/2025 17:32:54 INFO 139775033849664] Epoch[4] Batch[5] avg_epoch_loss=8.430163\u001b[0m\n",
      "\u001b[34m[01/08/2025 17:32:54 INFO 139775033849664] #quality_metric: host=algo-1, epoch=4, batch=5 train loss <loss>=8.430163224538168\u001b[0m\n",
      "\u001b[34m[01/08/2025 17:32:54 INFO 139775033849664] Epoch[4] Batch [5]#011Speed: 398.58 samples/sec#011loss=8.430163\u001b[0m\n",
      "\u001b[34m[01/08/2025 17:32:56 INFO 139775033849664] Epoch[4] Batch[10] avg_epoch_loss=8.438061\u001b[0m\n",
      "\u001b[34m[01/08/2025 17:32:56 INFO 139775033849664] #quality_metric: host=algo-1, epoch=4, batch=10 train loss <loss>=8.447538948059082\u001b[0m\n",
      "\u001b[34m[01/08/2025 17:32:56 INFO 139775033849664] Epoch[4] Batch [10]#011Speed: 392.81 samples/sec#011loss=8.447539\u001b[0m\n",
      "\u001b[34m[01/08/2025 17:32:56 INFO 139775033849664] processed a total of 1297 examples\u001b[0m\n",
      "\u001b[34m#metrics {\"StartTime\": 1736357572.2863452, \"EndTime\": 1736357576.2963479, \"Dimensions\": {\"Algorithm\": \"AWS/DeepAR\", \"Host\": \"algo-1\", \"Operation\": \"training\"}, \"Metrics\": {\"update.time\": {\"sum\": 4009.253740310669, \"count\": 1, \"min\": 4009.253740310669, \"max\": 4009.253740310669}}}\u001b[0m\n",
      "\u001b[34m[01/08/2025 17:32:56 INFO 139775033849664] #throughput_metric: host=algo-1, train throughput=323.4900963195533 records/second\u001b[0m\n",
      "\u001b[34m[01/08/2025 17:32:56 INFO 139775033849664] #progress_metric: host=algo-1, completed 25.0 % of epochs\u001b[0m\n",
      "\u001b[34m[01/08/2025 17:32:56 INFO 139775033849664] #quality_metric: host=algo-1, epoch=4, train loss <loss>=8.438061280684037\u001b[0m\n",
      "\u001b[34m[01/08/2025 17:32:57 INFO 139775033849664] Epoch[5] Batch[0] avg_epoch_loss=8.326834\u001b[0m\n",
      "\u001b[34m[01/08/2025 17:32:57 INFO 139775033849664] #quality_metric: host=algo-1, epoch=5, batch=0 train loss <loss>=8.326833724975586\u001b[0m\n",
      "\u001b[34m[01/08/2025 17:32:58 INFO 139775033849664] Epoch[5] Batch[5] avg_epoch_loss=8.359890\u001b[0m\n",
      "\u001b[34m[01/08/2025 17:32:58 INFO 139775033849664] #quality_metric: host=algo-1, epoch=5, batch=5 train loss <loss>=8.359890143076578\u001b[0m\n",
      "\u001b[34m[01/08/2025 17:32:58 INFO 139775033849664] Epoch[5] Batch [5]#011Speed: 391.56 samples/sec#011loss=8.359890\u001b[0m\n",
      "\u001b[34m[01/08/2025 17:33:00 INFO 139775033849664] Epoch[5] Batch[10] avg_epoch_loss=8.351398\u001b[0m\n",
      "\u001b[34m[01/08/2025 17:33:00 INFO 139775033849664] #quality_metric: host=algo-1, epoch=5, batch=10 train loss <loss>=8.341207504272461\u001b[0m\n",
      "\u001b[34m[01/08/2025 17:33:00 INFO 139775033849664] Epoch[5] Batch [10]#011Speed: 386.87 samples/sec#011loss=8.341208\u001b[0m\n",
      "\u001b[34m[01/08/2025 17:33:00 INFO 139775033849664] processed a total of 1287 examples\u001b[0m\n",
      "\u001b[34m#metrics {\"StartTime\": 1736357576.296444, \"EndTime\": 1736357580.3463478, \"Dimensions\": {\"Algorithm\": \"AWS/DeepAR\", \"Host\": \"algo-1\", \"Operation\": \"training\"}, \"Metrics\": {\"update.time\": {\"sum\": 4049.525260925293, \"count\": 1, \"min\": 4049.525260925293, \"max\": 4049.525260925293}}}\u001b[0m\n",
      "\u001b[34m[01/08/2025 17:33:00 INFO 139775033849664] #throughput_metric: host=algo-1, train throughput=317.8059757589802 records/second\u001b[0m\n",
      "\u001b[34m[01/08/2025 17:33:00 INFO 139775033849664] #progress_metric: host=algo-1, completed 30.0 % of epochs\u001b[0m\n",
      "\u001b[34m[01/08/2025 17:33:00 INFO 139775033849664] #quality_metric: host=algo-1, epoch=5, train loss <loss>=8.351398034529252\u001b[0m\n",
      "\u001b[34m[01/08/2025 17:33:01 INFO 139775033849664] Epoch[6] Batch[0] avg_epoch_loss=8.321421\u001b[0m\n",
      "\u001b[34m[01/08/2025 17:33:01 INFO 139775033849664] #quality_metric: host=algo-1, epoch=6, batch=0 train loss <loss>=8.321420669555664\u001b[0m\n",
      "\u001b[34m[01/08/2025 17:33:02 INFO 139775033849664] Epoch[6] Batch[5] avg_epoch_loss=8.261120\u001b[0m\n",
      "\u001b[34m[01/08/2025 17:33:02 INFO 139775033849664] #quality_metric: host=algo-1, epoch=6, batch=5 train loss <loss>=8.261120001475016\u001b[0m\n",
      "\u001b[34m[01/08/2025 17:33:02 INFO 139775033849664] Epoch[6] Batch [5]#011Speed: 372.46 samples/sec#011loss=8.261120\u001b[0m\n",
      "\u001b[34m[01/08/2025 17:33:04 INFO 139775033849664] Epoch[6] Batch[10] avg_epoch_loss=8.268428\u001b[0m\n",
      "\u001b[34m[01/08/2025 17:33:04 INFO 139775033849664] #quality_metric: host=algo-1, epoch=6, batch=10 train loss <loss>=8.277198219299317\u001b[0m\n",
      "\u001b[34m[01/08/2025 17:33:04 INFO 139775033849664] Epoch[6] Batch [10]#011Speed: 393.45 samples/sec#011loss=8.277198\u001b[0m\n",
      "\u001b[34m[01/08/2025 17:33:04 INFO 139775033849664] processed a total of 1290 examples\u001b[0m\n",
      "\u001b[34m#metrics {\"StartTime\": 1736357580.346429, \"EndTime\": 1736357584.422856, \"Dimensions\": {\"Algorithm\": \"AWS/DeepAR\", \"Host\": \"algo-1\", \"Operation\": \"training\"}, \"Metrics\": {\"update.time\": {\"sum\": 4076.042413711548, \"count\": 1, \"min\": 4076.042413711548, \"max\": 4076.042413711548}}}\u001b[0m\n",
      "\u001b[34m[01/08/2025 17:33:04 INFO 139775033849664] #throughput_metric: host=algo-1, train throughput=316.47629451278704 records/second\u001b[0m\n",
      "\u001b[34m[01/08/2025 17:33:04 INFO 139775033849664] #progress_metric: host=algo-1, completed 35.0 % of epochs\u001b[0m\n",
      "\u001b[34m[01/08/2025 17:33:04 INFO 139775033849664] #quality_metric: host=algo-1, epoch=6, train loss <loss>=8.268428282304244\u001b[0m\n",
      "\u001b[34m[01/08/2025 17:33:05 INFO 139775033849664] Epoch[7] Batch[0] avg_epoch_loss=8.201153\u001b[0m\n",
      "\u001b[34m[01/08/2025 17:33:05 INFO 139775033849664] #quality_metric: host=algo-1, epoch=7, batch=0 train loss <loss>=8.201152801513672\u001b[0m\n",
      "\u001b[34m[01/08/2025 17:33:06 INFO 139775033849664] Epoch[7] Batch[5] avg_epoch_loss=8.206900\u001b[0m\n",
      "\u001b[34m[01/08/2025 17:33:06 INFO 139775033849664] #quality_metric: host=algo-1, epoch=7, batch=5 train loss <loss>=8.206900437672934\u001b[0m\n",
      "\u001b[34m[01/08/2025 17:33:06 INFO 139775033849664] Epoch[7] Batch [5]#011Speed: 386.84 samples/sec#011loss=8.206900\u001b[0m\n",
      "\u001b[34m[01/08/2025 17:33:08 INFO 139775033849664] processed a total of 1235 examples\u001b[0m\n",
      "\u001b[34m#metrics {\"StartTime\": 1736357584.4229174, \"EndTime\": 1736357588.1619482, \"Dimensions\": {\"Algorithm\": \"AWS/DeepAR\", \"Host\": \"algo-1\", \"Operation\": \"training\"}, \"Metrics\": {\"update.time\": {\"sum\": 3738.370418548584, \"count\": 1, \"min\": 3738.370418548584, \"max\": 3738.370418548584}}}\u001b[0m\n",
      "\u001b[34m[01/08/2025 17:33:08 INFO 139775033849664] #throughput_metric: host=algo-1, train throughput=330.34520538999425 records/second\u001b[0m\n",
      "\u001b[34m[01/08/2025 17:33:08 INFO 139775033849664] #progress_metric: host=algo-1, completed 40.0 % of epochs\u001b[0m\n",
      "\u001b[34m[01/08/2025 17:33:08 INFO 139775033849664] #quality_metric: host=algo-1, epoch=7, train loss <loss>=8.168288707733154\u001b[0m\n",
      "\u001b[34m[01/08/2025 17:33:08 INFO 139775033849664] Epoch[8] Batch[0] avg_epoch_loss=8.220458\u001b[0m\n",
      "\u001b[34m[01/08/2025 17:33:08 INFO 139775033849664] #quality_metric: host=algo-1, epoch=8, batch=0 train loss <loss>=8.220458030700684\u001b[0m\n",
      "\u001b[34m[01/08/2025 17:33:10 INFO 139775033849664] Epoch[8] Batch[5] avg_epoch_loss=8.094803\u001b[0m\n",
      "\u001b[34m[01/08/2025 17:33:10 INFO 139775033849664] #quality_metric: host=algo-1, epoch=8, batch=5 train loss <loss>=8.09480325380961\u001b[0m\n",
      "\u001b[34m[01/08/2025 17:33:10 INFO 139775033849664] Epoch[8] Batch [5]#011Speed: 394.20 samples/sec#011loss=8.094803\u001b[0m\n",
      "\u001b[34m[01/08/2025 17:33:12 INFO 139775033849664] Epoch[8] Batch[10] avg_epoch_loss=8.043006\u001b[0m\n",
      "\u001b[34m[01/08/2025 17:33:12 INFO 139775033849664] #quality_metric: host=algo-1, epoch=8, batch=10 train loss <loss>=7.980849552154541\u001b[0m\n",
      "\u001b[34m[01/08/2025 17:33:12 INFO 139775033849664] Epoch[8] Batch [10]#011Speed: 389.54 samples/sec#011loss=7.980850\u001b[0m\n",
      "\u001b[34m[01/08/2025 17:33:12 INFO 139775033849664] processed a total of 1341 examples\u001b[0m\n",
      "\u001b[34m#metrics {\"StartTime\": 1736357588.1620555, \"EndTime\": 1736357592.1549397, \"Dimensions\": {\"Algorithm\": \"AWS/DeepAR\", \"Host\": \"algo-1\", \"Operation\": \"training\"}, \"Metrics\": {\"update.time\": {\"sum\": 3992.1178817749023, \"count\": 1, \"min\": 3992.1178817749023, \"max\": 3992.1178817749023}}}\u001b[0m\n",
      "\u001b[34m[01/08/2025 17:33:12 INFO 139775033849664] #throughput_metric: host=algo-1, train throughput=335.9027565462397 records/second\u001b[0m\n",
      "\u001b[34m[01/08/2025 17:33:12 INFO 139775033849664] #progress_metric: host=algo-1, completed 45.0 % of epochs\u001b[0m\n",
      "\u001b[34m[01/08/2025 17:33:12 INFO 139775033849664] #quality_metric: host=algo-1, epoch=8, train loss <loss>=8.04300611669367\u001b[0m\n",
      "\u001b[34m[01/08/2025 17:33:12 INFO 139775033849664] Epoch[9] Batch[0] avg_epoch_loss=8.113823\u001b[0m\n",
      "\u001b[34m[01/08/2025 17:33:12 INFO 139775033849664] #quality_metric: host=algo-1, epoch=9, batch=0 train loss <loss>=8.113822937011719\u001b[0m\n",
      "\u001b[34m[01/08/2025 17:33:14 INFO 139775033849664] Epoch[9] Batch[5] avg_epoch_loss=8.018491\u001b[0m\n",
      "\u001b[34m[01/08/2025 17:33:14 INFO 139775033849664] #quality_metric: host=algo-1, epoch=9, batch=5 train loss <loss>=8.01849071184794\u001b[0m\n",
      "\u001b[34m[01/08/2025 17:33:14 INFO 139775033849664] Epoch[9] Batch [5]#011Speed: 389.67 samples/sec#011loss=8.018491\u001b[0m\n",
      "\u001b[34m[01/08/2025 17:33:15 INFO 139775033849664] processed a total of 1272 examples\u001b[0m\n",
      "\u001b[34m#metrics {\"StartTime\": 1736357592.1550155, \"EndTime\": 1736357595.8467767, \"Dimensions\": {\"Algorithm\": \"AWS/DeepAR\", \"Host\": \"algo-1\", \"Operation\": \"training\"}, \"Metrics\": {\"update.time\": {\"sum\": 3691.3809776306152, \"count\": 1, \"min\": 3691.3809776306152, \"max\": 3691.3809776306152}}}\u001b[0m\n",
      "\u001b[34m[01/08/2025 17:33:15 INFO 139775033849664] #throughput_metric: host=algo-1, train throughput=344.57553645335554 records/second\u001b[0m\n",
      "\u001b[34m[01/08/2025 17:33:15 INFO 139775033849664] #progress_metric: host=algo-1, completed 50.0 % of epochs\u001b[0m\n",
      "\u001b[34m[01/08/2025 17:33:15 INFO 139775033849664] #quality_metric: host=algo-1, epoch=9, train loss <loss>=8.024226570129395\u001b[0m\n",
      "\u001b[34m[01/08/2025 17:33:16 INFO 139775033849664] Epoch[10] Batch[0] avg_epoch_loss=7.900764\u001b[0m\n",
      "\u001b[34m[01/08/2025 17:33:16 INFO 139775033849664] #quality_metric: host=algo-1, epoch=10, batch=0 train loss <loss>=7.900763511657715\u001b[0m\n",
      "\u001b[34m[01/08/2025 17:33:18 INFO 139775033849664] Epoch[10] Batch[5] avg_epoch_loss=7.932654\u001b[0m\n",
      "\u001b[34m[01/08/2025 17:33:18 INFO 139775033849664] #quality_metric: host=algo-1, epoch=10, batch=5 train loss <loss>=7.93265422185262\u001b[0m\n",
      "\u001b[34m[01/08/2025 17:33:18 INFO 139775033849664] Epoch[10] Batch [5]#011Speed: 394.71 samples/sec#011loss=7.932654\u001b[0m\n",
      "\u001b[34m[01/08/2025 17:33:19 INFO 139775033849664] processed a total of 1266 examples\u001b[0m\n",
      "\u001b[34m#metrics {\"StartTime\": 1736357595.8468585, \"EndTime\": 1736357599.4986572, \"Dimensions\": {\"Algorithm\": \"AWS/DeepAR\", \"Host\": \"algo-1\", \"Operation\": \"training\"}, \"Metrics\": {\"update.time\": {\"sum\": 3651.4511108398438, \"count\": 1, \"min\": 3651.4511108398438, \"max\": 3651.4511108398438}}}\u001b[0m\n",
      "\u001b[34m[01/08/2025 17:33:19 INFO 139775033849664] #throughput_metric: host=algo-1, train throughput=346.70178595540114 records/second\u001b[0m\n",
      "\u001b[34m[01/08/2025 17:33:19 INFO 139775033849664] #progress_metric: host=algo-1, completed 55.0 % of epochs\u001b[0m\n",
      "\u001b[34m[01/08/2025 17:33:19 INFO 139775033849664] #quality_metric: host=algo-1, epoch=10, train loss <loss>=7.938691473007202\u001b[0m\n",
      "\u001b[34m[01/08/2025 17:33:20 INFO 139775033849664] Epoch[11] Batch[0] avg_epoch_loss=7.839088\u001b[0m\n",
      "\u001b[34m[01/08/2025 17:33:20 INFO 139775033849664] #quality_metric: host=algo-1, epoch=11, batch=0 train loss <loss>=7.839087963104248\u001b[0m\n",
      "\u001b[34m[01/08/2025 17:33:21 INFO 139775033849664] Epoch[11] Batch[5] avg_epoch_loss=7.845598\u001b[0m\n",
      "\u001b[34m[01/08/2025 17:33:21 INFO 139775033849664] #quality_metric: host=algo-1, epoch=11, batch=5 train loss <loss>=7.845598061879476\u001b[0m\n",
      "\u001b[34m[01/08/2025 17:33:21 INFO 139775033849664] Epoch[11] Batch [5]#011Speed: 395.59 samples/sec#011loss=7.845598\u001b[0m\n",
      "\u001b[34m[01/08/2025 17:33:23 INFO 139775033849664] Epoch[11] Batch[10] avg_epoch_loss=7.802319\u001b[0m\n",
      "\u001b[34m[01/08/2025 17:33:23 INFO 139775033849664] #quality_metric: host=algo-1, epoch=11, batch=10 train loss <loss>=7.750384140014648\u001b[0m\n",
      "\u001b[34m[01/08/2025 17:33:23 INFO 139775033849664] Epoch[11] Batch [10]#011Speed: 391.03 samples/sec#011loss=7.750384\u001b[0m\n",
      "\u001b[34m[01/08/2025 17:33:23 INFO 139775033849664] processed a total of 1285 examples\u001b[0m\n",
      "\u001b[34m#metrics {\"StartTime\": 1736357599.4987266, \"EndTime\": 1736357603.4884882, \"Dimensions\": {\"Algorithm\": \"AWS/DeepAR\", \"Host\": \"algo-1\", \"Operation\": \"training\"}, \"Metrics\": {\"update.time\": {\"sum\": 3989.0568256378174, \"count\": 1, \"min\": 3989.0568256378174, \"max\": 3989.0568256378174}}}\u001b[0m\n",
      "\u001b[34m[01/08/2025 17:33:23 INFO 139775033849664] #throughput_metric: host=algo-1, train throughput=322.12198567996273 records/second\u001b[0m\n",
      "\u001b[34m[01/08/2025 17:33:23 INFO 139775033849664] #progress_metric: host=algo-1, completed 60.0 % of epochs\u001b[0m\n",
      "\u001b[34m[01/08/2025 17:33:23 INFO 139775033849664] #quality_metric: host=algo-1, epoch=11, train loss <loss>=7.802319006486372\u001b[0m\n",
      "\u001b[34m[01/08/2025 17:33:24 INFO 139775033849664] Epoch[12] Batch[0] avg_epoch_loss=7.810751\u001b[0m\n",
      "\u001b[34m[01/08/2025 17:33:24 INFO 139775033849664] #quality_metric: host=algo-1, epoch=12, batch=0 train loss <loss>=7.810750961303711\u001b[0m\n",
      "\u001b[34m[01/08/2025 17:33:25 INFO 139775033849664] Epoch[12] Batch[5] avg_epoch_loss=7.787491\u001b[0m\n",
      "\u001b[34m[01/08/2025 17:33:25 INFO 139775033849664] #quality_metric: host=algo-1, epoch=12, batch=5 train loss <loss>=7.787490685780843\u001b[0m\n",
      "\u001b[34m[01/08/2025 17:33:25 INFO 139775033849664] Epoch[12] Batch [5]#011Speed: 392.43 samples/sec#011loss=7.787491\u001b[0m\n",
      "\u001b[34m[01/08/2025 17:33:27 INFO 139775033849664] processed a total of 1280 examples\u001b[0m\n",
      "\u001b[34m#metrics {\"StartTime\": 1736357603.4885685, \"EndTime\": 1736357607.1546662, \"Dimensions\": {\"Algorithm\": \"AWS/DeepAR\", \"Host\": \"algo-1\", \"Operation\": \"training\"}, \"Metrics\": {\"update.time\": {\"sum\": 3665.6763553619385, \"count\": 1, \"min\": 3665.6763553619385, \"max\": 3665.6763553619385}}}\u001b[0m\n",
      "\u001b[34m[01/08/2025 17:33:27 INFO 139775033849664] #throughput_metric: host=algo-1, train throughput=349.1615097679794 records/second\u001b[0m\n",
      "\u001b[34m[01/08/2025 17:33:27 INFO 139775033849664] #progress_metric: host=algo-1, completed 65.0 % of epochs\u001b[0m\n",
      "\u001b[34m[01/08/2025 17:33:27 INFO 139775033849664] #quality_metric: host=algo-1, epoch=12, train loss <loss>=7.767130279541016\u001b[0m\n",
      "\u001b[34m[01/08/2025 17:33:27 INFO 139775033849664] Epoch[13] Batch[0] avg_epoch_loss=7.749357\u001b[0m\n",
      "\u001b[34m[01/08/2025 17:33:27 INFO 139775033849664] #quality_metric: host=algo-1, epoch=13, batch=0 train loss <loss>=7.749357223510742\u001b[0m\n",
      "\u001b[34m[01/08/2025 17:33:29 INFO 139775033849664] Epoch[13] Batch[5] avg_epoch_loss=7.725262\u001b[0m\n",
      "\u001b[34m[01/08/2025 17:33:29 INFO 139775033849664] #quality_metric: host=algo-1, epoch=13, batch=5 train loss <loss>=7.725261688232422\u001b[0m\n",
      "\u001b[34m[01/08/2025 17:33:29 INFO 139775033849664] Epoch[13] Batch [5]#011Speed: 389.82 samples/sec#011loss=7.725262\u001b[0m\n",
      "\u001b[34m[01/08/2025 17:33:31 INFO 139775033849664] Epoch[13] Batch[10] avg_epoch_loss=7.725003\u001b[0m\n",
      "\u001b[34m[01/08/2025 17:33:31 INFO 139775033849664] #quality_metric: host=algo-1, epoch=13, batch=10 train loss <loss>=7.724691772460938\u001b[0m\n",
      "\u001b[34m[01/08/2025 17:33:31 INFO 139775033849664] Epoch[13] Batch [10]#011Speed: 376.29 samples/sec#011loss=7.724692\u001b[0m\n",
      "\u001b[34m[01/08/2025 17:33:31 INFO 139775033849664] processed a total of 1349 examples\u001b[0m\n",
      "\u001b[34m#metrics {\"StartTime\": 1736357607.1548436, \"EndTime\": 1736357611.2290823, \"Dimensions\": {\"Algorithm\": \"AWS/DeepAR\", \"Host\": \"algo-1\", \"Operation\": \"training\"}, \"Metrics\": {\"update.time\": {\"sum\": 4073.573350906372, \"count\": 1, \"min\": 4073.573350906372, \"max\": 4073.573350906372}}}\u001b[0m\n",
      "\u001b[34m[01/08/2025 17:33:31 INFO 139775033849664] #throughput_metric: host=algo-1, train throughput=331.1507425426038 records/second\u001b[0m\n",
      "\u001b[34m[01/08/2025 17:33:31 INFO 139775033849664] #progress_metric: host=algo-1, completed 70.0 % of epochs\u001b[0m\n",
      "\u001b[34m[01/08/2025 17:33:31 INFO 139775033849664] #quality_metric: host=algo-1, epoch=13, train loss <loss>=7.72500263560902\u001b[0m\n",
      "\u001b[34m[01/08/2025 17:33:31 INFO 139775033849664] Epoch[14] Batch[0] avg_epoch_loss=7.681014\u001b[0m\n",
      "\u001b[34m[01/08/2025 17:33:31 INFO 139775033849664] #quality_metric: host=algo-1, epoch=14, batch=0 train loss <loss>=7.681014060974121\u001b[0m\n",
      "\u001b[34m[01/08/2025 17:33:33 INFO 139775033849664] Epoch[14] Batch[5] avg_epoch_loss=7.660722\u001b[0m\n",
      "\u001b[34m[01/08/2025 17:33:33 INFO 139775033849664] #quality_metric: host=algo-1, epoch=14, batch=5 train loss <loss>=7.660721619923909\u001b[0m\n",
      "\u001b[34m[01/08/2025 17:33:33 INFO 139775033849664] Epoch[14] Batch [5]#011Speed: 394.30 samples/sec#011loss=7.660722\u001b[0m\n",
      "\u001b[34m[01/08/2025 17:33:35 INFO 139775033849664] Epoch[14] Batch[10] avg_epoch_loss=7.646179\u001b[0m\n",
      "\u001b[34m[01/08/2025 17:33:35 INFO 139775033849664] #quality_metric: host=algo-1, epoch=14, batch=10 train loss <loss>=7.628728771209717\u001b[0m\n",
      "\u001b[34m[01/08/2025 17:33:35 INFO 139775033849664] Epoch[14] Batch [10]#011Speed: 391.66 samples/sec#011loss=7.628729\u001b[0m\n",
      "\u001b[34m[01/08/2025 17:33:35 INFO 139775033849664] processed a total of 1301 examples\u001b[0m\n",
      "\u001b[34m#metrics {\"StartTime\": 1736357611.2291481, \"EndTime\": 1736357615.207044, \"Dimensions\": {\"Algorithm\": \"AWS/DeepAR\", \"Host\": \"algo-1\", \"Operation\": \"training\"}, \"Metrics\": {\"update.time\": {\"sum\": 3977.4842262268066, \"count\": 1, \"min\": 3977.4842262268066, \"max\": 3977.4842262268066}}}\u001b[0m\n",
      "\u001b[34m[01/08/2025 17:33:35 INFO 139775033849664] #throughput_metric: host=algo-1, train throughput=327.0800416175508 records/second\u001b[0m\n",
      "\u001b[34m[01/08/2025 17:33:35 INFO 139775033849664] #progress_metric: host=algo-1, completed 75.0 % of epochs\u001b[0m\n",
      "\u001b[34m[01/08/2025 17:33:35 INFO 139775033849664] #quality_metric: host=algo-1, epoch=14, train loss <loss>=7.646179415962913\u001b[0m\n",
      "\u001b[34m[01/08/2025 17:33:35 INFO 139775033849664] Epoch[15] Batch[0] avg_epoch_loss=7.723059\u001b[0m\n",
      "\u001b[34m[01/08/2025 17:33:35 INFO 139775033849664] #quality_metric: host=algo-1, epoch=15, batch=0 train loss <loss>=7.723058700561523\u001b[0m\n",
      "\u001b[34m[01/08/2025 17:33:37 INFO 139775033849664] Epoch[15] Batch[5] avg_epoch_loss=7.637630\u001b[0m\n",
      "\u001b[34m[01/08/2025 17:33:37 INFO 139775033849664] #quality_metric: host=algo-1, epoch=15, batch=5 train loss <loss>=7.637629985809326\u001b[0m\n",
      "\u001b[34m[01/08/2025 17:33:37 INFO 139775033849664] Epoch[15] Batch [5]#011Speed: 399.62 samples/sec#011loss=7.637630\u001b[0m\n",
      "\u001b[34m[01/08/2025 17:33:38 INFO 139775033849664] processed a total of 1265 examples\u001b[0m\n",
      "\u001b[34m#metrics {\"StartTime\": 1736357615.2071247, \"EndTime\": 1736357618.8619561, \"Dimensions\": {\"Algorithm\": \"AWS/DeepAR\", \"Host\": \"algo-1\", \"Operation\": \"training\"}, \"Metrics\": {\"update.time\": {\"sum\": 3654.4792652130127, \"count\": 1, \"min\": 3654.4792652130127, \"max\": 3654.4792652130127}}}\u001b[0m\n",
      "\u001b[34m[01/08/2025 17:33:38 INFO 139775033849664] #throughput_metric: host=algo-1, train throughput=346.14088270647505 records/second\u001b[0m\n",
      "\u001b[34m[01/08/2025 17:33:38 INFO 139775033849664] #progress_metric: host=algo-1, completed 80.0 % of epochs\u001b[0m\n",
      "\u001b[34m[01/08/2025 17:33:38 INFO 139775033849664] #quality_metric: host=algo-1, epoch=15, train loss <loss>=7.629272031784057\u001b[0m\n",
      "\u001b[34m[01/08/2025 17:33:39 INFO 139775033849664] Epoch[16] Batch[0] avg_epoch_loss=7.575064\u001b[0m\n",
      "\u001b[34m[01/08/2025 17:33:39 INFO 139775033849664] #quality_metric: host=algo-1, epoch=16, batch=0 train loss <loss>=7.575064182281494\u001b[0m\n",
      "\u001b[34m[01/08/2025 17:33:41 INFO 139775033849664] Epoch[16] Batch[5] avg_epoch_loss=7.552607\u001b[0m\n",
      "\u001b[34m[01/08/2025 17:33:41 INFO 139775033849664] #quality_metric: host=algo-1, epoch=16, batch=5 train loss <loss>=7.5526072184244795\u001b[0m\n",
      "\u001b[34m[01/08/2025 17:33:41 INFO 139775033849664] Epoch[16] Batch [5]#011Speed: 392.56 samples/sec#011loss=7.552607\u001b[0m\n",
      "\u001b[34m[01/08/2025 17:33:42 INFO 139775033849664] Epoch[16] Batch[10] avg_epoch_loss=7.354821\u001b[0m\n",
      "\u001b[34m[01/08/2025 17:33:42 INFO 139775033849664] #quality_metric: host=algo-1, epoch=16, batch=10 train loss <loss>=7.117478084564209\u001b[0m\n",
      "\u001b[34m[01/08/2025 17:33:42 INFO 139775033849664] Epoch[16] Batch [10]#011Speed: 396.35 samples/sec#011loss=7.117478\u001b[0m\n",
      "\u001b[34m[01/08/2025 17:33:42 INFO 139775033849664] processed a total of 1290 examples\u001b[0m\n",
      "\u001b[34m#metrics {\"StartTime\": 1736357618.8620253, \"EndTime\": 1736357622.8405068, \"Dimensions\": {\"Algorithm\": \"AWS/DeepAR\", \"Host\": \"algo-1\", \"Operation\": \"training\"}, \"Metrics\": {\"update.time\": {\"sum\": 3977.848768234253, \"count\": 1, \"min\": 3977.848768234253, \"max\": 3977.848768234253}}}\u001b[0m\n",
      "\u001b[34m[01/08/2025 17:33:42 INFO 139775033849664] #throughput_metric: host=algo-1, train throughput=324.286131174771 records/second\u001b[0m\n",
      "\u001b[34m[01/08/2025 17:33:42 INFO 139775033849664] #progress_metric: host=algo-1, completed 85.0 % of epochs\u001b[0m\n",
      "\u001b[34m[01/08/2025 17:33:42 INFO 139775033849664] #quality_metric: host=algo-1, epoch=16, train loss <loss>=7.354821248487993\u001b[0m\n",
      "\u001b[34m[01/08/2025 17:33:43 INFO 139775033849664] Epoch[17] Batch[0] avg_epoch_loss=7.566985\u001b[0m\n",
      "\u001b[34m[01/08/2025 17:33:43 INFO 139775033849664] #quality_metric: host=algo-1, epoch=17, batch=0 train loss <loss>=7.5669846534729\u001b[0m\n",
      "\u001b[34m[01/08/2025 17:33:45 INFO 139775033849664] Epoch[17] Batch[5] avg_epoch_loss=7.520075\u001b[0m\n",
      "\u001b[34m[01/08/2025 17:33:45 INFO 139775033849664] #quality_metric: host=algo-1, epoch=17, batch=5 train loss <loss>=7.520074844360352\u001b[0m\n",
      "\u001b[34m[01/08/2025 17:33:45 INFO 139775033849664] Epoch[17] Batch [5]#011Speed: 398.83 samples/sec#011loss=7.520075\u001b[0m\n",
      "\u001b[34m[01/08/2025 17:33:46 INFO 139775033849664] Epoch[17] Batch[10] avg_epoch_loss=7.566516\u001b[0m\n",
      "\u001b[34m[01/08/2025 17:33:46 INFO 139775033849664] #quality_metric: host=algo-1, epoch=17, batch=10 train loss <loss>=7.622245502471924\u001b[0m\n",
      "\u001b[34m[01/08/2025 17:33:46 INFO 139775033849664] Epoch[17] Batch [10]#011Speed: 389.37 samples/sec#011loss=7.622246\u001b[0m\n",
      "\u001b[34m[01/08/2025 17:33:46 INFO 139775033849664] processed a total of 1360 examples\u001b[0m\n",
      "\u001b[34m#metrics {\"StartTime\": 1736357622.8405797, \"EndTime\": 1736357626.8372047, \"Dimensions\": {\"Algorithm\": \"AWS/DeepAR\", \"Host\": \"algo-1\", \"Operation\": \"training\"}, \"Metrics\": {\"update.time\": {\"sum\": 3996.2358474731445, \"count\": 1, \"min\": 3996.2358474731445, \"max\": 3996.2358474731445}}}\u001b[0m\n",
      "\u001b[34m[01/08/2025 17:33:46 INFO 139775033849664] #throughput_metric: host=algo-1, train throughput=340.3012713660956 records/second\u001b[0m\n",
      "\u001b[34m[01/08/2025 17:33:46 INFO 139775033849664] #progress_metric: host=algo-1, completed 90.0 % of epochs\u001b[0m\n",
      "\u001b[34m[01/08/2025 17:33:46 INFO 139775033849664] #quality_metric: host=algo-1, epoch=17, train loss <loss>=7.566516052592885\u001b[0m\n",
      "\u001b[34m[01/08/2025 17:33:47 INFO 139775033849664] Epoch[18] Batch[0] avg_epoch_loss=7.676655\u001b[0m\n",
      "\u001b[34m[01/08/2025 17:33:47 INFO 139775033849664] #quality_metric: host=algo-1, epoch=18, batch=0 train loss <loss>=7.676655292510986\u001b[0m\n",
      "\u001b[34m[01/08/2025 17:33:49 INFO 139775033849664] Epoch[18] Batch[5] avg_epoch_loss=7.646140\u001b[0m\n",
      "\u001b[34m[01/08/2025 17:33:49 INFO 139775033849664] #quality_metric: host=algo-1, epoch=18, batch=5 train loss <loss>=7.646139939626058\u001b[0m\n",
      "\u001b[34m[01/08/2025 17:33:49 INFO 139775033849664] Epoch[18] Batch [5]#011Speed: 397.02 samples/sec#011loss=7.646140\u001b[0m\n",
      "\u001b[34m[01/08/2025 17:33:50 INFO 139775033849664] processed a total of 1227 examples\u001b[0m\n",
      "\u001b[34m#metrics {\"StartTime\": 1736357626.837304, \"EndTime\": 1736357630.5208447, \"Dimensions\": {\"Algorithm\": \"AWS/DeepAR\", \"Host\": \"algo-1\", \"Operation\": \"training\"}, \"Metrics\": {\"update.time\": {\"sum\": 3682.9094886779785, \"count\": 1, \"min\": 3682.9094886779785, \"max\": 3682.9094886779785}}}\u001b[0m\n",
      "\u001b[34m[01/08/2025 17:33:50 INFO 139775033849664] #throughput_metric: host=algo-1, train throughput=333.15114894952484 records/second\u001b[0m\n",
      "\u001b[34m[01/08/2025 17:33:50 INFO 139775033849664] #progress_metric: host=algo-1, completed 95.0 % of epochs\u001b[0m\n",
      "\u001b[34m[01/08/2025 17:33:50 INFO 139775033849664] #quality_metric: host=algo-1, epoch=18, train loss <loss>=7.644179105758667\u001b[0m\n",
      "\u001b[34m[01/08/2025 17:33:51 INFO 139775033849664] Epoch[19] Batch[0] avg_epoch_loss=7.656150\u001b[0m\n",
      "\u001b[34m[01/08/2025 17:33:51 INFO 139775033849664] #quality_metric: host=algo-1, epoch=19, batch=0 train loss <loss>=7.6561503410339355\u001b[0m\n",
      "\u001b[34m[01/08/2025 17:33:52 INFO 139775033849664] Epoch[19] Batch[5] avg_epoch_loss=7.577019\u001b[0m\n",
      "\u001b[34m[01/08/2025 17:33:52 INFO 139775033849664] #quality_metric: host=algo-1, epoch=19, batch=5 train loss <loss>=7.577019055684407\u001b[0m\n",
      "\u001b[34m[01/08/2025 17:33:52 INFO 139775033849664] Epoch[19] Batch [5]#011Speed: 395.51 samples/sec#011loss=7.577019\u001b[0m\n",
      "\u001b[34m[01/08/2025 17:33:54 INFO 139775033849664] processed a total of 1250 examples\u001b[0m\n",
      "\u001b[34m#metrics {\"StartTime\": 1736357630.5209155, \"EndTime\": 1736357634.1425314, \"Dimensions\": {\"Algorithm\": \"AWS/DeepAR\", \"Host\": \"algo-1\", \"Operation\": \"training\"}, \"Metrics\": {\"update.time\": {\"sum\": 3620.884418487549, \"count\": 1, \"min\": 3620.884418487549, \"max\": 3620.884418487549}}}\u001b[0m\n",
      "\u001b[34m[01/08/2025 17:33:54 INFO 139775033849664] #throughput_metric: host=algo-1, train throughput=345.2080009760596 records/second\u001b[0m\n",
      "\u001b[34m[01/08/2025 17:33:54 INFO 139775033849664] #progress_metric: host=algo-1, completed 100.0 % of epochs\u001b[0m\n",
      "\u001b[34m[01/08/2025 17:33:54 INFO 139775033849664] #quality_metric: host=algo-1, epoch=19, train loss <loss>=7.558226776123047\u001b[0m\n",
      "\u001b[34m[01/08/2025 17:33:54 INFO 139775033849664] Final loss: 7.558226776123047 (occurred at epoch 19)\u001b[0m\n",
      "\u001b[34m[01/08/2025 17:33:54 INFO 139775033849664] #quality_metric: host=algo-1, train final_loss <loss>=7.558226776123047\u001b[0m\n",
      "\u001b[34m[01/08/2025 17:33:54 INFO 139775033849664] Worker algo-1 finished training.\u001b[0m\n",
      "\u001b[34m[01/08/2025 17:33:54 WARNING 139775033849664] wait_for_all_workers will not sync workers since the kv store is not running distributed\u001b[0m\n",
      "\u001b[34m[01/08/2025 17:33:54 INFO 139775033849664] All workers finished. Serializing model for prediction.\u001b[0m\n",
      "\u001b[34m#metrics {\"StartTime\": 1736357634.1426165, \"EndTime\": 1736357634.3306513, \"Dimensions\": {\"Algorithm\": \"AWS/DeepAR\", \"Host\": \"algo-1\", \"Operation\": \"training\"}, \"Metrics\": {\"get_graph.time\": {\"sum\": 187.15572357177734, \"count\": 1, \"min\": 187.15572357177734, \"max\": 187.15572357177734}}}\u001b[0m\n",
      "\u001b[34m[01/08/2025 17:33:54 INFO 139775033849664] Number of GPUs being used: 0\u001b[0m\n",
      "\u001b[34m#metrics {\"StartTime\": 1736357634.330722, \"EndTime\": 1736357634.4061446, \"Dimensions\": {\"Algorithm\": \"AWS/DeepAR\", \"Host\": \"algo-1\", \"Operation\": \"training\"}, \"Metrics\": {\"finalize.time\": {\"sum\": 262.6914978027344, \"count\": 1, \"min\": 262.6914978027344, \"max\": 262.6914978027344}}}\u001b[0m\n",
      "\u001b[34m[01/08/2025 17:33:54 INFO 139775033849664] Serializing to /opt/ml/model/model_algo-1\u001b[0m\n",
      "\u001b[34m[01/08/2025 17:33:54 INFO 139775033849664] Saved checkpoint to \"/opt/ml/model/model_algo-1-0000.params\"\u001b[0m\n",
      "\u001b[34m#metrics {\"StartTime\": 1736357634.4062088, \"EndTime\": 1736357634.4173465, \"Dimensions\": {\"Algorithm\": \"AWS/DeepAR\", \"Host\": \"algo-1\", \"Operation\": \"training\"}, \"Metrics\": {\"model.serialize.time\": {\"sum\": 11.093378067016602, \"count\": 1, \"min\": 11.093378067016602, \"max\": 11.093378067016602}}}\u001b[0m\n",
      "\u001b[34m[01/08/2025 17:33:54 INFO 139775033849664] Successfully serialized the model for prediction.\u001b[0m\n",
      "\u001b[34m[01/08/2025 17:33:54 INFO 139775033849664] #memory_usage::<batchbuffer> = 16.4599609375 mb\u001b[0m\n",
      "\u001b[34m[01/08/2025 17:33:54 INFO 139775033849664] Evaluating model accuracy on testset using 100 samples\u001b[0m\n",
      "\u001b[34m#metrics {\"StartTime\": 1736357634.4173982, \"EndTime\": 1736357634.4228296, \"Dimensions\": {\"Algorithm\": \"AWS/DeepAR\", \"Host\": \"algo-1\", \"Operation\": \"training\"}, \"Metrics\": {\"model.bind.time\": {\"sum\": 0.04100799560546875, \"count\": 1, \"min\": 0.04100799560546875, \"max\": 0.04100799560546875}}}\u001b[0m\n",
      "\u001b[34m#metrics {\"StartTime\": 1736357634.4228892, \"EndTime\": 1736357636.6812484, \"Dimensions\": {\"Algorithm\": \"AWS/DeepAR\", \"Host\": \"algo-1\", \"Operation\": \"training\"}, \"Metrics\": {\"model.score.time\": {\"sum\": 2258.465528488159, \"count\": 1, \"min\": 2258.465528488159, \"max\": 2258.465528488159}}}\u001b[0m\n",
      "\u001b[34m[01/08/2025 17:33:56 INFO 139775033849664] #test_score (algo-1, RMSE): 959.9921180231985\u001b[0m\n",
      "\u001b[34m[01/08/2025 17:33:56 INFO 139775033849664] #test_score (algo-1, mean_absolute_QuantileLoss): 14086.911494339838\u001b[0m\n",
      "\u001b[34m[01/08/2025 17:33:56 INFO 139775033849664] #test_score (algo-1, mean_wQuantileLoss): 0.1423251007238029\u001b[0m\n",
      "\u001b[34m[01/08/2025 17:33:56 INFO 139775033849664] #test_score (algo-1, wQuantileLoss[0.1]): 0.09152327645770085\u001b[0m\n",
      "\u001b[34m[01/08/2025 17:33:56 INFO 139775033849664] #test_score (algo-1, wQuantileLoss[0.2]): 0.12426342485827277\u001b[0m\n",
      "\u001b[34m[01/08/2025 17:33:56 INFO 139775033849664] #test_score (algo-1, wQuantileLoss[0.3]): 0.15239582826233264\u001b[0m\n",
      "\u001b[34m[01/08/2025 17:33:56 INFO 139775033849664] #test_score (algo-1, wQuantileLoss[0.4]): 0.16696900786362234\u001b[0m\n",
      "\u001b[34m[01/08/2025 17:33:56 INFO 139775033849664] #test_score (algo-1, wQuantileLoss[0.5]): 0.17030722597493095\u001b[0m\n",
      "\u001b[34m[01/08/2025 17:33:56 INFO 139775033849664] #test_score (algo-1, wQuantileLoss[0.6]): 0.17027207390596277\u001b[0m\n",
      "\u001b[34m[01/08/2025 17:33:56 INFO 139775033849664] #test_score (algo-1, wQuantileLoss[0.7]): 0.16274904307580837\u001b[0m\n",
      "\u001b[34m[01/08/2025 17:33:56 INFO 139775033849664] #test_score (algo-1, wQuantileLoss[0.8]): 0.13973093851356702\u001b[0m\n",
      "\u001b[34m[01/08/2025 17:33:56 INFO 139775033849664] #test_score (algo-1, wQuantileLoss[0.9]): 0.10271508760202813\u001b[0m\n",
      "\u001b[34m[01/08/2025 17:33:56 INFO 139775033849664] #quality_metric: host=algo-1, test RMSE <loss>=959.9921180231985\u001b[0m\n",
      "\u001b[34m[01/08/2025 17:33:56 INFO 139775033849664] #quality_metric: host=algo-1, test mean_wQuantileLoss <loss>=0.1423251007238029\u001b[0m\n",
      "\u001b[34m#metrics {\"StartTime\": 1736357636.6813207, \"EndTime\": 1736357636.7091095, \"Dimensions\": {\"Algorithm\": \"AWS/DeepAR\", \"Host\": \"algo-1\", \"Operation\": \"training\"}, \"Metrics\": {\"setuptime\": {\"sum\": 4.718303680419922, \"count\": 1, \"min\": 4.718303680419922, \"max\": 4.718303680419922}, \"totaltime\": {\"sum\": 81227.38671302795, \"count\": 1, \"min\": 81227.38671302795, \"max\": 81227.38671302795}}}\u001b[0m\n",
      "\n",
      "2025-01-08 17:34:12 Uploading - Uploading generated training model\n",
      "2025-01-08 17:34:12 Completed - Training job completed\n",
      "Training seconds: 290\n",
      "Billable seconds: 290\n"
     ]
    }
   ],
   "source": [
    "deepar.fit(inputs = data_channels)"
   ]
  },
  {
   "cell_type": "markdown",
   "id": "cb1a5c6d-08b0-41f9-8a21-efe1f8c8b431",
   "metadata": {},
   "source": [
    "## Deploy e Previsões"
   ]
  },
  {
   "cell_type": "code",
   "execution_count": 58,
   "id": "3760cc2f-90c3-417f-be2f-f03854d9577d",
   "metadata": {},
   "outputs": [
    {
     "name": "stdout",
     "output_type": "stream",
     "text": [
      "Job name:  deepar-bike-2025-01-08-17-28-39-759\n"
     ]
    }
   ],
   "source": [
    "job_name = deepar.latest_training_job.name\n",
    "print('Job name: ', job_name)"
   ]
  },
  {
   "cell_type": "code",
   "execution_count": 59,
   "id": "c459adec-da60-4b13-b42d-f67af2138a24",
   "metadata": {},
   "outputs": [
    {
     "name": "stderr",
     "output_type": "stream",
     "text": [
      "INFO:sagemaker:Creating model with name: deepar-bike-2025-01-08-17-28-39-759\n",
      "INFO:sagemaker:Creating endpoint-config with name deepar-bike-2025-01-08-17-28-39-759\n",
      "INFO:sagemaker:Creating endpoint with name deepar-bike-2025-01-08-17-28-39-759\n"
     ]
    },
    {
     "name": "stdout",
     "output_type": "stream",
     "text": [
      "----------!"
     ]
    }
   ],
   "source": [
    "endpoint = session.endpoint_from_job(job_name = job_name,\n",
    "                                     initial_instance_count = 1,\n",
    "                                     instance_type = \"ml.m5.large\",\n",
    "                                     image_uri = container,\n",
    "                                     role = role)"
   ]
  },
  {
   "cell_type": "code",
   "execution_count": 60,
   "id": "e1b7888c-db16-474f-9bf5-23bc3b45632a",
   "metadata": {},
   "outputs": [
    {
     "name": "stdout",
     "output_type": "stream",
     "text": [
      "Endpoint:  deepar-bike-2025-01-08-17-28-39-759\n"
     ]
    }
   ],
   "source": [
    "print('Endpoint: ', endpoint)"
   ]
  },
  {
   "cell_type": "code",
   "execution_count": 61,
   "id": "17a638c6-f3d2-47e5-aef5-e431383019c2",
   "metadata": {},
   "outputs": [],
   "source": [
    "# Previsor:\n",
    "# Código está presente na documentação\n",
    "\n",
    "class DeepARPredictor(sagemaker.predictor.Predictor):\n",
    "\n",
    "    def set_prediction_parameters(self, freq, prediction_length):\n",
    "        \"\"\"Set the time frequency and prediction length parameters. \n",
    "          This method **must** be called before being able to use `predict`.\n",
    "        \n",
    "        Parameters:\n",
    "        freq -- string indicating the time frequency\n",
    "        prediction_length -- integer, number of predicted time points\n",
    "        \n",
    "        Return value: none.\n",
    "        \"\"\"\n",
    "        self.freq = freq\n",
    "        self.prediction_length = prediction_length\n",
    "        \n",
    "    def predict(self, ts, cat=None, dynamic_feat=None, \n",
    "                encoding=\"utf-8\", num_samples=100, quantiles=[\"0.1\", \"0.5\", \"0.9\"]):\n",
    "        \"\"\"Requests the prediction of for the time series listed in `ts`, \n",
    "           each with the (optional) corresponding category listed in `cat`.\n",
    "        \n",
    "        Parameters:\n",
    "        ts -- list of `pandas.Series` objects, the time series to predict\n",
    "        cat -- list of integers (default: None)\n",
    "        encoding -- string, encoding to use for the request (default: \"utf-8\")\n",
    "        num_samples -- integer, number of samples to compute at prediction time (default: 100)\n",
    "        quantiles -- list of strings specifying the quantiles to compute (default: [\"0.1\", \"0.5\", \"0.9\"])\n",
    "        \n",
    "        Return value: list of `pandas.DataFrame` objects, each containing the predictions\n",
    "        \"\"\"\n",
    "        prediction_times = [x.index[-1] + datetime.timedelta(hours=1) for x in ts] \n",
    "        \n",
    "        req = self.__encode_request(ts, cat, dynamic_feat, encoding, num_samples, quantiles)\n",
    "        res = super(DeepARPredictor, self).predict(req)\n",
    "        return self.__decode_response(res, prediction_times, encoding)\n",
    "    \n",
    "    def __encode_request(self, ts, cat, dynamic_feat, encoding, num_samples, quantiles):\n",
    "        \n",
    "        instances = [series_to_obj(ts[k]) for k in range(len(ts))]\n",
    "        \n",
    "        configuration = {\"num_samples\": num_samples, \"output_types\": [\"quantiles\"], \"quantiles\": quantiles}\n",
    "        http_request_data = {\"instances\": instances, \"configuration\": configuration}\n",
    "        return json.dumps(http_request_data).encode(encoding)\n",
    "    \n",
    "    def __decode_response(self, response, prediction_times, encoding):\n",
    "        response_data = json.loads(response.decode(encoding))\n",
    "        list_of_df = []\n",
    "        for k in range(len(prediction_times)):\n",
    "            prediction_index = pd.date_range(start=prediction_times[k], freq=self.freq, periods=self.prediction_length)\n",
    "            list_of_df.append(pd.DataFrame(data=response_data['predictions'][k]['quantiles'], index=prediction_index))\n",
    "        return list_of_df"
   ]
  },
  {
   "cell_type": "code",
   "execution_count": 62,
   "id": "462a8899-f992-478d-bc38-ede8cff5355a",
   "metadata": {},
   "outputs": [],
   "source": [
    "predictor = DeepARPredictor(endpoint_name = 'deepar-bike-2025-01-08-17-28-39-759',\n",
    "                            sagemaker_session = session)\n",
    "predictor.set_prediction_parameters(freq, prediction_length)\n",
    "predictor.serializer.content_type = \"application/json\" #tipo dos dados "
   ]
  },
  {
   "cell_type": "code",
   "execution_count": 63,
   "id": "688960d6-a9bf-4332-9970-65bc928cab11",
   "metadata": {},
   "outputs": [],
   "source": [
    "previsoes = predictor.predict(serie_temporal_treinamento)"
   ]
  },
  {
   "cell_type": "code",
   "execution_count": 64,
   "id": "31bda38f-6184-4783-aff8-28bf2873bfe3",
   "metadata": {},
   "outputs": [
    {
     "data": {
      "text/plain": [
       "30"
      ]
     },
     "execution_count": 64,
     "metadata": {},
     "output_type": "execute_result"
    }
   ],
   "source": [
    "len(previsoes[0]) "
   ]
  },
  {
   "cell_type": "code",
   "execution_count": 65,
   "id": "44f78df7-462b-4e5c-815e-4e4c70bebae0",
   "metadata": {},
   "outputs": [
    {
     "data": {
      "text/plain": [
       "[                             0.1          0.5          0.9\n",
       " 2012-11-19 01:00:00  -142.165344   461.282318  1050.836792\n",
       " 2012-11-20 01:00:00  -376.209778  -134.030701    61.878403\n",
       " 2012-11-21 01:00:00  -192.854263   -29.934233   148.101257\n",
       " 2012-11-22 01:00:00  -156.160370   -15.705965   113.311226\n",
       " 2012-11-23 01:00:00  -138.905884   -23.962034    63.436050\n",
       " 2012-11-24 01:00:00   -86.104126    -5.802635   103.048729\n",
       " 2012-11-25 01:00:00   -30.723015    64.787064   186.887939\n",
       " 2012-11-26 01:00:00   -36.308815    28.278656   138.187531\n",
       " 2012-11-27 01:00:00   -80.926483    94.186752   266.625671\n",
       " 2012-11-28 01:00:00  -174.676270   -29.519384   136.896469\n",
       " 2012-11-29 01:00:00  -294.125488   -13.990124   305.750122\n",
       " 2012-11-30 01:00:00  1279.434692  2018.423584  2807.299316\n",
       " 2012-12-01 01:00:00  3776.261230  4684.836914  5705.165039\n",
       " 2012-12-02 01:00:00  4607.991211  5458.002930  6836.391113\n",
       " 2012-12-03 01:00:00  4652.214355  5680.089844  6984.652344\n",
       " 2012-12-04 01:00:00  4455.816895  5498.463379  6827.174316\n",
       " 2012-12-05 01:00:00  4721.009766  5593.587891  6900.896973\n",
       " 2012-12-06 01:00:00  4439.520508  5586.778320  6587.055176\n",
       " 2012-12-07 01:00:00  4615.632324  5559.971680  6477.111328\n",
       " 2012-12-08 01:00:00  4613.370117  5502.522461  6449.449707\n",
       " 2012-12-09 01:00:00  4545.110840  5511.010742  6481.215332\n",
       " 2012-12-10 01:00:00  4551.259766  5766.738770  6491.649902\n",
       " 2012-12-11 01:00:00  5151.136230  5712.102539  6605.465332\n",
       " 2012-12-12 01:00:00  4632.029297  5458.445312  6539.421387\n",
       " 2012-12-13 01:00:00  4817.190918  5635.180664  6398.588867\n",
       " 2012-12-14 01:00:00  4997.834961  5774.803223  6589.358887\n",
       " 2012-12-15 01:00:00  4533.684082  5857.590332  6975.200684\n",
       " 2012-12-16 01:00:00  4248.516602  5662.377441  6963.076172\n",
       " 2012-12-17 01:00:00  4190.601074  5261.428711  6786.820801\n",
       " 2012-12-18 01:00:00  2517.554932  3558.417725  5181.474609]"
      ]
     },
     "execution_count": 65,
     "metadata": {},
     "output_type": "execute_result"
    }
   ],
   "source": [
    "previsoes"
   ]
  },
  {
   "cell_type": "code",
   "execution_count": 66,
   "id": "75ad74ab-249a-456d-b07c-59ba3a87df90",
   "metadata": {},
   "outputs": [
    {
     "data": {
      "image/png": "[encoded data removed]",
      "text/plain": [
       "<Figure size 1200x600 with 1 Axes>"
      ]
     },
     "metadata": {},
     "output_type": "display_data"
    }
   ],
   "source": [
    "for k in range(len(previsoes)):\n",
    "    plt.figure(figsize=(12,6))\n",
    "    previsoes[k]['0.5'].plot(label = 'Mediana', color = 'red')\n",
    "    serie_temporal_teste[k][-prediction_length - context_length:].plot(label = 'Alvo') #buscando os últimos 60 reg\n",
    "    # p10 = previsoes[k]['0.1']\n",
    "    # p90 = previsoes[k]['0.9']\n",
    "    # plt.fill_between(p10.index, p10, p90, color = 'y', alpha = 0.5, label = 'Intervalo de confiança')\n",
    "    plt.legend()\n",
    "    plt.show()"
   ]
  },
  {
   "cell_type": "code",
   "execution_count": 67,
   "id": "e4a99036-d75b-428c-9496-f5673ed71aee",
   "metadata": {},
   "outputs": [
    {
     "data": {
      "image/png": "[encoded data removed]",
      "text/plain": [
       "<Figure size 1200x600 with 1 Axes>"
      ]
     },
     "metadata": {},
     "output_type": "display_data"
    }
   ],
   "source": [
    "for k in range(len(previsoes)):\n",
    "    plt.figure(figsize=(12,6))\n",
    "    previsoes[k]['0.5'].plot(label = 'Mediana', color = 'red')\n",
    "    serie_temporal_teste[k][-prediction_length - context_length:].plot(label = 'Alvo') #buscando os últimos 60 reg\n",
    "    p10 = previsoes[k]['0.1']\n",
    "    p90 = previsoes[k]['0.9']\n",
    "    plt.fill_between(p10.index, p10, p90, color = 'y', alpha = 0.5, label = 'Intervalo de confiança')\n",
    "    plt.legend()\n",
    "    plt.show()"
   ]
  },
  {
   "cell_type": "code",
   "execution_count": 68,
   "id": "1b189db0-f269-4c92-9fd0-37ab5f7c2d0c",
   "metadata": {},
   "outputs": [
    {
     "data": {
      "text/plain": [
       "30"
      ]
     },
     "execution_count": 68,
     "metadata": {},
     "output_type": "execute_result"
    }
   ],
   "source": [
    "df_teste = base.iloc[689:,:]\n",
    "len(df_teste)"
   ]
  },
  {
   "cell_type": "code",
   "execution_count": 69,
   "id": "79174f27-a98c-41bc-9636-4027040c31c4",
   "metadata": {},
   "outputs": [
    {
     "data": {
      "text/html": [
       "<div>\n",
       "<style scoped>\n",
       "    .dataframe tbody tr th:only-of-type {\n",
       "        vertical-align: middle;\n",
       "    }\n",
       "\n",
       "    .dataframe tbody tr th {\n",
       "        vertical-align: top;\n",
       "    }\n",
       "\n",
       "    .dataframe thead th {\n",
       "        text-align: right;\n",
       "    }\n",
       "</style>\n",
       "<table border=\"1\" class=\"dataframe\">\n",
       "  <thead>\n",
       "    <tr style=\"text-align: right;\">\n",
       "      <th></th>\n",
       "      <th>count</th>\n",
       "    </tr>\n",
       "    <tr>\n",
       "      <th>datetime</th>\n",
       "      <th></th>\n",
       "    </tr>\n",
       "  </thead>\n",
       "  <tbody>\n",
       "    <tr>\n",
       "      <th>2012-11-20</th>\n",
       "      <td>0</td>\n",
       "    </tr>\n",
       "    <tr>\n",
       "      <th>2012-11-21</th>\n",
       "      <td>0</td>\n",
       "    </tr>\n",
       "    <tr>\n",
       "      <th>2012-11-22</th>\n",
       "      <td>0</td>\n",
       "    </tr>\n",
       "    <tr>\n",
       "      <th>2012-11-23</th>\n",
       "      <td>0</td>\n",
       "    </tr>\n",
       "    <tr>\n",
       "      <th>2012-11-24</th>\n",
       "      <td>0</td>\n",
       "    </tr>\n",
       "    <tr>\n",
       "      <th>2012-11-25</th>\n",
       "      <td>0</td>\n",
       "    </tr>\n",
       "    <tr>\n",
       "      <th>2012-11-26</th>\n",
       "      <td>0</td>\n",
       "    </tr>\n",
       "    <tr>\n",
       "      <th>2012-11-27</th>\n",
       "      <td>0</td>\n",
       "    </tr>\n",
       "    <tr>\n",
       "      <th>2012-11-28</th>\n",
       "      <td>0</td>\n",
       "    </tr>\n",
       "    <tr>\n",
       "      <th>2012-11-29</th>\n",
       "      <td>0</td>\n",
       "    </tr>\n",
       "    <tr>\n",
       "      <th>2012-11-30</th>\n",
       "      <td>0</td>\n",
       "    </tr>\n",
       "    <tr>\n",
       "      <th>2012-12-01</th>\n",
       "      <td>5191</td>\n",
       "    </tr>\n",
       "    <tr>\n",
       "      <th>2012-12-02</th>\n",
       "      <td>4649</td>\n",
       "    </tr>\n",
       "    <tr>\n",
       "      <th>2012-12-03</th>\n",
       "      <td>6234</td>\n",
       "    </tr>\n",
       "    <tr>\n",
       "      <th>2012-12-04</th>\n",
       "      <td>6606</td>\n",
       "    </tr>\n",
       "    <tr>\n",
       "      <th>2012-12-05</th>\n",
       "      <td>5729</td>\n",
       "    </tr>\n",
       "    <tr>\n",
       "      <th>2012-12-06</th>\n",
       "      <td>5375</td>\n",
       "    </tr>\n",
       "    <tr>\n",
       "      <th>2012-12-07</th>\n",
       "      <td>5008</td>\n",
       "    </tr>\n",
       "    <tr>\n",
       "      <th>2012-12-08</th>\n",
       "      <td>5582</td>\n",
       "    </tr>\n",
       "    <tr>\n",
       "      <th>2012-12-09</th>\n",
       "      <td>3228</td>\n",
       "    </tr>\n",
       "    <tr>\n",
       "      <th>2012-12-10</th>\n",
       "      <td>5170</td>\n",
       "    </tr>\n",
       "    <tr>\n",
       "      <th>2012-12-11</th>\n",
       "      <td>5501</td>\n",
       "    </tr>\n",
       "    <tr>\n",
       "      <th>2012-12-12</th>\n",
       "      <td>5319</td>\n",
       "    </tr>\n",
       "    <tr>\n",
       "      <th>2012-12-13</th>\n",
       "      <td>5532</td>\n",
       "    </tr>\n",
       "    <tr>\n",
       "      <th>2012-12-14</th>\n",
       "      <td>5611</td>\n",
       "    </tr>\n",
       "    <tr>\n",
       "      <th>2012-12-15</th>\n",
       "      <td>5047</td>\n",
       "    </tr>\n",
       "    <tr>\n",
       "      <th>2012-12-16</th>\n",
       "      <td>3786</td>\n",
       "    </tr>\n",
       "    <tr>\n",
       "      <th>2012-12-17</th>\n",
       "      <td>4585</td>\n",
       "    </tr>\n",
       "    <tr>\n",
       "      <th>2012-12-18</th>\n",
       "      <td>5557</td>\n",
       "    </tr>\n",
       "    <tr>\n",
       "      <th>2012-12-19</th>\n",
       "      <td>5267</td>\n",
       "    </tr>\n",
       "  </tbody>\n",
       "</table>\n",
       "</div>"
      ],
      "text/plain": [
       "            count\n",
       "datetime         \n",
       "2012-11-20      0\n",
       "2012-11-21      0\n",
       "2012-11-22      0\n",
       "2012-11-23      0\n",
       "2012-11-24      0\n",
       "2012-11-25      0\n",
       "2012-11-26      0\n",
       "2012-11-27      0\n",
       "2012-11-28      0\n",
       "2012-11-29      0\n",
       "2012-11-30      0\n",
       "2012-12-01   5191\n",
       "2012-12-02   4649\n",
       "2012-12-03   6234\n",
       "2012-12-04   6606\n",
       "2012-12-05   5729\n",
       "2012-12-06   5375\n",
       "2012-12-07   5008\n",
       "2012-12-08   5582\n",
       "2012-12-09   3228\n",
       "2012-12-10   5170\n",
       "2012-12-11   5501\n",
       "2012-12-12   5319\n",
       "2012-12-13   5532\n",
       "2012-12-14   5611\n",
       "2012-12-15   5047\n",
       "2012-12-16   3786\n",
       "2012-12-17   4585\n",
       "2012-12-18   5557\n",
       "2012-12-19   5267"
      ]
     },
     "execution_count": 69,
     "metadata": {},
     "output_type": "execute_result"
    }
   ],
   "source": [
    "df_teste"
   ]
  },
  {
   "cell_type": "code",
   "execution_count": 70,
   "id": "ff910f85-2945-4ca2-a94e-a5cd7b6da260",
   "metadata": {},
   "outputs": [
    {
     "data": {
      "text/plain": [
       "array([ 4.61282318e+02, -1.34030701e+02, -2.99342327e+01, -1.57059650e+01,\n",
       "       -2.39620342e+01, -5.80263519e+00,  6.47870636e+01,  2.82786560e+01,\n",
       "        9.41867523e+01, -2.95193844e+01, -1.39901237e+01,  2.01842358e+03,\n",
       "        4.68483691e+03,  5.45800293e+03,  5.68008984e+03,  5.49846338e+03,\n",
       "        5.59358789e+03,  5.58677832e+03,  5.55997168e+03,  5.50252246e+03,\n",
       "        5.51101074e+03,  5.76673877e+03,  5.71210254e+03,  5.45844531e+03,\n",
       "        5.63518066e+03,  5.77480322e+03,  5.85759033e+03,  5.66237744e+03,\n",
       "        5.26142871e+03,  3.55841772e+03])"
      ]
     },
     "execution_count": 70,
     "metadata": {},
     "output_type": "execute_result"
    }
   ],
   "source": [
    "previsoes2 = previsoes[0]['0.5'].values\n",
    "previsoes2"
   ]
  },
  {
   "cell_type": "code",
   "execution_count": 71,
   "id": "e5f06d8c-5dd7-462c-9306-cbb562aa09e7",
   "metadata": {},
   "outputs": [
    {
     "data": {
      "text/plain": [
       "array([   0,    0,    0,    0,    0,    0,    0,    0,    0,    0,    0,\n",
       "       5191, 4649, 6234, 6606, 5729, 5375, 5008, 5582, 3228, 5170, 5501,\n",
       "       5319, 5532, 5611, 5047, 3786, 4585, 5557, 5267])"
      ]
     },
     "execution_count": 71,
     "metadata": {},
     "output_type": "execute_result"
    }
   ],
   "source": [
    "esperado = df_teste['count'].values\n",
    "esperado"
   ]
  },
  {
   "cell_type": "code",
   "execution_count": 72,
   "id": "b80e486a-3b5f-44dd-a4c6-3e95c1bedb88",
   "metadata": {},
   "outputs": [
    {
     "name": "stdout",
     "output_type": "stream",
     "text": [
      "MAE:  537.1588666280065 \n",
      "MSE:  890641.9924192658\n"
     ]
    }
   ],
   "source": [
    "from sklearn.metrics import mean_absolute_error, mean_squared_error\n",
    "mae = mean_absolute_error(esperado, previsoes2)\n",
    "mse = mean_squared_error(esperado, previsoes2)\n",
    "print('MAE: ', mae, '\\nMSE: ', mse)"
   ]
  },
  {
   "cell_type": "code",
   "execution_count": 73,
   "id": "ebc77264-8e3f-4370-ac70-d60d525d5675",
   "metadata": {},
   "outputs": [
    {
     "data": {
      "text/plain": [
       "{'ResponseMetadata': {'RequestId': '5c8b3fc3-c375-48ac-9687-db44fb5ae6cc',\n",
       "  'HTTPStatusCode': 200,\n",
       "  'HTTPHeaders': {'x-amzn-requestid': '5c8b3fc3-c375-48ac-9687-db44fb5ae6cc',\n",
       "   'content-type': 'application/x-amz-json-1.1',\n",
       "   'date': 'Wed, 08 Jan 2025 18:03:53 GMT',\n",
       "   'content-length': '0'},\n",
       "  'RetryAttempts': 0}}"
      ]
     },
     "execution_count": 73,
     "metadata": {},
     "output_type": "execute_result"
    }
   ],
   "source": [
    "import boto3\n",
    "\n",
    "sagemaker_client = boto3.client('sagemaker')\n",
    "endpoint_name = job_name\n",
    "\n",
    "# Exclui o endpoint\n",
    "sagemaker_client.delete_endpoint(EndpointName=endpoint_name)\n",
    "\n",
    "# Exclui a configuração do endpoint e modelo (opcional, mas recomendado)\n",
    "sagemaker_client.delete_endpoint_config(EndpointConfigName=endpoint_name)\n",
    "sagemaker_client.delete_model(ModelName=job_name)"
   ]
  },
  {
   "cell_type": "code",
   "execution_count": null,
   "id": "558b07b7-cb33-4c6c-aca6-761d2d52d829",
   "metadata": {},
   "outputs": [],
   "source": []
  }
 ],
 "metadata": {
  "kernelspec": {
   "display_name": "Python 3 (ipykernel)",
   "language": "python",
   "name": "python3"
  },
  "language_info": {
   "codemirror_mode": {
    "name": "ipython",
    "version": 3
   },
   "file_extension": ".py",
   "mimetype": "text/x-python",
   "name": "python",
   "nbconvert_exporter": "python",
   "pygments_lexer": "ipython3",
   "version": "3.11.11"
  }
 },
 "nbformat": 4,
 "nbformat_minor": 5
}
