{
  "cells": [
    {
      "cell_type": "markdown",
      "metadata": {
        "id": "Qt6NFwxO68nL"
      },
      "source": [
        "## Teste t para uma Amostra"
      ]
    },
    {
      "cell_type": "code",
      "execution_count": 1,
      "metadata": {
        "id": "P1k_GEUd62ik"
      },
      "outputs": [],
      "source": [
        "import numpy as np\n",
        "import pandas as pd"
      ]
    },
    {
      "cell_type": "code",
      "execution_count": 2,
      "metadata": {
        "id": "DzMEX3BJoN3u"
      },
      "outputs": [],
      "source": [
        "enem_sp = pd.read_csv('enem_2019_tratado.csv', sep=',', encoding='iso-8859-1')"
      ]
    },
    {
      "cell_type": "code",
      "execution_count": 7,
      "metadata": {
        "colab": {
          "base_uri": "https://localhost:8080/",
          "height": 232
        },
        "id": "87gu1YCcblfL",
        "outputId": "fa5364a6-d93d-43d6-ea4d-89c9473caca0"
      },
      "outputs": [
        {
          "data": {
            "text/html": [
              "<div>\n",
              "<style scoped>\n",
              "    .dataframe tbody tr th:only-of-type {\n",
              "        vertical-align: middle;\n",
              "    }\n",
              "\n",
              "    .dataframe tbody tr th {\n",
              "        vertical-align: top;\n",
              "    }\n",
              "\n",
              "    .dataframe thead th {\n",
              "        text-align: right;\n",
              "    }\n",
              "</style>\n",
              "<table border=\"1\" class=\"dataframe\">\n",
              "  <thead>\n",
              "    <tr style=\"text-align: right;\">\n",
              "      <th></th>\n",
              "      <th>NU_INSCRICAO</th>\n",
              "      <th>NO_MUNICIPIO_RESIDENCIA</th>\n",
              "      <th>IDADE</th>\n",
              "      <th>SEXO</th>\n",
              "      <th>TP_ESTADO_CIVIL</th>\n",
              "      <th>RACA</th>\n",
              "      <th>TP_NACIONALIDADE</th>\n",
              "      <th>TP_ST_CONCLUSAO</th>\n",
              "      <th>ESCOLA</th>\n",
              "      <th>CO_ESCOLA</th>\n",
              "      <th>...</th>\n",
              "      <th>NOTA_MT</th>\n",
              "      <th>TP_LINGUA</th>\n",
              "      <th>TP_STATUS_REDACAO</th>\n",
              "      <th>COMP1</th>\n",
              "      <th>COMP2</th>\n",
              "      <th>COMP3</th>\n",
              "      <th>COMP4</th>\n",
              "      <th>COMP5</th>\n",
              "      <th>NOTA_REDACAO</th>\n",
              "      <th>INTERNET</th>\n",
              "    </tr>\n",
              "  </thead>\n",
              "  <tbody>\n",
              "    <tr>\n",
              "      <th>499935</th>\n",
              "      <td>1,90E+11</td>\n",
              "      <td>São Paulo</td>\n",
              "      <td>18</td>\n",
              "      <td>F</td>\n",
              "      <td>1</td>\n",
              "      <td>parda</td>\n",
              "      <td>1</td>\n",
              "      <td>1</td>\n",
              "      <td>não_respondeu</td>\n",
              "      <td>NaN</td>\n",
              "      <td>...</td>\n",
              "      <td>479.1</td>\n",
              "      <td>Espanhol</td>\n",
              "      <td>1.0</td>\n",
              "      <td>100.0</td>\n",
              "      <td>120.0</td>\n",
              "      <td>120.0</td>\n",
              "      <td>140.0</td>\n",
              "      <td>100.0</td>\n",
              "      <td>580.0</td>\n",
              "      <td>Sim</td>\n",
              "    </tr>\n",
              "    <tr>\n",
              "      <th>499936</th>\n",
              "      <td>1,90E+11</td>\n",
              "      <td>São Paulo</td>\n",
              "      <td>17</td>\n",
              "      <td>F</td>\n",
              "      <td>1</td>\n",
              "      <td>preta</td>\n",
              "      <td>1</td>\n",
              "      <td>2</td>\n",
              "      <td>pública</td>\n",
              "      <td>35925457.0</td>\n",
              "      <td>...</td>\n",
              "      <td>43.2</td>\n",
              "      <td>Espanhol</td>\n",
              "      <td>1.0</td>\n",
              "      <td>80.0</td>\n",
              "      <td>120.0</td>\n",
              "      <td>140.0</td>\n",
              "      <td>120.0</td>\n",
              "      <td>100.0</td>\n",
              "      <td>560.0</td>\n",
              "      <td>Sim</td>\n",
              "    </tr>\n",
              "    <tr>\n",
              "      <th>499937</th>\n",
              "      <td>1,90E+11</td>\n",
              "      <td>São Paulo</td>\n",
              "      <td>17</td>\n",
              "      <td>F</td>\n",
              "      <td>1</td>\n",
              "      <td>parda</td>\n",
              "      <td>1</td>\n",
              "      <td>2</td>\n",
              "      <td>pública</td>\n",
              "      <td>35001156.0</td>\n",
              "      <td>...</td>\n",
              "      <td>487.3</td>\n",
              "      <td>Inglês</td>\n",
              "      <td>1.0</td>\n",
              "      <td>120.0</td>\n",
              "      <td>80.0</td>\n",
              "      <td>60.0</td>\n",
              "      <td>120.0</td>\n",
              "      <td>0.0</td>\n",
              "      <td>380.0</td>\n",
              "      <td>Sim</td>\n",
              "    </tr>\n",
              "    <tr>\n",
              "      <th>499938</th>\n",
              "      <td>1,90E+11</td>\n",
              "      <td>São Paulo</td>\n",
              "      <td>17</td>\n",
              "      <td>M</td>\n",
              "      <td>1</td>\n",
              "      <td>parda</td>\n",
              "      <td>1</td>\n",
              "      <td>2</td>\n",
              "      <td>pública</td>\n",
              "      <td>NaN</td>\n",
              "      <td>...</td>\n",
              "      <td>401.1</td>\n",
              "      <td>Inglês</td>\n",
              "      <td>1.0</td>\n",
              "      <td>160.0</td>\n",
              "      <td>120.0</td>\n",
              "      <td>160.0</td>\n",
              "      <td>140.0</td>\n",
              "      <td>160.0</td>\n",
              "      <td>740.0</td>\n",
              "      <td>Não</td>\n",
              "    </tr>\n",
              "    <tr>\n",
              "      <th>499939</th>\n",
              "      <td>1,90E+11</td>\n",
              "      <td>Araras</td>\n",
              "      <td>18</td>\n",
              "      <td>F</td>\n",
              "      <td>1</td>\n",
              "      <td>branca</td>\n",
              "      <td>1</td>\n",
              "      <td>2</td>\n",
              "      <td>pública</td>\n",
              "      <td>35019926.0</td>\n",
              "      <td>...</td>\n",
              "      <td>559.5</td>\n",
              "      <td>Inglês</td>\n",
              "      <td>1.0</td>\n",
              "      <td>120.0</td>\n",
              "      <td>120.0</td>\n",
              "      <td>120.0</td>\n",
              "      <td>120.0</td>\n",
              "      <td>140.0</td>\n",
              "      <td>620.0</td>\n",
              "      <td>Sim</td>\n",
              "    </tr>\n",
              "  </tbody>\n",
              "</table>\n",
              "<p>5 rows × 28 columns</p>\n",
              "</div>"
            ],
            "text/plain": [
              "       NU_INSCRICAO NO_MUNICIPIO_RESIDENCIA  IDADE SEXO  TP_ESTADO_CIVIL  \\\n",
              "499935     1,90E+11               São Paulo     18    F                1   \n",
              "499936     1,90E+11               São Paulo     17    F                1   \n",
              "499937     1,90E+11               São Paulo     17    F                1   \n",
              "499938     1,90E+11               São Paulo     17    M                1   \n",
              "499939     1,90E+11                  Araras     18    F                1   \n",
              "\n",
              "          RACA  TP_NACIONALIDADE  TP_ST_CONCLUSAO         ESCOLA   CO_ESCOLA  \\\n",
              "499935   parda                 1                1  não_respondeu         NaN   \n",
              "499936   preta                 1                2        pública  35925457.0   \n",
              "499937   parda                 1                2        pública  35001156.0   \n",
              "499938   parda                 1                2        pública         NaN   \n",
              "499939  branca                 1                2        pública  35019926.0   \n",
              "\n",
              "        ... NOTA_MT  TP_LINGUA  TP_STATUS_REDACAO  COMP1  COMP2  COMP3  COMP4  \\\n",
              "499935  ...   479.1   Espanhol                1.0  100.0  120.0  120.0  140.0   \n",
              "499936  ...    43.2   Espanhol                1.0   80.0  120.0  140.0  120.0   \n",
              "499937  ...   487.3     Inglês                1.0  120.0   80.0   60.0  120.0   \n",
              "499938  ...   401.1     Inglês                1.0  160.0  120.0  160.0  140.0   \n",
              "499939  ...   559.5     Inglês                1.0  120.0  120.0  120.0  120.0   \n",
              "\n",
              "        COMP5  NOTA_REDACAO INTERNET  \n",
              "499935  100.0         580.0      Sim  \n",
              "499936  100.0         560.0      Sim  \n",
              "499937    0.0         380.0      Sim  \n",
              "499938  160.0         740.0      Não  \n",
              "499939  140.0         620.0      Sim  \n",
              "\n",
              "[5 rows x 28 columns]"
            ]
          },
          "execution_count": 7,
          "metadata": {},
          "output_type": "execute_result"
        }
      ],
      "source": [
        "enem_sp.tail()"
      ]
    },
    {
      "cell_type": "code",
      "execution_count": 11,
      "metadata": {
        "id": "QjUHhWqFoVG4"
      },
      "outputs": [],
      "source": [
        "colegioy = enem_sp.loc[enem_sp.CO_ESCOLA == 35019926.0]"
      ]
    },
    {
      "cell_type": "code",
      "execution_count": 12,
      "metadata": {
        "colab": {
          "base_uri": "https://localhost:8080/"
        },
        "id": "ro1T9FRnoz3u",
        "outputId": "f8869266-757e-4cfd-cd45-15e5014f6dec"
      },
      "outputs": [
        {
          "data": {
            "text/plain": [
              "(116, 28)"
            ]
          },
          "execution_count": 12,
          "metadata": {},
          "output_type": "execute_result"
        }
      ],
      "source": [
        "colegioy.shape"
      ]
    },
    {
      "cell_type": "code",
      "execution_count": 13,
      "metadata": {
        "colab": {
          "base_uri": "https://localhost:8080/",
          "height": 215
        },
        "id": "5AYuP9cMcRhz",
        "outputId": "39e17f82-332a-4261-fe30-90e4e7759b42"
      },
      "outputs": [
        {
          "data": {
            "text/html": [
              "<div>\n",
              "<style scoped>\n",
              "    .dataframe tbody tr th:only-of-type {\n",
              "        vertical-align: middle;\n",
              "    }\n",
              "\n",
              "    .dataframe tbody tr th {\n",
              "        vertical-align: top;\n",
              "    }\n",
              "\n",
              "    .dataframe thead th {\n",
              "        text-align: right;\n",
              "    }\n",
              "</style>\n",
              "<table border=\"1\" class=\"dataframe\">\n",
              "  <thead>\n",
              "    <tr style=\"text-align: right;\">\n",
              "      <th></th>\n",
              "      <th>NU_INSCRICAO</th>\n",
              "      <th>NO_MUNICIPIO_RESIDENCIA</th>\n",
              "      <th>IDADE</th>\n",
              "      <th>SEXO</th>\n",
              "      <th>TP_ESTADO_CIVIL</th>\n",
              "      <th>RACA</th>\n",
              "      <th>TP_NACIONALIDADE</th>\n",
              "      <th>TP_ST_CONCLUSAO</th>\n",
              "      <th>ESCOLA</th>\n",
              "      <th>CO_ESCOLA</th>\n",
              "      <th>...</th>\n",
              "      <th>NOTA_MT</th>\n",
              "      <th>TP_LINGUA</th>\n",
              "      <th>TP_STATUS_REDACAO</th>\n",
              "      <th>COMP1</th>\n",
              "      <th>COMP2</th>\n",
              "      <th>COMP3</th>\n",
              "      <th>COMP4</th>\n",
              "      <th>COMP5</th>\n",
              "      <th>NOTA_REDACAO</th>\n",
              "      <th>INTERNET</th>\n",
              "    </tr>\n",
              "  </thead>\n",
              "  <tbody>\n",
              "    <tr>\n",
              "      <th>8722</th>\n",
              "      <td>1,90E+11</td>\n",
              "      <td>Araras</td>\n",
              "      <td>18</td>\n",
              "      <td>F</td>\n",
              "      <td>1</td>\n",
              "      <td>branca</td>\n",
              "      <td>1</td>\n",
              "      <td>2</td>\n",
              "      <td>pública</td>\n",
              "      <td>35019926.0</td>\n",
              "      <td>...</td>\n",
              "      <td>437.5</td>\n",
              "      <td>Inglês</td>\n",
              "      <td>1.0</td>\n",
              "      <td>120.0</td>\n",
              "      <td>120.0</td>\n",
              "      <td>120.0</td>\n",
              "      <td>120.0</td>\n",
              "      <td>100.0</td>\n",
              "      <td>580.0</td>\n",
              "      <td>Sim</td>\n",
              "    </tr>\n",
              "    <tr>\n",
              "      <th>11642</th>\n",
              "      <td>1,90E+11</td>\n",
              "      <td>Araras</td>\n",
              "      <td>17</td>\n",
              "      <td>F</td>\n",
              "      <td>1</td>\n",
              "      <td>branca</td>\n",
              "      <td>1</td>\n",
              "      <td>2</td>\n",
              "      <td>pública</td>\n",
              "      <td>35019926.0</td>\n",
              "      <td>...</td>\n",
              "      <td>636.1</td>\n",
              "      <td>Inglês</td>\n",
              "      <td>1.0</td>\n",
              "      <td>140.0</td>\n",
              "      <td>120.0</td>\n",
              "      <td>140.0</td>\n",
              "      <td>120.0</td>\n",
              "      <td>140.0</td>\n",
              "      <td>660.0</td>\n",
              "      <td>Sim</td>\n",
              "    </tr>\n",
              "    <tr>\n",
              "      <th>17760</th>\n",
              "      <td>1,90E+11</td>\n",
              "      <td>Araras</td>\n",
              "      <td>18</td>\n",
              "      <td>F</td>\n",
              "      <td>1</td>\n",
              "      <td>branca</td>\n",
              "      <td>1</td>\n",
              "      <td>2</td>\n",
              "      <td>pública</td>\n",
              "      <td>35019926.0</td>\n",
              "      <td>...</td>\n",
              "      <td>685.7</td>\n",
              "      <td>Espanhol</td>\n",
              "      <td>1.0</td>\n",
              "      <td>160.0</td>\n",
              "      <td>120.0</td>\n",
              "      <td>140.0</td>\n",
              "      <td>120.0</td>\n",
              "      <td>140.0</td>\n",
              "      <td>680.0</td>\n",
              "      <td>Sim</td>\n",
              "    </tr>\n",
              "    <tr>\n",
              "      <th>18261</th>\n",
              "      <td>1,90E+11</td>\n",
              "      <td>Araras</td>\n",
              "      <td>18</td>\n",
              "      <td>M</td>\n",
              "      <td>1</td>\n",
              "      <td>parda</td>\n",
              "      <td>1</td>\n",
              "      <td>2</td>\n",
              "      <td>pública</td>\n",
              "      <td>35019926.0</td>\n",
              "      <td>...</td>\n",
              "      <td>65.9</td>\n",
              "      <td>Inglês</td>\n",
              "      <td>1.0</td>\n",
              "      <td>160.0</td>\n",
              "      <td>160.0</td>\n",
              "      <td>140.0</td>\n",
              "      <td>180.0</td>\n",
              "      <td>180.0</td>\n",
              "      <td>820.0</td>\n",
              "      <td>Sim</td>\n",
              "    </tr>\n",
              "    <tr>\n",
              "      <th>18362</th>\n",
              "      <td>1,90E+11</td>\n",
              "      <td>Araras</td>\n",
              "      <td>17</td>\n",
              "      <td>F</td>\n",
              "      <td>1</td>\n",
              "      <td>branca</td>\n",
              "      <td>1</td>\n",
              "      <td>2</td>\n",
              "      <td>pública</td>\n",
              "      <td>35019926.0</td>\n",
              "      <td>...</td>\n",
              "      <td>571.5</td>\n",
              "      <td>Espanhol</td>\n",
              "      <td>1.0</td>\n",
              "      <td>160.0</td>\n",
              "      <td>120.0</td>\n",
              "      <td>120.0</td>\n",
              "      <td>120.0</td>\n",
              "      <td>120.0</td>\n",
              "      <td>640.0</td>\n",
              "      <td>Sim</td>\n",
              "    </tr>\n",
              "  </tbody>\n",
              "</table>\n",
              "<p>5 rows × 28 columns</p>\n",
              "</div>"
            ],
            "text/plain": [
              "      NU_INSCRICAO NO_MUNICIPIO_RESIDENCIA  IDADE SEXO  TP_ESTADO_CIVIL  \\\n",
              "8722      1,90E+11                  Araras     18    F                1   \n",
              "11642     1,90E+11                  Araras     17    F                1   \n",
              "17760     1,90E+11                  Araras     18    F                1   \n",
              "18261     1,90E+11                  Araras     18    M                1   \n",
              "18362     1,90E+11                  Araras     17    F                1   \n",
              "\n",
              "         RACA  TP_NACIONALIDADE  TP_ST_CONCLUSAO   ESCOLA   CO_ESCOLA  ...  \\\n",
              "8722   branca                 1                2  pública  35019926.0  ...   \n",
              "11642  branca                 1                2  pública  35019926.0  ...   \n",
              "17760  branca                 1                2  pública  35019926.0  ...   \n",
              "18261   parda                 1                2  pública  35019926.0  ...   \n",
              "18362  branca                 1                2  pública  35019926.0  ...   \n",
              "\n",
              "      NOTA_MT  TP_LINGUA  TP_STATUS_REDACAO  COMP1  COMP2  COMP3  COMP4  \\\n",
              "8722    437.5     Inglês                1.0  120.0  120.0  120.0  120.0   \n",
              "11642   636.1     Inglês                1.0  140.0  120.0  140.0  120.0   \n",
              "17760   685.7   Espanhol                1.0  160.0  120.0  140.0  120.0   \n",
              "18261    65.9     Inglês                1.0  160.0  160.0  140.0  180.0   \n",
              "18362   571.5   Espanhol                1.0  160.0  120.0  120.0  120.0   \n",
              "\n",
              "       COMP5  NOTA_REDACAO INTERNET  \n",
              "8722   100.0         580.0      Sim  \n",
              "11642  140.0         660.0      Sim  \n",
              "17760  140.0         680.0      Sim  \n",
              "18261  180.0         820.0      Sim  \n",
              "18362  120.0         640.0      Sim  \n",
              "\n",
              "[5 rows x 28 columns]"
            ]
          },
          "execution_count": 13,
          "metadata": {},
          "output_type": "execute_result"
        }
      ],
      "source": [
        "colegioy.head()"
      ]
    },
    {
      "cell_type": "markdown",
      "metadata": {
        "id": "CBuFd2yGfSMP"
      },
      "source": [
        "1) Analisar a classificação das variáveis"
      ]
    },
    {
      "cell_type": "code",
      "execution_count": 14,
      "metadata": {
        "colab": {
          "base_uri": "https://localhost:8080/"
        },
        "id": "VZfjhBVufRdz",
        "outputId": "7978b2e3-9782-489f-f3b9-7a7b26e0e676"
      },
      "outputs": [
        {
          "data": {
            "text/plain": [
              "NU_INSCRICAO                object\n",
              "NO_MUNICIPIO_RESIDENCIA     object\n",
              "IDADE                        int64\n",
              "SEXO                        object\n",
              "TP_ESTADO_CIVIL              int64\n",
              "RACA                        object\n",
              "TP_NACIONALIDADE             int64\n",
              "TP_ST_CONCLUSAO              int64\n",
              "ESCOLA                      object\n",
              "CO_ESCOLA                  float64\n",
              "NO_MUNICIPIO_ESC            object\n",
              "TP_PRESENCA_CN               int64\n",
              "TP_PRESENCA_CH               int64\n",
              "TP_PRESENCA_LC               int64\n",
              "TP_PRESENCA_MT               int64\n",
              "NOTA_CN                    float64\n",
              "NOTA_CH                    float64\n",
              "NOTA_LC                    float64\n",
              "NOTA_MT                    float64\n",
              "TP_LINGUA                   object\n",
              "TP_STATUS_REDACAO          float64\n",
              "COMP1                      float64\n",
              "COMP2                      float64\n",
              "COMP3                      float64\n",
              "COMP4                      float64\n",
              "COMP5                      float64\n",
              "NOTA_REDACAO               float64\n",
              "INTERNET                    object\n",
              "dtype: object"
            ]
          },
          "execution_count": 14,
          "metadata": {},
          "output_type": "execute_result"
        }
      ],
      "source": [
        "colegioy.dtypes"
      ]
    },
    {
      "cell_type": "markdown",
      "metadata": {
        "id": "6pMJjefKgP8u"
      },
      "source": [
        "2) Analisar valores missing"
      ]
    },
    {
      "cell_type": "code",
      "execution_count": 15,
      "metadata": {
        "colab": {
          "base_uri": "https://localhost:8080/"
        },
        "id": "Jk34lwvkgTdy",
        "outputId": "787502dd-2eaa-4f9d-9338-e80132ae9662"
      },
      "outputs": [
        {
          "data": {
            "text/plain": [
              "NU_INSCRICAO               0\n",
              "NO_MUNICIPIO_RESIDENCIA    0\n",
              "IDADE                      0\n",
              "SEXO                       0\n",
              "TP_ESTADO_CIVIL            0\n",
              "RACA                       0\n",
              "TP_NACIONALIDADE           0\n",
              "TP_ST_CONCLUSAO            0\n",
              "ESCOLA                     0\n",
              "CO_ESCOLA                  0\n",
              "NO_MUNICIPIO_ESC           0\n",
              "TP_PRESENCA_CN             0\n",
              "TP_PRESENCA_CH             0\n",
              "TP_PRESENCA_LC             0\n",
              "TP_PRESENCA_MT             0\n",
              "NOTA_CN                    0\n",
              "NOTA_CH                    0\n",
              "NOTA_LC                    0\n",
              "NOTA_MT                    0\n",
              "TP_LINGUA                  0\n",
              "TP_STATUS_REDACAO          0\n",
              "COMP1                      0\n",
              "COMP2                      0\n",
              "COMP3                      0\n",
              "COMP4                      0\n",
              "COMP5                      0\n",
              "NOTA_REDACAO               0\n",
              "INTERNET                   0\n",
              "dtype: int64"
            ]
          },
          "execution_count": 15,
          "metadata": {},
          "output_type": "execute_result"
        }
      ],
      "source": [
        "colegioy.isnull().sum()"
      ]
    },
    {
      "cell_type": "markdown",
      "metadata": {
        "id": "Gp-LFhhXgxNo"
      },
      "source": [
        "3) Analisar outliers"
      ]
    },
    {
      "cell_type": "code",
      "execution_count": 16,
      "metadata": {
        "id": "iVl4Du_PgwjE"
      },
      "outputs": [],
      "source": [
        "import seaborn as sns"
      ]
    },
    {
      "cell_type": "code",
      "execution_count": 17,
      "metadata": {
        "colab": {
          "base_uri": "https://localhost:8080/",
          "height": 542
        },
        "id": "TL5yjLWKhH4c",
        "outputId": "16c86dac-728e-420a-b282-33bce4b7c2db"
      },
      "outputs": [
        {
          "data": {
            "image/png": "[encoded data removed]",
            "text/plain": [
              "<Figure size 640x480 with 1 Axes>"
            ]
          },
          "metadata": {},
          "output_type": "display_data"
        }
      ],
      "source": [
        "grafico = sns.boxplot(colegioy, y=\"NOTA_REDACAO\")\n"
      ]
    },
    {
      "cell_type": "markdown",
      "metadata": {
        "id": "KSbhsCFohR9O"
      },
      "source": [
        "4) Analisar Normalidade"
      ]
    },
    {
      "cell_type": "code",
      "execution_count": 18,
      "metadata": {
        "colab": {
          "base_uri": "https://localhost:8080/",
          "height": 280
        },
        "id": "UZhguR7Qiy5Q",
        "outputId": "c501e202-2302-4e21-a2b1-0371333497dd"
      },
      "outputs": [
        {
          "data": {
            "image/png": "[encoded data removed]",
            "text/plain": [
              "<Figure size 640x480 with 1 Axes>"
            ]
          },
          "metadata": {},
          "output_type": "display_data"
        }
      ],
      "source": [
        "sns.histplot(colegioy, x='NOTA_REDACAO', bins=10, color=\"orange\", kde=True, stat=\"probability\");"
      ]
    },
    {
      "cell_type": "code",
      "execution_count": 19,
      "metadata": {
        "id": "89NBIIl9jHFZ"
      },
      "outputs": [],
      "source": [
        "import scipy.stats as stats\n",
        "import matplotlib.pyplot as plt"
      ]
    },
    {
      "cell_type": "code",
      "execution_count": 20,
      "metadata": {
        "colab": {
          "base_uri": "https://localhost:8080/",
          "height": 295
        },
        "id": "C8sjAI4tjQaW",
        "outputId": "befa2b9a-a3c4-450d-b67d-8cf35bf6ab62"
      },
      "outputs": [
        {
          "data": {
            "image/png": "[encoded data removed]",
            "text/plain": [
              "<Figure size 640x480 with 1 Axes>"
            ]
          },
          "metadata": {},
          "output_type": "display_data"
        }
      ],
      "source": [
        "stats.probplot(colegioy['NOTA_REDACAO'], dist=\"norm\", plot=plt)\n",
        "plt.title(\"Normal QQ plot\")\n",
        "plt.show()"
      ]
    },
    {
      "cell_type": "markdown",
      "metadata": {
        "id": "Y7ax_KNLh_3F"
      },
      "source": [
        "CRITÉRIOS:\n",
        "\n",
        "NÍVEL DE SIGNIFICÂNCIA DE 0,05 ou 5% (MAIS UTILIZADO)\n",
        "\n",
        "QUANDO p > 0,05 (distribuição normal)."
      ]
    },
    {
      "cell_type": "code",
      "execution_count": 21,
      "metadata": {
        "colab": {
          "base_uri": "https://localhost:8080/"
        },
        "id": "uAwCqFApomAk",
        "outputId": "06f28d66-7fb7-4aaf-84ec-534cbdc584dc"
      },
      "outputs": [
        {
          "data": {
            "text/plain": [
              "ShapiroResult(statistic=np.float64(0.9745297837573323), pvalue=np.float64(0.026141514999179147))"
            ]
          },
          "execution_count": 21,
          "metadata": {},
          "output_type": "execute_result"
        }
      ],
      "source": [
        "# Teste Shapiro-Wilk\n",
        "stats.shapiro(colegioy.NOTA_REDACAO)"
      ]
    },
    {
      "cell_type": "code",
      "execution_count": 22,
      "metadata": {
        "colab": {
          "base_uri": "https://localhost:8080/"
        },
        "id": "WuMuvFNkmJ9A",
        "outputId": "ebf39975-5ad7-436c-e10b-a1e8fb0072c4"
      },
      "outputs": [],
      "source": [
        "import statsmodels\n",
        "from statsmodels.stats.diagnostic import lilliefors"
      ]
    },
    {
      "cell_type": "code",
      "execution_count": 23,
      "metadata": {
        "colab": {
          "base_uri": "https://localhost:8080/"
        },
        "id": "XtO7hcxHk-_6",
        "outputId": "a35b4281-e6f4-4351-ff04-5b605751a3f7"
      },
      "outputs": [
        {
          "data": {
            "text/plain": [
              "(np.float64(0.11850395226532423), np.float64(0.0009999999999998899))"
            ]
          },
          "execution_count": 23,
          "metadata": {},
          "output_type": "execute_result"
        }
      ],
      "source": [
        "# Teste Lilliefors (Kolmogorov_Sminorv)\n",
        "statsmodels.stats.diagnostic.lilliefors(colegioy.NOTA_REDACAO, dist = 'norm')"
      ]
    },
    {
      "cell_type": "code",
      "execution_count": 24,
      "metadata": {
        "colab": {
          "base_uri": "https://localhost:8080/"
        },
        "id": "0oUP5WgbjqM2",
        "outputId": "5bffd9da-508d-4349-c612-421a35ecba40"
      },
      "outputs": [
        {
          "data": {
            "text/plain": [
              "AndersonResult(statistic=np.float64(1.0485125064531502), critical_values=array([0.558, 0.635, 0.762, 0.889, 1.057]), significance_level=array([15. , 10. ,  5. ,  2.5,  1. ]), fit_result=  params: FitParams(loc=np.float64(674.8275862068965), scale=np.float64(119.10158439876798))\n",
              " success: True\n",
              " message: '`anderson` successfully fit the distribution to the data.')"
            ]
          },
          "execution_count": 24,
          "metadata": {},
          "output_type": "execute_result"
        }
      ],
      "source": [
        "# Teste Anderson-Darling\n",
        "stats.anderson(colegioy.NOTA_REDACAO, 'norm')"
      ]
    },
    {
      "cell_type": "markdown",
      "metadata": {
        "id": "4rmFTSIiiUGV"
      },
      "source": [
        "## TESTE t\n",
        "\n",
        "Média das notas do colégio Y, comparada a média do Estado de São Paulo."
      ]
    },
    {
      "cell_type": "markdown",
      "metadata": {
        "id": "IAnRzT0_xGiN"
      },
      "source": [
        "Ho = média é igual a de São Paulo : p > 0.05\n",
        "\n",
        "Ha = média é diferente da de São Paulo : p <= 0.05"
      ]
    },
    {
      "cell_type": "code",
      "execution_count": 25,
      "metadata": {
        "colab": {
          "base_uri": "https://localhost:8080/"
        },
        "id": "UayD_YpcszlW",
        "outputId": "fdb1328b-2095-46f1-cc81-da2152355263"
      },
      "outputs": [
        {
          "data": {
            "text/plain": [
              "count    499940.000000\n",
              "mean        593.018322\n",
              "std         170.536724\n",
              "min           0.000000\n",
              "25%         500.000000\n",
              "50%         600.000000\n",
              "75%         680.000000\n",
              "max        1000.000000\n",
              "Name: NOTA_REDACAO, dtype: float64"
            ]
          },
          "execution_count": 25,
          "metadata": {},
          "output_type": "execute_result"
        }
      ],
      "source": [
        "enem_sp.NOTA_REDACAO.describe()"
      ]
    },
    {
      "cell_type": "code",
      "execution_count": 26,
      "metadata": {
        "id": "vJ9fMU6Sy2bp"
      },
      "outputs": [],
      "source": [
        "import scipy.stats as stats"
      ]
    },
    {
      "cell_type": "code",
      "execution_count": 27,
      "metadata": {
        "colab": {
          "base_uri": "https://localhost:8080/"
        },
        "id": "f4Owd2zjccOM",
        "outputId": "775c7ef3-7669-4e7b-cb37-8babc45105e6"
      },
      "outputs": [
        {
          "name": "stdout",
          "output_type": "stream",
          "text": [
            "Estatística de teste: 7.4\n",
            "p-valor: 0.0\n"
          ]
        }
      ],
      "source": [
        "stat, p = stats.ttest_1samp(colegioy['NOTA_REDACAO'], popmean=593.018)\n",
        "print('Estatística de teste: {}'.format(stat.round(2)))\n",
        "print('p-valor: {}'.format(p.round(10)))"
      ]
    },
    {
      "cell_type": "code",
      "execution_count": 28,
      "metadata": {
        "colab": {
          "base_uri": "https://localhost:8080/"
        },
        "id": "jZ4-NBl5utSZ",
        "outputId": "e3afdae4-9d6f-4801-cbc9-5dde09473c88"
      },
      "outputs": [
        {
          "data": {
            "text/plain": [
              "count    116.000000\n",
              "mean     674.827586\n",
              "std      119.101584\n",
              "min      300.000000\n",
              "25%      600.000000\n",
              "50%      660.000000\n",
              "75%      760.000000\n",
              "max      940.000000\n",
              "Name: NOTA_REDACAO, dtype: float64"
            ]
          },
          "execution_count": 28,
          "metadata": {},
          "output_type": "execute_result"
        }
      ],
      "source": [
        "colegioy.NOTA_REDACAO.describe()"
      ]
    },
    {
      "cell_type": "markdown",
      "metadata": {
        "id": "Oanhqgecveuo"
      },
      "source": [
        "**INTERPRETAÇÃO:**\n",
        "\n",
        "Teste estatístico: t = 7,4\n",
        "\n",
        "p_valor = 0.0\n",
        "\n",
        "\n"
      ]
    }
  ],
  "metadata": {
    "colab": {
      "collapsed_sections": [],
      "name": "teste_t.ipynb",
      "provenance": []
    },
    "kernelspec": {
      "display_name": "Python 3",
      "name": "python3"
    },
    "language_info": {
      "codemirror_mode": {
        "name": "ipython",
        "version": 3
      },
      "file_extension": ".py",
      "mimetype": "text/x-python",
      "name": "python",
      "nbconvert_exporter": "python",
      "pygments_lexer": "ipython3",
      "version": "3.12.5"
    }
  },
  "nbformat": 4,
  "nbformat_minor": 0
}
