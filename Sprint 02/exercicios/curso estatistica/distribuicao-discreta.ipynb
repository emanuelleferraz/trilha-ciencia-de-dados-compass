{
 "cells": [
  {
   "cell_type": "markdown",
   "metadata": {},
   "source": [
    "# Distribução Discreta"
   ]
  },
  {
   "cell_type": "code",
   "execution_count": 1,
   "metadata": {},
   "outputs": [],
   "source": [
    "import numpy as np\n",
    "import pandas as pd"
   ]
  },
  {
   "cell_type": "code",
   "execution_count": 2,
   "metadata": {},
   "outputs": [],
   "source": [
    "enem_sp = pd.read_csv('enem_2019_tratado.csv', sep=',', encoding='iso-8859-1')"
   ]
  },
  {
   "cell_type": "markdown",
   "metadata": {},
   "source": [
    "## Distribuição Binomial"
   ]
  },
  {
   "cell_type": "code",
   "execution_count": 3,
   "metadata": {},
   "outputs": [],
   "source": [
    "from scipy.stats import binom"
   ]
  },
  {
   "cell_type": "code",
   "execution_count": 4,
   "metadata": {},
   "outputs": [],
   "source": [
    "# Probabilidade de retirar uma mulher\n",
    "mulher_enem = enem_sp.loc[enem_sp.SEXO == 'F']"
   ]
  },
  {
   "cell_type": "code",
   "execution_count": 5,
   "metadata": {},
   "outputs": [
    {
     "data": {
      "text/plain": [
       "0.5803136376365163"
      ]
     },
     "execution_count": 5,
     "metadata": {},
     "output_type": "execute_result"
    }
   ],
   "source": [
    "# Variável P representa a probabilidade\n",
    "p = len(mulher_enem) / len(enem_sp)\n",
    "p"
   ]
  },
  {
   "cell_type": "markdown",
   "metadata": {},
   "source": [
    "- Funções:\n",
    " - binom.pmf = valor pontual\n",
    " - binom.cdf = faixa de valores (acumulada)"
   ]
  },
  {
   "cell_type": "code",
   "execution_count": 6,
   "metadata": {},
   "outputs": [
    {
     "data": {
      "text/plain": [
       "np.float64(0.13014261971434243)"
      ]
     },
     "execution_count": 6,
     "metadata": {},
     "output_type": "execute_result"
    }
   ],
   "source": [
    "# Probabilidade de retirar EXATAMENTE 4 mulheres num total de 10 amostras\n",
    "# Quando se quer um valor exato, usa-se binom.pmf()\n",
    "binom.pmf(4,10,p)\n",
    "\n",
    "\n",
    "# Primeiro parâmetro:valor ou limite que se está pretendendo calcular\n",
    "# Segundo: número de tentativas\n",
    "# Terceiro: probabilidade de um sucesso."
   ]
  },
  {
   "cell_type": "code",
   "execution_count": 7,
   "metadata": {},
   "outputs": [
    {
     "data": {
      "text/plain": [
       "np.float64(0.9998304692157152)"
      ]
     },
     "execution_count": 7,
     "metadata": {},
     "output_type": "execute_result"
    }
   ],
   "source": [
    "# Probabilidade de retirar PELO MENOS UMA mulher num total de 10 amostras\n",
    "\n",
    "p0 = 1 - binom.pmf(0,10,p) # 1 - o que NÃO pode ocorrer\n",
    "p0"
   ]
  },
  {
   "cell_type": "code",
   "execution_count": 8,
   "metadata": {},
   "outputs": [
    {
     "data": {
      "text/plain": [
       "np.float64(0.997486313318782)"
      ]
     },
     "execution_count": 8,
     "metadata": {},
     "output_type": "execute_result"
    }
   ],
   "source": [
    "# Probabilidade de retirar MAIS DO QUE UMA mulher num total de 10 amostras\n",
    "p1 = 1 - (binom.pmf(0,10,p)+binom.pmf(1,10,p)) # 1 - o que não pode ocorrer\n",
    "p1"
   ]
  },
  {
   "cell_type": "code",
   "execution_count": 10,
   "metadata": {},
   "outputs": [
    {
     "data": {
      "text/plain": [
       "np.float64(0.929117468512205)"
      ]
     },
     "execution_count": 10,
     "metadata": {},
     "output_type": "execute_result"
    }
   ],
   "source": [
    "# Probabilidade de retirar MAIS DO QUE TRÊS mulheres num total de 10 amostras\n",
    "p2 = 1 - (binom.pmf(0,10,p)+binom.pmf(1,10,p)+binom.pmf(2,10,p)+binom.pmf(3,10,p))\n",
    "p2"
   ]
  },
  {
   "cell_type": "markdown",
   "metadata": {},
   "source": [
    " - Outra forma"
   ]
  },
  {
   "cell_type": "code",
   "execution_count": 12,
   "metadata": {},
   "outputs": [
    {
     "data": {
      "text/plain": [
       "np.float64(0.929117468512205)"
      ]
     },
     "execution_count": 12,
     "metadata": {},
     "output_type": "execute_result"
    }
   ],
   "source": [
    "# Utilizando cdf()\n",
    "p3 = 1 - binom.cdf(3, 10, p)\n",
    "p3"
   ]
  },
  {
   "cell_type": "code",
   "execution_count": 13,
   "metadata": {},
   "outputs": [
    {
     "data": {
      "text/plain": [
       "np.float64(0.03565630595957381)"
      ]
     },
     "execution_count": 13,
     "metadata": {},
     "output_type": "execute_result"
    }
   ],
   "source": [
    "# Probabilidade de retirar MAIS DO QUE OITO mulheres num total de 10 amostras\n",
    "p4 = binom.pmf(9,10,p)+binom.pmf(10,10,p)\n",
    "p4"
   ]
  },
  {
   "cell_type": "markdown",
   "metadata": {},
   "source": [
    " - Outra forma"
   ]
  },
  {
   "cell_type": "code",
   "execution_count": 14,
   "metadata": {},
   "outputs": [
    {
     "data": {
      "text/plain": [
       "np.float64(0.03565630595957381)"
      ]
     },
     "execution_count": 14,
     "metadata": {},
     "output_type": "execute_result"
    }
   ],
   "source": [
    "# Usando cdf()\n",
    "p5 = binom.cdf(10, 10, p) - binom.cdf(8, 10, p) # calcula do total - o 8\n",
    "p5"
   ]
  },
  {
   "cell_type": "markdown",
   "metadata": {},
   "source": [
    "## Distribuição Geométrica"
   ]
  },
  {
   "cell_type": "code",
   "execution_count": 15,
   "metadata": {},
   "outputs": [],
   "source": [
    "from scipy.stats import geom"
   ]
  },
  {
   "cell_type": "code",
   "execution_count": 16,
   "metadata": {},
   "outputs": [
    {
     "data": {
      "text/plain": [
       "np.float64(0.042898029955685306)"
      ]
     },
     "execution_count": 16,
     "metadata": {},
     "output_type": "execute_result"
    }
   ],
   "source": [
    "# Probabilidade de retirar três amostras e nenhuma ser mulher\n",
    "# geom.pmf(x,p) \n",
    "# x representa a tentativa que se obteve sucesso e p a probabilidade\n",
    "\n",
    "geom.pmf(4, p) # se teve 3 fracassos o sucesso vai ser no quarto"
   ]
  },
  {
   "cell_type": "markdown",
   "metadata": {},
   "source": [
    "## Distribuição de Poisson"
   ]
  },
  {
   "cell_type": "code",
   "execution_count": 17,
   "metadata": {},
   "outputs": [],
   "source": [
    "from scipy.stats import poisson"
   ]
  },
  {
   "cell_type": "markdown",
   "metadata": {},
   "source": [
    "Criação do problema:\n",
    "Num local de prova, 100 vestibulandos, normalmente, terminaram a prova em 2 horas (tempo mínimo).\n",
    "\n",
    "Probabilidade de exatamente 90 vestibulandos terminarem a prova em 2h.\n",
    "\n",
    "poisson.pmf(x, m) x é a quantidade de ocorrências EM ESTUDO e m é a taxa de ocorrências."
   ]
  },
  {
   "cell_type": "code",
   "execution_count": 18,
   "metadata": {},
   "outputs": [
    {
     "data": {
      "text/plain": [
       "np.float64(0.025038944623030353)"
      ]
     },
     "execution_count": 18,
     "metadata": {},
     "output_type": "execute_result"
    }
   ],
   "source": [
    "poisson.pmf(90,100)"
   ]
  }
 ],
 "metadata": {
  "kernelspec": {
   "display_name": "Python 3",
   "language": "python",
   "name": "python3"
  },
  "language_info": {
   "codemirror_mode": {
    "name": "ipython",
    "version": 3
   },
   "file_extension": ".py",
   "mimetype": "text/x-python",
   "name": "python",
   "nbconvert_exporter": "python",
   "pygments_lexer": "ipython3",
   "version": "3.12.5"
  }
 },
 "nbformat": 4,
 "nbformat_minor": 2
}
