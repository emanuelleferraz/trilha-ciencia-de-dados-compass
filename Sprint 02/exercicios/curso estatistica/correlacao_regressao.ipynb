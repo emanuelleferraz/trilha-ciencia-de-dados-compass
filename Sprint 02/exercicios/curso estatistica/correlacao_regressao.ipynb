{
  "cells": [
    {
      "cell_type": "markdown",
      "metadata": {
        "id": "ctI2aXyN6iLE"
      },
      "source": [
        "# Correlação"
      ]
    },
    {
      "cell_type": "code",
      "execution_count": 1,
      "metadata": {
        "id": "-NOyC-Ys6dnV"
      },
      "outputs": [],
      "source": [
        "import numpy as np\n",
        "import pandas as pd"
      ]
    },
    {
      "cell_type": "code",
      "execution_count": 2,
      "metadata": {
        "id": "VV5GpLNyyWUR"
      },
      "outputs": [],
      "source": [
        "enem_sp = pd.read_csv('enem_2019_tratado.csv', sep=',', encoding='iso-8859-1')"
      ]
    },
    {
      "cell_type": "code",
      "execution_count": 3,
      "metadata": {
        "id": "yOLAiUiq16FZ"
      },
      "outputs": [],
      "source": [
        "colegiox = enem_sp.loc[enem_sp.CO_ESCOLA == 35017632.0]"
      ]
    },
    {
      "cell_type": "code",
      "execution_count": 4,
      "metadata": {
        "colab": {
          "base_uri": "https://localhost:8080/"
        },
        "id": "J22ydZqdM73J",
        "outputId": "a051cb05-4f0a-4a13-b95e-f44641855522"
      },
      "outputs": [
        {
          "data": {
            "text/plain": [
              "(41, 28)"
            ]
          },
          "execution_count": 4,
          "metadata": {},
          "output_type": "execute_result"
        }
      ],
      "source": [
        "colegiox.shape"
      ]
    },
    {
      "cell_type": "code",
      "execution_count": 5,
      "metadata": {
        "id": "KXEyiFmf2Y4o"
      },
      "outputs": [],
      "source": [
        "# Lista com nota final\n",
        "nota_final = ['NOTA_CN','NOTA_CH','NOTA_MT','NOTA_LC', 'NOTA_REDACAO']"
      ]
    },
    {
      "cell_type": "code",
      "execution_count": 6,
      "metadata": {
        "colab": {
          "base_uri": "https://localhost:8080/"
        },
        "id": "s5sibwE32_H7",
        "outputId": "5f4646b6-498a-4e6e-b2dd-64bf03a8a63e"
      },
      "outputs": [
        {
          "name": "stderr",
          "output_type": "stream",
          "text": [
            "C:\\Users\\Emanuelle\\AppData\\Local\\Temp\\ipykernel_24504\\3916405944.py:1: SettingWithCopyWarning: \n",
            "A value is trying to be set on a copy of a slice from a DataFrame.\n",
            "Try using .loc[row_indexer,col_indexer] = value instead\n",
            "\n",
            "See the caveats in the documentation: https://pandas.pydata.org/pandas-docs/stable/user_guide/indexing.html#returning-a-view-versus-a-copy\n",
            "  colegiox['nota_final'] = (colegiox[nota_final].mean(axis=1))\n"
          ]
        }
      ],
      "source": [
        "colegiox['nota_final'] = (colegiox[nota_final].mean(axis=1))"
      ]
    },
    {
      "cell_type": "code",
      "execution_count": 7,
      "metadata": {
        "colab": {
          "base_uri": "https://localhost:8080/",
          "height": 215
        },
        "id": "h0fS0LiJ3SwN",
        "outputId": "a35c1283-03c2-4b7c-c8ef-efc217bbb201"
      },
      "outputs": [
        {
          "data": {
            "text/html": [
              "<div>\n",
              "<style scoped>\n",
              "    .dataframe tbody tr th:only-of-type {\n",
              "        vertical-align: middle;\n",
              "    }\n",
              "\n",
              "    .dataframe tbody tr th {\n",
              "        vertical-align: top;\n",
              "    }\n",
              "\n",
              "    .dataframe thead th {\n",
              "        text-align: right;\n",
              "    }\n",
              "</style>\n",
              "<table border=\"1\" class=\"dataframe\">\n",
              "  <thead>\n",
              "    <tr style=\"text-align: right;\">\n",
              "      <th></th>\n",
              "      <th>NU_INSCRICAO</th>\n",
              "      <th>NO_MUNICIPIO_RESIDENCIA</th>\n",
              "      <th>IDADE</th>\n",
              "      <th>SEXO</th>\n",
              "      <th>TP_ESTADO_CIVIL</th>\n",
              "      <th>RACA</th>\n",
              "      <th>TP_NACIONALIDADE</th>\n",
              "      <th>TP_ST_CONCLUSAO</th>\n",
              "      <th>ESCOLA</th>\n",
              "      <th>CO_ESCOLA</th>\n",
              "      <th>...</th>\n",
              "      <th>TP_LINGUA</th>\n",
              "      <th>TP_STATUS_REDACAO</th>\n",
              "      <th>COMP1</th>\n",
              "      <th>COMP2</th>\n",
              "      <th>COMP3</th>\n",
              "      <th>COMP4</th>\n",
              "      <th>COMP5</th>\n",
              "      <th>NOTA_REDACAO</th>\n",
              "      <th>INTERNET</th>\n",
              "      <th>nota_final</th>\n",
              "    </tr>\n",
              "  </thead>\n",
              "  <tbody>\n",
              "    <tr>\n",
              "      <th>37</th>\n",
              "      <td>1,90E+11</td>\n",
              "      <td>Águas de Lindóia</td>\n",
              "      <td>18</td>\n",
              "      <td>M</td>\n",
              "      <td>1</td>\n",
              "      <td>branca</td>\n",
              "      <td>1</td>\n",
              "      <td>2</td>\n",
              "      <td>pública</td>\n",
              "      <td>35017632.0</td>\n",
              "      <td>...</td>\n",
              "      <td>Inglês</td>\n",
              "      <td>1.0</td>\n",
              "      <td>120.0</td>\n",
              "      <td>40.0</td>\n",
              "      <td>40.0</td>\n",
              "      <td>120.0</td>\n",
              "      <td>20.0</td>\n",
              "      <td>340.0</td>\n",
              "      <td>Sim</td>\n",
              "      <td>385.58</td>\n",
              "    </tr>\n",
              "    <tr>\n",
              "      <th>44</th>\n",
              "      <td>1,90E+11</td>\n",
              "      <td>Águas de Lindóia</td>\n",
              "      <td>17</td>\n",
              "      <td>F</td>\n",
              "      <td>1</td>\n",
              "      <td>parda</td>\n",
              "      <td>1</td>\n",
              "      <td>2</td>\n",
              "      <td>pública</td>\n",
              "      <td>35017632.0</td>\n",
              "      <td>...</td>\n",
              "      <td>Inglês</td>\n",
              "      <td>1.0</td>\n",
              "      <td>140.0</td>\n",
              "      <td>120.0</td>\n",
              "      <td>140.0</td>\n",
              "      <td>160.0</td>\n",
              "      <td>160.0</td>\n",
              "      <td>720.0</td>\n",
              "      <td>Não</td>\n",
              "      <td>548.42</td>\n",
              "    </tr>\n",
              "    <tr>\n",
              "      <th>52</th>\n",
              "      <td>1,90E+11</td>\n",
              "      <td>Águas de Lindóia</td>\n",
              "      <td>17</td>\n",
              "      <td>F</td>\n",
              "      <td>1</td>\n",
              "      <td>branca</td>\n",
              "      <td>1</td>\n",
              "      <td>2</td>\n",
              "      <td>pública</td>\n",
              "      <td>35017632.0</td>\n",
              "      <td>...</td>\n",
              "      <td>Espanhol</td>\n",
              "      <td>1.0</td>\n",
              "      <td>120.0</td>\n",
              "      <td>120.0</td>\n",
              "      <td>120.0</td>\n",
              "      <td>120.0</td>\n",
              "      <td>80.0</td>\n",
              "      <td>560.0</td>\n",
              "      <td>Não</td>\n",
              "      <td>399.60</td>\n",
              "    </tr>\n",
              "    <tr>\n",
              "      <th>65</th>\n",
              "      <td>1,90E+11</td>\n",
              "      <td>Águas de Lindóia</td>\n",
              "      <td>17</td>\n",
              "      <td>M</td>\n",
              "      <td>1</td>\n",
              "      <td>parda</td>\n",
              "      <td>1</td>\n",
              "      <td>2</td>\n",
              "      <td>pública</td>\n",
              "      <td>35017632.0</td>\n",
              "      <td>...</td>\n",
              "      <td>Inglês</td>\n",
              "      <td>1.0</td>\n",
              "      <td>120.0</td>\n",
              "      <td>120.0</td>\n",
              "      <td>120.0</td>\n",
              "      <td>120.0</td>\n",
              "      <td>40.0</td>\n",
              "      <td>520.0</td>\n",
              "      <td>Sim</td>\n",
              "      <td>446.16</td>\n",
              "    </tr>\n",
              "    <tr>\n",
              "      <th>79</th>\n",
              "      <td>1,90E+11</td>\n",
              "      <td>Águas de Lindóia</td>\n",
              "      <td>18</td>\n",
              "      <td>F</td>\n",
              "      <td>1</td>\n",
              "      <td>branca</td>\n",
              "      <td>1</td>\n",
              "      <td>2</td>\n",
              "      <td>pública</td>\n",
              "      <td>35017632.0</td>\n",
              "      <td>...</td>\n",
              "      <td>Espanhol</td>\n",
              "      <td>1.0</td>\n",
              "      <td>120.0</td>\n",
              "      <td>120.0</td>\n",
              "      <td>120.0</td>\n",
              "      <td>140.0</td>\n",
              "      <td>140.0</td>\n",
              "      <td>640.0</td>\n",
              "      <td>Sim</td>\n",
              "      <td>433.62</td>\n",
              "    </tr>\n",
              "  </tbody>\n",
              "</table>\n",
              "<p>5 rows × 29 columns</p>\n",
              "</div>"
            ],
            "text/plain": [
              "   NU_INSCRICAO NO_MUNICIPIO_RESIDENCIA  IDADE SEXO  TP_ESTADO_CIVIL    RACA  \\\n",
              "37     1,90E+11        Águas de Lindóia     18    M                1  branca   \n",
              "44     1,90E+11        Águas de Lindóia     17    F                1   parda   \n",
              "52     1,90E+11        Águas de Lindóia     17    F                1  branca   \n",
              "65     1,90E+11        Águas de Lindóia     17    M                1   parda   \n",
              "79     1,90E+11        Águas de Lindóia     18    F                1  branca   \n",
              "\n",
              "    TP_NACIONALIDADE  TP_ST_CONCLUSAO   ESCOLA   CO_ESCOLA  ... TP_LINGUA  \\\n",
              "37                 1                2  pública  35017632.0  ...    Inglês   \n",
              "44                 1                2  pública  35017632.0  ...    Inglês   \n",
              "52                 1                2  pública  35017632.0  ...  Espanhol   \n",
              "65                 1                2  pública  35017632.0  ...    Inglês   \n",
              "79                 1                2  pública  35017632.0  ...  Espanhol   \n",
              "\n",
              "    TP_STATUS_REDACAO  COMP1  COMP2  COMP3  COMP4  COMP5  NOTA_REDACAO  \\\n",
              "37                1.0  120.0   40.0   40.0  120.0   20.0         340.0   \n",
              "44                1.0  140.0  120.0  140.0  160.0  160.0         720.0   \n",
              "52                1.0  120.0  120.0  120.0  120.0   80.0         560.0   \n",
              "65                1.0  120.0  120.0  120.0  120.0   40.0         520.0   \n",
              "79                1.0  120.0  120.0  120.0  140.0  140.0         640.0   \n",
              "\n",
              "    INTERNET nota_final  \n",
              "37       Sim     385.58  \n",
              "44       Não     548.42  \n",
              "52       Não     399.60  \n",
              "65       Sim     446.16  \n",
              "79       Sim     433.62  \n",
              "\n",
              "[5 rows x 29 columns]"
            ]
          },
          "execution_count": 7,
          "metadata": {},
          "output_type": "execute_result"
        }
      ],
      "source": [
        "colegiox.head()"
      ]
    },
    {
      "cell_type": "code",
      "execution_count": 8,
      "metadata": {
        "id": "hiI7UebF2ZJz"
      },
      "outputs": [],
      "source": [
        "notas_colegiox = colegiox[['NOTA_CN','NOTA_MT','NOTA_LC','NOTA_CH','NOTA_REDACAO','nota_final']]"
      ]
    },
    {
      "cell_type": "code",
      "execution_count": 9,
      "metadata": {
        "colab": {
          "base_uri": "https://localhost:8080/",
          "height": 1000
        },
        "id": "OWuLjTEK8kC_",
        "outputId": "826588a7-5f4b-448d-a6bf-34aebb097604"
      },
      "outputs": [
        {
          "data": {
            "text/html": [
              "<div>\n",
              "<style scoped>\n",
              "    .dataframe tbody tr th:only-of-type {\n",
              "        vertical-align: middle;\n",
              "    }\n",
              "\n",
              "    .dataframe tbody tr th {\n",
              "        vertical-align: top;\n",
              "    }\n",
              "\n",
              "    .dataframe thead th {\n",
              "        text-align: right;\n",
              "    }\n",
              "</style>\n",
              "<table border=\"1\" class=\"dataframe\">\n",
              "  <thead>\n",
              "    <tr style=\"text-align: right;\">\n",
              "      <th></th>\n",
              "      <th>NOTA_CN</th>\n",
              "      <th>NOTA_MT</th>\n",
              "      <th>NOTA_LC</th>\n",
              "      <th>NOTA_CH</th>\n",
              "      <th>NOTA_REDACAO</th>\n",
              "      <th>nota_final</th>\n",
              "    </tr>\n",
              "  </thead>\n",
              "  <tbody>\n",
              "    <tr>\n",
              "      <th>37</th>\n",
              "      <td>46.3</td>\n",
              "      <td>537.1</td>\n",
              "      <td>557.3</td>\n",
              "      <td>447.2</td>\n",
              "      <td>340.0</td>\n",
              "      <td>385.58</td>\n",
              "    </tr>\n",
              "    <tr>\n",
              "      <th>44</th>\n",
              "      <td>505.9</td>\n",
              "      <td>451.9</td>\n",
              "      <td>529.8</td>\n",
              "      <td>534.5</td>\n",
              "      <td>720.0</td>\n",
              "      <td>548.42</td>\n",
              "    </tr>\n",
              "    <tr>\n",
              "      <th>52</th>\n",
              "      <td>449.4</td>\n",
              "      <td>506.4</td>\n",
              "      <td>45.8</td>\n",
              "      <td>436.4</td>\n",
              "      <td>560.0</td>\n",
              "      <td>399.60</td>\n",
              "    </tr>\n",
              "    <tr>\n",
              "      <th>65</th>\n",
              "      <td>468.6</td>\n",
              "      <td>59.5</td>\n",
              "      <td>576.6</td>\n",
              "      <td>606.1</td>\n",
              "      <td>520.0</td>\n",
              "      <td>446.16</td>\n",
              "    </tr>\n",
              "    <tr>\n",
              "      <th>79</th>\n",
              "      <td>414.3</td>\n",
              "      <td>510.6</td>\n",
              "      <td>49.5</td>\n",
              "      <td>553.7</td>\n",
              "      <td>640.0</td>\n",
              "      <td>433.62</td>\n",
              "    </tr>\n",
              "    <tr>\n",
              "      <th>84</th>\n",
              "      <td>397.8</td>\n",
              "      <td>420.6</td>\n",
              "      <td>473.5</td>\n",
              "      <td>458.5</td>\n",
              "      <td>360.0</td>\n",
              "      <td>422.08</td>\n",
              "    </tr>\n",
              "    <tr>\n",
              "      <th>85</th>\n",
              "      <td>469.1</td>\n",
              "      <td>508.2</td>\n",
              "      <td>488.4</td>\n",
              "      <td>528.7</td>\n",
              "      <td>680.0</td>\n",
              "      <td>534.88</td>\n",
              "    </tr>\n",
              "    <tr>\n",
              "      <th>91</th>\n",
              "      <td>436.3</td>\n",
              "      <td>537.9</td>\n",
              "      <td>530.7</td>\n",
              "      <td>528.8</td>\n",
              "      <td>560.0</td>\n",
              "      <td>518.74</td>\n",
              "    </tr>\n",
              "    <tr>\n",
              "      <th>17070</th>\n",
              "      <td>464.8</td>\n",
              "      <td>500.3</td>\n",
              "      <td>566.3</td>\n",
              "      <td>501.5</td>\n",
              "      <td>600.0</td>\n",
              "      <td>526.58</td>\n",
              "    </tr>\n",
              "    <tr>\n",
              "      <th>17072</th>\n",
              "      <td>465.8</td>\n",
              "      <td>42.4</td>\n",
              "      <td>46.8</td>\n",
              "      <td>488.4</td>\n",
              "      <td>520.0</td>\n",
              "      <td>312.68</td>\n",
              "    </tr>\n",
              "    <tr>\n",
              "      <th>17078</th>\n",
              "      <td>497.6</td>\n",
              "      <td>54.2</td>\n",
              "      <td>540.9</td>\n",
              "      <td>494.7</td>\n",
              "      <td>540.0</td>\n",
              "      <td>425.48</td>\n",
              "    </tr>\n",
              "    <tr>\n",
              "      <th>17110</th>\n",
              "      <td>424.1</td>\n",
              "      <td>537.5</td>\n",
              "      <td>450.6</td>\n",
              "      <td>39.8</td>\n",
              "      <td>500.0</td>\n",
              "      <td>390.40</td>\n",
              "    </tr>\n",
              "    <tr>\n",
              "      <th>108151</th>\n",
              "      <td>50.7</td>\n",
              "      <td>705.3</td>\n",
              "      <td>569.4</td>\n",
              "      <td>558.1</td>\n",
              "      <td>660.0</td>\n",
              "      <td>508.70</td>\n",
              "    </tr>\n",
              "    <tr>\n",
              "      <th>108155</th>\n",
              "      <td>518.3</td>\n",
              "      <td>518.4</td>\n",
              "      <td>524.5</td>\n",
              "      <td>362.9</td>\n",
              "      <td>280.0</td>\n",
              "      <td>440.82</td>\n",
              "    </tr>\n",
              "    <tr>\n",
              "      <th>108180</th>\n",
              "      <td>516.8</td>\n",
              "      <td>480.8</td>\n",
              "      <td>552.4</td>\n",
              "      <td>408.8</td>\n",
              "      <td>520.0</td>\n",
              "      <td>495.76</td>\n",
              "    </tr>\n",
              "    <tr>\n",
              "      <th>138498</th>\n",
              "      <td>421.9</td>\n",
              "      <td>414.6</td>\n",
              "      <td>47.3</td>\n",
              "      <td>390.4</td>\n",
              "      <td>440.0</td>\n",
              "      <td>342.84</td>\n",
              "    </tr>\n",
              "    <tr>\n",
              "      <th>182510</th>\n",
              "      <td>494.4</td>\n",
              "      <td>479.9</td>\n",
              "      <td>548.3</td>\n",
              "      <td>558.9</td>\n",
              "      <td>480.0</td>\n",
              "      <td>512.30</td>\n",
              "    </tr>\n",
              "    <tr>\n",
              "      <th>182519</th>\n",
              "      <td>460.2</td>\n",
              "      <td>480.9</td>\n",
              "      <td>475.6</td>\n",
              "      <td>358.7</td>\n",
              "      <td>520.0</td>\n",
              "      <td>459.08</td>\n",
              "    </tr>\n",
              "    <tr>\n",
              "      <th>182528</th>\n",
              "      <td>349.3</td>\n",
              "      <td>555.1</td>\n",
              "      <td>424.2</td>\n",
              "      <td>458.5</td>\n",
              "      <td>480.0</td>\n",
              "      <td>453.42</td>\n",
              "    </tr>\n",
              "    <tr>\n",
              "      <th>182546</th>\n",
              "      <td>381.2</td>\n",
              "      <td>599.5</td>\n",
              "      <td>518.7</td>\n",
              "      <td>45.9</td>\n",
              "      <td>540.0</td>\n",
              "      <td>417.06</td>\n",
              "    </tr>\n",
              "    <tr>\n",
              "      <th>182581</th>\n",
              "      <td>49.3</td>\n",
              "      <td>469.2</td>\n",
              "      <td>527.9</td>\n",
              "      <td>519.9</td>\n",
              "      <td>660.0</td>\n",
              "      <td>445.26</td>\n",
              "    </tr>\n",
              "    <tr>\n",
              "      <th>182613</th>\n",
              "      <td>418.7</td>\n",
              "      <td>544.9</td>\n",
              "      <td>534.8</td>\n",
              "      <td>45.4</td>\n",
              "      <td>660.0</td>\n",
              "      <td>440.76</td>\n",
              "    </tr>\n",
              "    <tr>\n",
              "      <th>182614</th>\n",
              "      <td>454.7</td>\n",
              "      <td>705.7</td>\n",
              "      <td>471.8</td>\n",
              "      <td>458.2</td>\n",
              "      <td>540.0</td>\n",
              "      <td>526.08</td>\n",
              "    </tr>\n",
              "    <tr>\n",
              "      <th>182615</th>\n",
              "      <td>486.5</td>\n",
              "      <td>409.7</td>\n",
              "      <td>544.8</td>\n",
              "      <td>564.8</td>\n",
              "      <td>660.0</td>\n",
              "      <td>533.16</td>\n",
              "    </tr>\n",
              "    <tr>\n",
              "      <th>182637</th>\n",
              "      <td>43.4</td>\n",
              "      <td>497.1</td>\n",
              "      <td>472.3</td>\n",
              "      <td>456.2</td>\n",
              "      <td>520.0</td>\n",
              "      <td>397.80</td>\n",
              "    </tr>\n",
              "    <tr>\n",
              "      <th>182683</th>\n",
              "      <td>392.8</td>\n",
              "      <td>491.2</td>\n",
              "      <td>519.2</td>\n",
              "      <td>498.6</td>\n",
              "      <td>600.0</td>\n",
              "      <td>500.36</td>\n",
              "    </tr>\n",
              "    <tr>\n",
              "      <th>182697</th>\n",
              "      <td>366.5</td>\n",
              "      <td>60.0</td>\n",
              "      <td>538.4</td>\n",
              "      <td>41.1</td>\n",
              "      <td>600.0</td>\n",
              "      <td>321.20</td>\n",
              "    </tr>\n",
              "    <tr>\n",
              "      <th>230978</th>\n",
              "      <td>49.4</td>\n",
              "      <td>606.1</td>\n",
              "      <td>574.5</td>\n",
              "      <td>56.1</td>\n",
              "      <td>400.0</td>\n",
              "      <td>337.22</td>\n",
              "    </tr>\n",
              "    <tr>\n",
              "      <th>287389</th>\n",
              "      <td>371.4</td>\n",
              "      <td>402.9</td>\n",
              "      <td>523.8</td>\n",
              "      <td>469.2</td>\n",
              "      <td>540.0</td>\n",
              "      <td>461.46</td>\n",
              "    </tr>\n",
              "    <tr>\n",
              "      <th>287716</th>\n",
              "      <td>47.8</td>\n",
              "      <td>588.8</td>\n",
              "      <td>471.9</td>\n",
              "      <td>338.8</td>\n",
              "      <td>480.0</td>\n",
              "      <td>385.46</td>\n",
              "    </tr>\n",
              "    <tr>\n",
              "      <th>347945</th>\n",
              "      <td>391.5</td>\n",
              "      <td>439.3</td>\n",
              "      <td>44.1</td>\n",
              "      <td>379.7</td>\n",
              "      <td>400.0</td>\n",
              "      <td>330.92</td>\n",
              "    </tr>\n",
              "    <tr>\n",
              "      <th>365950</th>\n",
              "      <td>411.2</td>\n",
              "      <td>377.2</td>\n",
              "      <td>494.5</td>\n",
              "      <td>491.5</td>\n",
              "      <td>600.0</td>\n",
              "      <td>474.88</td>\n",
              "    </tr>\n",
              "    <tr>\n",
              "      <th>365951</th>\n",
              "      <td>405.8</td>\n",
              "      <td>409.1</td>\n",
              "      <td>534.2</td>\n",
              "      <td>55.0</td>\n",
              "      <td>560.0</td>\n",
              "      <td>392.82</td>\n",
              "    </tr>\n",
              "    <tr>\n",
              "      <th>365980</th>\n",
              "      <td>49.8</td>\n",
              "      <td>442.6</td>\n",
              "      <td>549.9</td>\n",
              "      <td>515.5</td>\n",
              "      <td>500.0</td>\n",
              "      <td>411.56</td>\n",
              "    </tr>\n",
              "    <tr>\n",
              "      <th>365984</th>\n",
              "      <td>412.1</td>\n",
              "      <td>489.5</td>\n",
              "      <td>494.1</td>\n",
              "      <td>481.6</td>\n",
              "      <td>520.0</td>\n",
              "      <td>479.46</td>\n",
              "    </tr>\n",
              "    <tr>\n",
              "      <th>365986</th>\n",
              "      <td>382.1</td>\n",
              "      <td>502.1</td>\n",
              "      <td>426.2</td>\n",
              "      <td>35.7</td>\n",
              "      <td>280.0</td>\n",
              "      <td>325.22</td>\n",
              "    </tr>\n",
              "    <tr>\n",
              "      <th>378313</th>\n",
              "      <td>521.6</td>\n",
              "      <td>559.5</td>\n",
              "      <td>574.6</td>\n",
              "      <td>550.6</td>\n",
              "      <td>600.0</td>\n",
              "      <td>561.26</td>\n",
              "    </tr>\n",
              "    <tr>\n",
              "      <th>445647</th>\n",
              "      <td>49.5</td>\n",
              "      <td>562.9</td>\n",
              "      <td>535.9</td>\n",
              "      <td>438.7</td>\n",
              "      <td>540.0</td>\n",
              "      <td>425.40</td>\n",
              "    </tr>\n",
              "    <tr>\n",
              "      <th>445741</th>\n",
              "      <td>478.2</td>\n",
              "      <td>360.2</td>\n",
              "      <td>519.7</td>\n",
              "      <td>480.9</td>\n",
              "      <td>520.0</td>\n",
              "      <td>471.80</td>\n",
              "    </tr>\n",
              "    <tr>\n",
              "      <th>445790</th>\n",
              "      <td>371.5</td>\n",
              "      <td>448.7</td>\n",
              "      <td>486.4</td>\n",
              "      <td>504.2</td>\n",
              "      <td>400.0</td>\n",
              "      <td>442.16</td>\n",
              "    </tr>\n",
              "    <tr>\n",
              "      <th>445809</th>\n",
              "      <td>523.1</td>\n",
              "      <td>513.9</td>\n",
              "      <td>524.6</td>\n",
              "      <td>506.1</td>\n",
              "      <td>620.0</td>\n",
              "      <td>537.54</td>\n",
              "    </tr>\n",
              "  </tbody>\n",
              "</table>\n",
              "</div>"
            ],
            "text/plain": [
              "        NOTA_CN  NOTA_MT  NOTA_LC  NOTA_CH  NOTA_REDACAO  nota_final\n",
              "37         46.3    537.1    557.3    447.2         340.0      385.58\n",
              "44        505.9    451.9    529.8    534.5         720.0      548.42\n",
              "52        449.4    506.4     45.8    436.4         560.0      399.60\n",
              "65        468.6     59.5    576.6    606.1         520.0      446.16\n",
              "79        414.3    510.6     49.5    553.7         640.0      433.62\n",
              "84        397.8    420.6    473.5    458.5         360.0      422.08\n",
              "85        469.1    508.2    488.4    528.7         680.0      534.88\n",
              "91        436.3    537.9    530.7    528.8         560.0      518.74\n",
              "17070     464.8    500.3    566.3    501.5         600.0      526.58\n",
              "17072     465.8     42.4     46.8    488.4         520.0      312.68\n",
              "17078     497.6     54.2    540.9    494.7         540.0      425.48\n",
              "17110     424.1    537.5    450.6     39.8         500.0      390.40\n",
              "108151     50.7    705.3    569.4    558.1         660.0      508.70\n",
              "108155    518.3    518.4    524.5    362.9         280.0      440.82\n",
              "108180    516.8    480.8    552.4    408.8         520.0      495.76\n",
              "138498    421.9    414.6     47.3    390.4         440.0      342.84\n",
              "182510    494.4    479.9    548.3    558.9         480.0      512.30\n",
              "182519    460.2    480.9    475.6    358.7         520.0      459.08\n",
              "182528    349.3    555.1    424.2    458.5         480.0      453.42\n",
              "182546    381.2    599.5    518.7     45.9         540.0      417.06\n",
              "182581     49.3    469.2    527.9    519.9         660.0      445.26\n",
              "182613    418.7    544.9    534.8     45.4         660.0      440.76\n",
              "182614    454.7    705.7    471.8    458.2         540.0      526.08\n",
              "182615    486.5    409.7    544.8    564.8         660.0      533.16\n",
              "182637     43.4    497.1    472.3    456.2         520.0      397.80\n",
              "182683    392.8    491.2    519.2    498.6         600.0      500.36\n",
              "182697    366.5     60.0    538.4     41.1         600.0      321.20\n",
              "230978     49.4    606.1    574.5     56.1         400.0      337.22\n",
              "287389    371.4    402.9    523.8    469.2         540.0      461.46\n",
              "287716     47.8    588.8    471.9    338.8         480.0      385.46\n",
              "347945    391.5    439.3     44.1    379.7         400.0      330.92\n",
              "365950    411.2    377.2    494.5    491.5         600.0      474.88\n",
              "365951    405.8    409.1    534.2     55.0         560.0      392.82\n",
              "365980     49.8    442.6    549.9    515.5         500.0      411.56\n",
              "365984    412.1    489.5    494.1    481.6         520.0      479.46\n",
              "365986    382.1    502.1    426.2     35.7         280.0      325.22\n",
              "378313    521.6    559.5    574.6    550.6         600.0      561.26\n",
              "445647     49.5    562.9    535.9    438.7         540.0      425.40\n",
              "445741    478.2    360.2    519.7    480.9         520.0      471.80\n",
              "445790    371.5    448.7    486.4    504.2         400.0      442.16\n",
              "445809    523.1    513.9    524.6    506.1         620.0      537.54"
            ]
          },
          "execution_count": 9,
          "metadata": {},
          "output_type": "execute_result"
        }
      ],
      "source": [
        "notas_colegiox"
      ]
    },
    {
      "cell_type": "markdown",
      "metadata": {
        "id": "A54SI8VB9jKe"
      },
      "source": [
        "### Gráfico correlação"
      ]
    },
    {
      "cell_type": "code",
      "execution_count": 10,
      "metadata": {
        "id": "soU0HS4k4ZB-"
      },
      "outputs": [],
      "source": [
        "import seaborn as sns"
      ]
    },
    {
      "cell_type": "code",
      "execution_count": 11,
      "metadata": {
        "colab": {
          "base_uri": "https://localhost:8080/",
          "height": 1000
        },
        "id": "4T41VNLJ9tOo",
        "outputId": "40494d1a-4a41-4ce8-ebb9-aec9206d258f"
      },
      "outputs": [
        {
          "data": {
            "text/plain": [
              "<seaborn.axisgrid.PairGrid at 0x18a6a9e4320>"
            ]
          },
          "execution_count": 11,
          "metadata": {},
          "output_type": "execute_result"
        },
        {
          "data": {
            "image/png": "[encoded data removed]",
            "text/plain": [
              "<Figure size 1500x1500 with 42 Axes>"
            ]
          },
          "metadata": {},
          "output_type": "display_data"
        }
      ],
      "source": [
        "sns.pairplot(notas_colegiox)"
      ]
    },
    {
      "cell_type": "code",
      "execution_count": 12,
      "metadata": {
        "id": "RNvz63RB_xYn"
      },
      "outputs": [],
      "source": [
        "import matplotlib.pyplot as plt"
      ]
    },
    {
      "cell_type": "code",
      "execution_count": 13,
      "metadata": {
        "colab": {
          "base_uri": "https://localhost:8080/",
          "height": 295
        },
        "id": "L3hM-ETM-Eio",
        "outputId": "7b81884f-b28d-4132-fa79-a9364d44a04e"
      },
      "outputs": [
        {
          "data": {
            "image/png": "[encoded data removed]",
            "text/plain": [
              "<Figure size 640x480 with 1 Axes>"
            ]
          },
          "metadata": {},
          "output_type": "display_data"
        }
      ],
      "source": [
        "plt.scatter(notas_colegiox.NOTA_REDACAO,notas_colegiox.nota_final)\n",
        "plt.title('Correlação')\n",
        "plt.xlabel('Nota Redação')\n",
        "plt.ylabel('Nota final')\n",
        "plt.grid(False)\n",
        "plt.show()"
      ]
    },
    {
      "cell_type": "code",
      "execution_count": 14,
      "metadata": {
        "colab": {
          "base_uri": "https://localhost:8080/",
          "height": 225
        },
        "id": "WVbHwvccEYn1",
        "outputId": "eb7d27d6-d2ed-4817-f026-11931b9f9637"
      },
      "outputs": [
        {
          "data": {
            "text/html": [
              "<div>\n",
              "<style scoped>\n",
              "    .dataframe tbody tr th:only-of-type {\n",
              "        vertical-align: middle;\n",
              "    }\n",
              "\n",
              "    .dataframe tbody tr th {\n",
              "        vertical-align: top;\n",
              "    }\n",
              "\n",
              "    .dataframe thead th {\n",
              "        text-align: right;\n",
              "    }\n",
              "</style>\n",
              "<table border=\"1\" class=\"dataframe\">\n",
              "  <thead>\n",
              "    <tr style=\"text-align: right;\">\n",
              "      <th></th>\n",
              "      <th>NOTA_CN</th>\n",
              "      <th>NOTA_MT</th>\n",
              "      <th>NOTA_LC</th>\n",
              "      <th>NOTA_CH</th>\n",
              "      <th>NOTA_REDACAO</th>\n",
              "      <th>nota_final</th>\n",
              "    </tr>\n",
              "  </thead>\n",
              "  <tbody>\n",
              "    <tr>\n",
              "      <th>NOTA_CN</th>\n",
              "      <td>1.000000</td>\n",
              "      <td>-0.206620</td>\n",
              "      <td>0.118293</td>\n",
              "      <td>0.320049</td>\n",
              "      <td>0.244312</td>\n",
              "      <td>0.546864</td>\n",
              "    </tr>\n",
              "    <tr>\n",
              "      <th>NOTA_MT</th>\n",
              "      <td>-0.206620</td>\n",
              "      <td>1.000000</td>\n",
              "      <td>0.022997</td>\n",
              "      <td>-0.178841</td>\n",
              "      <td>0.021279</td>\n",
              "      <td>0.134843</td>\n",
              "    </tr>\n",
              "    <tr>\n",
              "      <th>NOTA_LC</th>\n",
              "      <td>0.118293</td>\n",
              "      <td>0.022997</td>\n",
              "      <td>1.000000</td>\n",
              "      <td>0.336077</td>\n",
              "      <td>0.247201</td>\n",
              "      <td>0.352613</td>\n",
              "    </tr>\n",
              "    <tr>\n",
              "      <th>NOTA_CH</th>\n",
              "      <td>0.320049</td>\n",
              "      <td>-0.178841</td>\n",
              "      <td>0.336077</td>\n",
              "      <td>1.000000</td>\n",
              "      <td>0.437328</td>\n",
              "      <td>0.674158</td>\n",
              "    </tr>\n",
              "    <tr>\n",
              "      <th>NOTA_REDACAO</th>\n",
              "      <td>0.244312</td>\n",
              "      <td>0.021279</td>\n",
              "      <td>0.247201</td>\n",
              "      <td>0.437328</td>\n",
              "      <td>1.000000</td>\n",
              "      <td>0.556488</td>\n",
              "    </tr>\n",
              "    <tr>\n",
              "      <th>nota_final</th>\n",
              "      <td>0.546864</td>\n",
              "      <td>0.134843</td>\n",
              "      <td>0.352613</td>\n",
              "      <td>0.674158</td>\n",
              "      <td>0.556488</td>\n",
              "      <td>1.000000</td>\n",
              "    </tr>\n",
              "  </tbody>\n",
              "</table>\n",
              "</div>"
            ],
            "text/plain": [
              "               NOTA_CN   NOTA_MT   NOTA_LC   NOTA_CH  NOTA_REDACAO  nota_final\n",
              "NOTA_CN       1.000000 -0.206620  0.118293  0.320049      0.244312    0.546864\n",
              "NOTA_MT      -0.206620  1.000000  0.022997 -0.178841      0.021279    0.134843\n",
              "NOTA_LC       0.118293  0.022997  1.000000  0.336077      0.247201    0.352613\n",
              "NOTA_CH       0.320049 -0.178841  0.336077  1.000000      0.437328    0.674158\n",
              "NOTA_REDACAO  0.244312  0.021279  0.247201  0.437328      1.000000    0.556488\n",
              "nota_final    0.546864  0.134843  0.352613  0.674158      0.556488    1.000000"
            ]
          },
          "execution_count": 14,
          "metadata": {},
          "output_type": "execute_result"
        }
      ],
      "source": [
        "correlacoes = notas_colegiox.corr(method='spearman')\n",
        "correlacoes"
      ]
    },
    {
      "cell_type": "code",
      "execution_count": 15,
      "metadata": {
        "colab": {
          "base_uri": "https://localhost:8080/",
          "height": 341
        },
        "id": "Sh9d7IjRFBri",
        "outputId": "df4f2ebc-a9d5-415e-8470-036bce4b1870"
      },
      "outputs": [
        {
          "data": {
            "image/png": "[encoded data removed]",
            "text/plain": [
              "<Figure size 640x480 with 2 Axes>"
            ]
          },
          "metadata": {},
          "output_type": "display_data"
        }
      ],
      "source": [
        "plt.figure()\n",
        "sns.heatmap(correlacoes, annot=True);"
      ]
    },
    {
      "cell_type": "markdown",
      "metadata": {
        "id": "_dOyeKE2AesY"
      },
      "source": [
        "### Análise da Normalidade"
      ]
    },
    {
      "cell_type": "markdown",
      "metadata": {
        "id": "b38jbpVpBSrN"
      },
      "source": [
        "Teste Shapiro-Wilk"
      ]
    },
    {
      "cell_type": "markdown",
      "metadata": {
        "id": "UBCGqxZiCKzR"
      },
      "source": [
        "Ho = distribuição normal : p > 0.05\n",
        "\n",
        "Ha = distribuição != normal : p <= 0.05"
      ]
    },
    {
      "cell_type": "code",
      "execution_count": 16,
      "metadata": {
        "id": "o3lb2FS7A9MU"
      },
      "outputs": [],
      "source": [
        "import scipy.stats as stats"
      ]
    },
    {
      "cell_type": "code",
      "execution_count": 17,
      "metadata": {
        "colab": {
          "base_uri": "https://localhost:8080/"
        },
        "id": "wxg4KYhAAqIP",
        "outputId": "e5ff4119-98b2-4a49-9d5f-91891abeb99b"
      },
      "outputs": [
        {
          "data": {
            "text/plain": [
              "ShapiroResult(statistic=np.float64(0.9529763299532606), pvalue=np.float64(0.0890553220808477))"
            ]
          },
          "execution_count": 17,
          "metadata": {},
          "output_type": "execute_result"
        }
      ],
      "source": [
        "# Nota de redação\n",
        "stats.shapiro(notas_colegiox.NOTA_REDACAO)"
      ]
    },
    {
      "cell_type": "code",
      "execution_count": 18,
      "metadata": {
        "colab": {
          "base_uri": "https://localhost:8080/"
        },
        "id": "4d1S_jcXBAZl",
        "outputId": "e04c44af-2112-4e8a-e914-c791d5f9bff8"
      },
      "outputs": [
        {
          "data": {
            "text/plain": [
              "ShapiroResult(statistic=np.float64(0.9638937238354808), pvalue=np.float64(0.21481981501951075))"
            ]
          },
          "execution_count": 18,
          "metadata": {},
          "output_type": "execute_result"
        }
      ],
      "source": [
        "# Nota final\n",
        "stats.shapiro(notas_colegiox.nota_final)"
      ]
    },
    {
      "cell_type": "code",
      "execution_count": 19,
      "metadata": {
        "colab": {
          "base_uri": "https://localhost:8080/"
        },
        "id": "QI5MGm7kBK8b",
        "outputId": "9ce88396-37fc-4de3-c0a6-c7ba6f94b824"
      },
      "outputs": [
        {
          "data": {
            "text/plain": [
              "ShapiroResult(statistic=np.float64(0.7985680269657053), pvalue=np.float64(5.104770265030071e-06))"
            ]
          },
          "execution_count": 19,
          "metadata": {},
          "output_type": "execute_result"
        }
      ],
      "source": [
        "# Nota de Matemática\n",
        "stats.shapiro(notas_colegiox.NOTA_MT)"
      ]
    },
    {
      "cell_type": "code",
      "execution_count": 20,
      "metadata": {
        "colab": {
          "base_uri": "https://localhost:8080/"
        },
        "id": "xDWHrFXbBkrJ",
        "outputId": "63ce5d85-a21b-4e76-f872-0c7eb860d3d1"
      },
      "outputs": [
        {
          "data": {
            "text/plain": [
              "ShapiroResult(statistic=np.float64(0.7349030431075122), pvalue=np.float64(2.9953271536261865e-07))"
            ]
          },
          "execution_count": 20,
          "metadata": {},
          "output_type": "execute_result"
        }
      ],
      "source": [
        "# Nota de Ciências da Natureza\n",
        "stats.shapiro(notas_colegiox.NOTA_CN)"
      ]
    },
    {
      "cell_type": "code",
      "execution_count": 21,
      "metadata": {
        "colab": {
          "base_uri": "https://localhost:8080/"
        },
        "id": "o0MVTmOsBucD",
        "outputId": "f7d9b4b2-f38a-44a2-f5a2-cc1e4f4ad5d1"
      },
      "outputs": [
        {
          "data": {
            "text/plain": [
              "ShapiroResult(statistic=np.float64(0.5986177238013685), pvalue=np.float64(2.2351723614082924e-09))"
            ]
          },
          "execution_count": 21,
          "metadata": {},
          "output_type": "execute_result"
        }
      ],
      "source": [
        "# Nota de Linguagem e Códigos\n",
        "stats.shapiro(notas_colegiox.NOTA_LC)"
      ]
    },
    {
      "cell_type": "code",
      "execution_count": 22,
      "metadata": {
        "colab": {
          "base_uri": "https://localhost:8080/"
        },
        "id": "7gIG75MdB0jr",
        "outputId": "6019fc1d-9815-441a-c53a-9a96f8f2c8a0"
      },
      "outputs": [
        {
          "data": {
            "text/plain": [
              "ShapiroResult(statistic=np.float64(0.7509263405494057), pvalue=np.float64(5.865799665572735e-07))"
            ]
          },
          "execution_count": 22,
          "metadata": {},
          "output_type": "execute_result"
        }
      ],
      "source": [
        "# Nota de Ciências Humanas\n",
        "stats.shapiro(notas_colegiox.NOTA_CH)"
      ]
    },
    {
      "cell_type": "code",
      "execution_count": 23,
      "metadata": {
        "colab": {
          "base_uri": "https://localhost:8080/",
          "height": 295
        },
        "id": "LnBNimUUcd-2",
        "outputId": "5a68d835-6efc-468d-f883-bccb868edd2c"
      },
      "outputs": [
        {
          "data": {
            "image/png": "[encoded data removed]",
            "text/plain": [
              "<Figure size 640x480 with 1 Axes>"
            ]
          },
          "metadata": {},
          "output_type": "display_data"
        }
      ],
      "source": [
        "stats.probplot(notas_colegiox['NOTA_REDACAO'], dist=\"norm\", plot=plt)\n",
        "plt.title(\"Normal Q-Q plot\")\n",
        "plt.show()"
      ]
    },
    {
      "cell_type": "markdown",
      "metadata": {
        "id": "_cnhV8E9C9DG"
      },
      "source": [
        "Análise dos Outliers"
      ]
    },
    {
      "cell_type": "code",
      "execution_count": 25,
      "metadata": {
        "id": "f7zV5wwSC8T5"
      },
      "outputs": [],
      "source": [
        "import seaborn as sns"
      ]
    },
    {
      "cell_type": "code",
      "execution_count": 30,
      "metadata": {
        "colab": {
          "base_uri": "https://localhost:8080/",
          "height": 542
        },
        "id": "wAWI_r6vD7lc",
        "outputId": "9a66265b-0757-4c33-cf33-8b2064b16143"
      },
      "outputs": [
        {
          "data": {
            "image/png": "[encoded data removed]",
            "text/plain": [
              "<Figure size 640x480 with 1 Axes>"
            ]
          },
          "metadata": {},
          "output_type": "display_data"
        }
      ],
      "source": [
        "grafico = sns.boxplot(notas_colegiox, y=\"nota_final\")\n"
      ]
    },
    {
      "cell_type": "markdown",
      "metadata": {
        "id": "jU44Ssjf-wIX"
      },
      "source": [
        "# Regressão"
      ]
    },
    {
      "cell_type": "markdown",
      "metadata": {
        "id": "cmeit_na_AzG"
      },
      "source": [
        "### Regressão Linear com Statsmodels"
      ]
    },
    {
      "cell_type": "code",
      "execution_count": 31,
      "metadata": {
        "colab": {
          "base_uri": "https://localhost:8080/"
        },
        "id": "zFuMSGRTG0Nd",
        "outputId": "e9276764-b668-4a47-cd8d-22885f4be7e5"
      },
      "outputs": [],
      "source": [
        "import statsmodels.formula.api as smf\n",
        "import statsmodels.stats.api as sms"
      ]
    },
    {
      "cell_type": "code",
      "execution_count": 32,
      "metadata": {
        "colab": {
          "base_uri": "https://localhost:8080/"
        },
        "id": "MeznMmquUZk9",
        "outputId": "4b49dc32-55e1-4b31-fdd8-762d60cb2db6"
      },
      "outputs": [
        {
          "name": "stdout",
          "output_type": "stream",
          "text": [
            "                            OLS Regression Results                            \n",
            "==============================================================================\n",
            "Dep. Variable:             nota_final   R-squared:                       0.304\n",
            "Model:                            OLS   Adj. R-squared:                  0.286\n",
            "Method:                 Least Squares   F-statistic:                     17.02\n",
            "Date:                Mon, 16 Dec 2024   Prob (F-statistic):           0.000188\n",
            "Time:                        14:28:39   Log-Likelihood:                -223.52\n",
            "No. Observations:                  41   AIC:                             451.0\n",
            "Df Residuals:                      39   BIC:                             454.5\n",
            "Df Model:                           1                                         \n",
            "Covariance Type:            nonrobust                                         \n",
            "================================================================================\n",
            "                   coef    std err          t      P>|t|      [0.025      0.975]\n",
            "--------------------------------------------------------------------------------\n",
            "Intercept      251.6789     47.319      5.319      0.000     155.967     347.391\n",
            "NOTA_REDACAO     0.3627      0.088      4.126      0.000       0.185       0.541\n",
            "==============================================================================\n",
            "Omnibus:                        1.668   Durbin-Watson:                   1.972\n",
            "Prob(Omnibus):                  0.434   Jarque-Bera (JB):                1.469\n",
            "Skew:                          -0.448   Prob(JB):                        0.480\n",
            "Kurtosis:                       2.760   Cond. No.                     2.82e+03\n",
            "==============================================================================\n",
            "\n",
            "Notes:\n",
            "[1] Standard Errors assume that the covariance matrix of the errors is correctly specified.\n",
            "[2] The condition number is large, 2.82e+03. This might indicate that there are\n",
            "strong multicollinearity or other numerical problems.\n"
          ]
        }
      ],
      "source": [
        "regressao = smf.ols('nota_final ~ NOTA_REDACAO', data = notas_colegiox).fit()\n",
        "print(regressao.summary())"
      ]
    },
    {
      "cell_type": "code",
      "execution_count": 33,
      "metadata": {
        "colab": {
          "base_uri": "https://localhost:8080/"
        },
        "id": "yJxpCoC6OBiY",
        "outputId": "354851ac-f3ec-49f8-f4c0-0d199631d16a"
      },
      "outputs": [
        {
          "name": "stdout",
          "output_type": "stream",
          "text": [
            "              Coeficientes\n",
            "Intercept       251.678855\n",
            "NOTA_REDACAO      0.362749\n"
          ]
        }
      ],
      "source": [
        "coefs = pd.DataFrame(regressao.params)\n",
        "coefs.columns = ['Coeficientes']\n",
        "print(coefs)"
      ]
    },
    {
      "cell_type": "markdown",
      "metadata": {
        "id": "bQSTIM11IvSy"
      },
      "source": [
        "Equação:\n",
        "\n",
        "Nota Final = 251,678855 + 0,362749.Nota Redação"
      ]
    },
    {
      "cell_type": "code",
      "execution_count": 34,
      "metadata": {
        "colab": {
          "base_uri": "https://localhost:8080/",
          "height": 195
        },
        "id": "LU2iScJE-AkM",
        "outputId": "25426f95-e632-4e0c-a81b-961004ddc9b2"
      },
      "outputs": [
        {
          "data": {
            "text/html": [
              "<div>\n",
              "<style scoped>\n",
              "    .dataframe tbody tr th:only-of-type {\n",
              "        vertical-align: middle;\n",
              "    }\n",
              "\n",
              "    .dataframe tbody tr th {\n",
              "        vertical-align: top;\n",
              "    }\n",
              "\n",
              "    .dataframe thead th {\n",
              "        text-align: right;\n",
              "    }\n",
              "</style>\n",
              "<table border=\"1\" class=\"dataframe\">\n",
              "  <thead>\n",
              "    <tr style=\"text-align: right;\">\n",
              "      <th></th>\n",
              "      <th>NOTA_CN</th>\n",
              "      <th>NOTA_MT</th>\n",
              "      <th>NOTA_LC</th>\n",
              "      <th>NOTA_CH</th>\n",
              "      <th>NOTA_REDACAO</th>\n",
              "      <th>nota_final</th>\n",
              "    </tr>\n",
              "  </thead>\n",
              "  <tbody>\n",
              "    <tr>\n",
              "      <th>37</th>\n",
              "      <td>46.3</td>\n",
              "      <td>537.1</td>\n",
              "      <td>557.3</td>\n",
              "      <td>447.2</td>\n",
              "      <td>340.0</td>\n",
              "      <td>385.58</td>\n",
              "    </tr>\n",
              "    <tr>\n",
              "      <th>44</th>\n",
              "      <td>505.9</td>\n",
              "      <td>451.9</td>\n",
              "      <td>529.8</td>\n",
              "      <td>534.5</td>\n",
              "      <td>720.0</td>\n",
              "      <td>548.42</td>\n",
              "    </tr>\n",
              "    <tr>\n",
              "      <th>52</th>\n",
              "      <td>449.4</td>\n",
              "      <td>506.4</td>\n",
              "      <td>45.8</td>\n",
              "      <td>436.4</td>\n",
              "      <td>560.0</td>\n",
              "      <td>399.60</td>\n",
              "    </tr>\n",
              "    <tr>\n",
              "      <th>65</th>\n",
              "      <td>468.6</td>\n",
              "      <td>59.5</td>\n",
              "      <td>576.6</td>\n",
              "      <td>606.1</td>\n",
              "      <td>520.0</td>\n",
              "      <td>446.16</td>\n",
              "    </tr>\n",
              "    <tr>\n",
              "      <th>79</th>\n",
              "      <td>414.3</td>\n",
              "      <td>510.6</td>\n",
              "      <td>49.5</td>\n",
              "      <td>553.7</td>\n",
              "      <td>640.0</td>\n",
              "      <td>433.62</td>\n",
              "    </tr>\n",
              "  </tbody>\n",
              "</table>\n",
              "</div>"
            ],
            "text/plain": [
              "    NOTA_CN  NOTA_MT  NOTA_LC  NOTA_CH  NOTA_REDACAO  nota_final\n",
              "37     46.3    537.1    557.3    447.2         340.0      385.58\n",
              "44    505.9    451.9    529.8    534.5         720.0      548.42\n",
              "52    449.4    506.4     45.8    436.4         560.0      399.60\n",
              "65    468.6     59.5    576.6    606.1         520.0      446.16\n",
              "79    414.3    510.6     49.5    553.7         640.0      433.62"
            ]
          },
          "execution_count": 34,
          "metadata": {},
          "output_type": "execute_result"
        }
      ],
      "source": [
        "notas_colegiox.head()"
      ]
    },
    {
      "cell_type": "code",
      "execution_count": 35,
      "metadata": {
        "colab": {
          "base_uri": "https://localhost:8080/"
        },
        "id": "C4bUw8iijUGO",
        "outputId": "79f337f7-76ce-406e-d0b1-e0d3ffa23445"
      },
      "outputs": [
        {
          "data": {
            "text/plain": [
              "array([375.01357169, 512.85825473, 454.81838819, 440.30842155,\n",
              "       483.83832146, 382.268555  , 498.3482881 , 454.81838819,\n",
              "       469.32835482, 440.30842155, 447.56340487, 433.05343823,\n",
              "       491.09330478, 353.24862173, 440.30842155, 411.28848828,\n",
              "       425.79845491, 440.30842155, 425.79845491, 447.56340487,\n",
              "       491.09330478, 491.09330478, 447.56340487, 491.09330478,\n",
              "       440.30842155, 469.32835482, 469.32835482, 396.77852164,\n",
              "       447.56340487, 425.79845491, 396.77852164, 469.32835482,\n",
              "       454.81838819, 433.05343823, 440.30842155, 353.24862173,\n",
              "       469.32835482, 447.56340487, 440.30842155, 396.77852164,\n",
              "       476.58333814])"
            ]
          },
          "execution_count": 35,
          "metadata": {},
          "output_type": "execute_result"
        }
      ],
      "source": [
        "regressao.predict()"
      ]
    },
    {
      "cell_type": "code",
      "execution_count": 36,
      "metadata": {
        "colab": {
          "base_uri": "https://localhost:8080/"
        },
        "id": "9xsQx4tSJ4qs",
        "outputId": "5e677973-f209-463d-b04e-fa8dbdc9edf7"
      },
      "outputs": [
        {
          "data": {
            "text/plain": [
              "37         10.566428\n",
              "44         35.561745\n",
              "52        -55.218388\n",
              "65          5.851578\n",
              "79        -50.218321\n",
              "84         39.811445\n",
              "85         36.531712\n",
              "91         63.921612\n",
              "17070      57.251645\n",
              "17072    -127.628422\n",
              "17078     -22.083405\n",
              "17110     -42.653438\n",
              "108151     17.606695\n",
              "108155     87.571378\n",
              "108180     55.451578\n",
              "138498    -68.448488\n",
              "182510     86.501545\n",
              "182519     18.771578\n",
              "182528     27.621545\n",
              "182546    -30.503405\n",
              "182581    -45.833305\n",
              "182613    -50.333305\n",
              "182614     78.516595\n",
              "182615     42.066695\n",
              "182637    -42.508422\n",
              "182683     31.031645\n",
              "182697   -148.128355\n",
              "230978    -59.558522\n",
              "287389     13.896595\n",
              "287716    -40.338455\n",
              "347945    -65.858522\n",
              "365950      5.551645\n",
              "365951    -61.998388\n",
              "365980    -21.493438\n",
              "365984     39.151578\n",
              "365986    -28.028622\n",
              "378313     91.931645\n",
              "445647    -22.163405\n",
              "445741     31.491578\n",
              "445790     45.381478\n",
              "445809     60.956662\n",
              "dtype: float64"
            ]
          },
          "execution_count": 36,
          "metadata": {},
          "output_type": "execute_result"
        }
      ],
      "source": [
        "residuos = regressao.resid\n",
        "residuos"
      ]
    },
    {
      "cell_type": "code",
      "execution_count": 37,
      "metadata": {
        "colab": {
          "base_uri": "https://localhost:8080/",
          "height": 295
        },
        "id": "Jj_wMPXyR9g8",
        "outputId": "1801276c-bc3c-4ec9-8828-43a213c47c62"
      },
      "outputs": [
        {
          "name": "stderr",
          "output_type": "stream",
          "text": [
            "C:\\Users\\Emanuelle\\AppData\\Local\\Temp\\ipykernel_24504\\1023598059.py:4: FutureWarning: Series.__getitem__ treating keys as positions is deprecated. In a future version, integer keys will always be treated as labels (consistent with DataFrame behavior). To access a value by position, use `ser.iloc[pos]`\n",
            "  plt.plot(X_plot, X_plot*regressao.params[1] + regressao.params[0], color='r')\n"
          ]
        },
        {
          "data": {
            "image/png": "[encoded data removed]",
            "text/plain": [
              "<Figure size 640x480 with 1 Axes>"
            ]
          },
          "metadata": {},
          "output_type": "display_data"
        }
      ],
      "source": [
        "plt.scatter(y=notas_colegiox.nota_final, x=notas_colegiox.NOTA_REDACAO, color='blue', s=50, alpha=0.6)\n",
        "# X_plot = np.linspace(min(notas_colegiox.NOTA_REDACAO), max(notas_colegiox.NOTA_REDACAO), len(notas_colegiox.NOTA_REDACAO))\n",
        "X_plot = np.linspace(0, 1000)\n",
        "plt.plot(X_plot, X_plot*regressao.params[1] + regressao.params[0], color='r')\n",
        "plt.title('Reta de regressão')\n",
        "plt.ylabel('Nota Final')\n",
        "plt.xlabel('Nota de Redação')\n",
        "plt.show()"
      ]
    },
    {
      "cell_type": "markdown",
      "metadata": {
        "id": "eAHuUe4jbiP7"
      },
      "source": [
        "### Teste de Normalidade dos resíduos"
      ]
    },
    {
      "cell_type": "code",
      "execution_count": 38,
      "metadata": {
        "colab": {
          "base_uri": "https://localhost:8080/"
        },
        "id": "krlGYS1ZbdqO",
        "outputId": "abca11ec-bc04-4c41-c456-f9a9b07562c0"
      },
      "outputs": [
        {
          "data": {
            "text/plain": [
              "ShapiroResult(statistic=np.float64(0.9587119348050434), pvalue=np.float64(0.14175949675428023))"
            ]
          },
          "execution_count": 38,
          "metadata": {},
          "output_type": "execute_result"
        }
      ],
      "source": [
        "# Residuos da nota redação\n",
        "stats.shapiro(residuos)"
      ]
    },
    {
      "cell_type": "code",
      "execution_count": 39,
      "metadata": {
        "colab": {
          "base_uri": "https://localhost:8080/",
          "height": 295
        },
        "id": "Kt8lZ51mcSec",
        "outputId": "2787f4d9-b9f1-425c-a606-095ac2a813ab"
      },
      "outputs": [
        {
          "data": {
            "image/png": "[encoded data removed]",
            "text/plain": [
              "<Figure size 640x480 with 1 Axes>"
            ]
          },
          "metadata": {},
          "output_type": "display_data"
        }
      ],
      "source": [
        "stats.probplot(residuos, dist=\"norm\", plot=plt)\n",
        "plt.title(\"Normal Q-Q plot - Resíduos\")\n",
        "plt.show()"
      ]
    },
    {
      "cell_type": "markdown",
      "metadata": {
        "id": "xVnnlrFqr2ws"
      },
      "source": [
        "### Análise da Homocedasticidade dos resíduos\n",
        "(resíduos com variação constante)"
      ]
    },
    {
      "cell_type": "code",
      "execution_count": 40,
      "metadata": {
        "colab": {
          "base_uri": "https://localhost:8080/",
          "height": 280
        },
        "id": "z8aZ9dArocJ4",
        "outputId": "a20fd8e3-3646-449e-81ec-373ebed40448"
      },
      "outputs": [
        {
          "data": {
            "image/png": "[encoded data removed]",
            "text/plain": [
              "<Figure size 640x480 with 1 Axes>"
            ]
          },
          "metadata": {},
          "output_type": "display_data"
        }
      ],
      "source": [
        "plt.scatter(y=residuos, x=regressao.predict(), color='red')\n",
        "plt.hlines(y=0, xmin=320, xmax=530, color='orange')\n",
        "plt.ylabel('Resíduos')\n",
        "plt.xlabel('Valores Preditos')\n",
        "plt.show()"
      ]
    },
    {
      "cell_type": "markdown",
      "metadata": {
        "id": "UZHwvlNGdZbn"
      },
      "source": [
        "### Regressão com Sklearn"
      ]
    },
    {
      "cell_type": "code",
      "execution_count": 41,
      "metadata": {
        "colab": {
          "base_uri": "https://localhost:8080/",
          "height": 195
        },
        "id": "r6KdGohOcigT",
        "outputId": "0221d677-2b68-4305-979d-e763052bffcd"
      },
      "outputs": [
        {
          "data": {
            "text/html": [
              "<div>\n",
              "<style scoped>\n",
              "    .dataframe tbody tr th:only-of-type {\n",
              "        vertical-align: middle;\n",
              "    }\n",
              "\n",
              "    .dataframe tbody tr th {\n",
              "        vertical-align: top;\n",
              "    }\n",
              "\n",
              "    .dataframe thead th {\n",
              "        text-align: right;\n",
              "    }\n",
              "</style>\n",
              "<table border=\"1\" class=\"dataframe\">\n",
              "  <thead>\n",
              "    <tr style=\"text-align: right;\">\n",
              "      <th></th>\n",
              "      <th>NOTA_CN</th>\n",
              "      <th>NOTA_MT</th>\n",
              "      <th>NOTA_LC</th>\n",
              "      <th>NOTA_CH</th>\n",
              "      <th>NOTA_REDACAO</th>\n",
              "      <th>nota_final</th>\n",
              "    </tr>\n",
              "  </thead>\n",
              "  <tbody>\n",
              "    <tr>\n",
              "      <th>37</th>\n",
              "      <td>46.3</td>\n",
              "      <td>537.1</td>\n",
              "      <td>557.3</td>\n",
              "      <td>447.2</td>\n",
              "      <td>340.0</td>\n",
              "      <td>385.58</td>\n",
              "    </tr>\n",
              "    <tr>\n",
              "      <th>44</th>\n",
              "      <td>505.9</td>\n",
              "      <td>451.9</td>\n",
              "      <td>529.8</td>\n",
              "      <td>534.5</td>\n",
              "      <td>720.0</td>\n",
              "      <td>548.42</td>\n",
              "    </tr>\n",
              "    <tr>\n",
              "      <th>52</th>\n",
              "      <td>449.4</td>\n",
              "      <td>506.4</td>\n",
              "      <td>45.8</td>\n",
              "      <td>436.4</td>\n",
              "      <td>560.0</td>\n",
              "      <td>399.60</td>\n",
              "    </tr>\n",
              "    <tr>\n",
              "      <th>65</th>\n",
              "      <td>468.6</td>\n",
              "      <td>59.5</td>\n",
              "      <td>576.6</td>\n",
              "      <td>606.1</td>\n",
              "      <td>520.0</td>\n",
              "      <td>446.16</td>\n",
              "    </tr>\n",
              "    <tr>\n",
              "      <th>79</th>\n",
              "      <td>414.3</td>\n",
              "      <td>510.6</td>\n",
              "      <td>49.5</td>\n",
              "      <td>553.7</td>\n",
              "      <td>640.0</td>\n",
              "      <td>433.62</td>\n",
              "    </tr>\n",
              "  </tbody>\n",
              "</table>\n",
              "</div>"
            ],
            "text/plain": [
              "    NOTA_CN  NOTA_MT  NOTA_LC  NOTA_CH  NOTA_REDACAO  nota_final\n",
              "37     46.3    537.1    557.3    447.2         340.0      385.58\n",
              "44    505.9    451.9    529.8    534.5         720.0      548.42\n",
              "52    449.4    506.4     45.8    436.4         560.0      399.60\n",
              "65    468.6     59.5    576.6    606.1         520.0      446.16\n",
              "79    414.3    510.6     49.5    553.7         640.0      433.62"
            ]
          },
          "execution_count": 41,
          "metadata": {},
          "output_type": "execute_result"
        }
      ],
      "source": [
        "notas_colegiox.head()"
      ]
    },
    {
      "cell_type": "code",
      "execution_count": 42,
      "metadata": {
        "id": "BuufribPDcf1"
      },
      "outputs": [],
      "source": [
        "x = notas_colegiox.iloc[:, 4].values\n",
        "y = notas_colegiox.iloc[:, 5].values"
      ]
    },
    {
      "cell_type": "code",
      "execution_count": 43,
      "metadata": {
        "colab": {
          "base_uri": "https://localhost:8080/"
        },
        "id": "HrIHdPJNfwA8",
        "outputId": "2ad263bb-e490-4e1e-d76d-4f4e0aebad03"
      },
      "outputs": [
        {
          "data": {
            "text/plain": [
              "array([[1.        , 0.55122032],\n",
              "       [0.55122032, 1.        ]])"
            ]
          },
          "execution_count": 43,
          "metadata": {},
          "output_type": "execute_result"
        }
      ],
      "source": [
        "correlacao2 = np.corrcoef (x, y)\n",
        "correlacao2"
      ]
    },
    {
      "cell_type": "code",
      "execution_count": 44,
      "metadata": {
        "id": "oa0WDtrIFmi2"
      },
      "outputs": [],
      "source": [
        "x = x.reshape(-1,1) #transformando em matriz"
      ]
    },
    {
      "cell_type": "code",
      "execution_count": 45,
      "metadata": {
        "colab": {
          "base_uri": "https://localhost:8080/"
        },
        "id": "M63KiWtvgsqH",
        "outputId": "11848487-8de9-46d7-ebc4-b982abdb0486"
      },
      "outputs": [
        {
          "data": {
            "text/html": [
              "<style>#sk-container-id-1 {\n",
              "  /* Definition of color scheme common for light and dark mode */\n",
              "  --sklearn-color-text: #000;\n",
              "  --sklearn-color-text-muted: #666;\n",
              "  --sklearn-color-line: gray;\n",
              "  /* Definition of color scheme for unfitted estimators */\n",
              "  --sklearn-color-unfitted-level-0: #fff5e6;\n",
              "  --sklearn-color-unfitted-level-1: #f6e4d2;\n",
              "  --sklearn-color-unfitted-level-2: #ffe0b3;\n",
              "  --sklearn-color-unfitted-level-3: chocolate;\n",
              "  /* Definition of color scheme for fitted estimators */\n",
              "  --sklearn-color-fitted-level-0: #f0f8ff;\n",
              "  --sklearn-color-fitted-level-1: #d4ebff;\n",
              "  --sklearn-color-fitted-level-2: #b3dbfd;\n",
              "  --sklearn-color-fitted-level-3: cornflowerblue;\n",
              "\n",
              "  /* Specific color for light theme */\n",
              "  --sklearn-color-text-on-default-background: var(--sg-text-color, var(--theme-code-foreground, var(--jp-content-font-color1, black)));\n",
              "  --sklearn-color-background: var(--sg-background-color, var(--theme-background, var(--jp-layout-color0, white)));\n",
              "  --sklearn-color-border-box: var(--sg-text-color, var(--theme-code-foreground, var(--jp-content-font-color1, black)));\n",
              "  --sklearn-color-icon: #696969;\n",
              "\n",
              "  @media (prefers-color-scheme: dark) {\n",
              "    /* Redefinition of color scheme for dark theme */\n",
              "    --sklearn-color-text-on-default-background: var(--sg-text-color, var(--theme-code-foreground, var(--jp-content-font-color1, white)));\n",
              "    --sklearn-color-background: var(--sg-background-color, var(--theme-background, var(--jp-layout-color0, #111)));\n",
              "    --sklearn-color-border-box: var(--sg-text-color, var(--theme-code-foreground, var(--jp-content-font-color1, white)));\n",
              "    --sklearn-color-icon: #878787;\n",
              "  }\n",
              "}\n",
              "\n",
              "#sk-container-id-1 {\n",
              "  color: var(--sklearn-color-text);\n",
              "}\n",
              "\n",
              "#sk-container-id-1 pre {\n",
              "  padding: 0;\n",
              "}\n",
              "\n",
              "#sk-container-id-1 input.sk-hidden--visually {\n",
              "  border: 0;\n",
              "  clip: rect(1px 1px 1px 1px);\n",
              "  clip: rect(1px, 1px, 1px, 1px);\n",
              "  height: 1px;\n",
              "  margin: -1px;\n",
              "  overflow: hidden;\n",
              "  padding: 0;\n",
              "  position: absolute;\n",
              "  width: 1px;\n",
              "}\n",
              "\n",
              "#sk-container-id-1 div.sk-dashed-wrapped {\n",
              "  border: 1px dashed var(--sklearn-color-line);\n",
              "  margin: 0 0.4em 0.5em 0.4em;\n",
              "  box-sizing: border-box;\n",
              "  padding-bottom: 0.4em;\n",
              "  background-color: var(--sklearn-color-background);\n",
              "}\n",
              "\n",
              "#sk-container-id-1 div.sk-container {\n",
              "  /* jupyter's `normalize.less` sets `[hidden] { display: none; }`\n",
              "     but bootstrap.min.css set `[hidden] { display: none !important; }`\n",
              "     so we also need the `!important` here to be able to override the\n",
              "     default hidden behavior on the sphinx rendered scikit-learn.org.\n",
              "     See: https://github.com/scikit-learn/scikit-learn/issues/21755 */\n",
              "  display: inline-block !important;\n",
              "  position: relative;\n",
              "}\n",
              "\n",
              "#sk-container-id-1 div.sk-text-repr-fallback {\n",
              "  display: none;\n",
              "}\n",
              "\n",
              "div.sk-parallel-item,\n",
              "div.sk-serial,\n",
              "div.sk-item {\n",
              "  /* draw centered vertical line to link estimators */\n",
              "  background-image: linear-gradient(var(--sklearn-color-text-on-default-background), var(--sklearn-color-text-on-default-background));\n",
              "  background-size: 2px 100%;\n",
              "  background-repeat: no-repeat;\n",
              "  background-position: center center;\n",
              "}\n",
              "\n",
              "/* Parallel-specific style estimator block */\n",
              "\n",
              "#sk-container-id-1 div.sk-parallel-item::after {\n",
              "  content: \"\";\n",
              "  width: 100%;\n",
              "  border-bottom: 2px solid var(--sklearn-color-text-on-default-background);\n",
              "  flex-grow: 1;\n",
              "}\n",
              "\n",
              "#sk-container-id-1 div.sk-parallel {\n",
              "  display: flex;\n",
              "  align-items: stretch;\n",
              "  justify-content: center;\n",
              "  background-color: var(--sklearn-color-background);\n",
              "  position: relative;\n",
              "}\n",
              "\n",
              "#sk-container-id-1 div.sk-parallel-item {\n",
              "  display: flex;\n",
              "  flex-direction: column;\n",
              "}\n",
              "\n",
              "#sk-container-id-1 div.sk-parallel-item:first-child::after {\n",
              "  align-self: flex-end;\n",
              "  width: 50%;\n",
              "}\n",
              "\n",
              "#sk-container-id-1 div.sk-parallel-item:last-child::after {\n",
              "  align-self: flex-start;\n",
              "  width: 50%;\n",
              "}\n",
              "\n",
              "#sk-container-id-1 div.sk-parallel-item:only-child::after {\n",
              "  width: 0;\n",
              "}\n",
              "\n",
              "/* Serial-specific style estimator block */\n",
              "\n",
              "#sk-container-id-1 div.sk-serial {\n",
              "  display: flex;\n",
              "  flex-direction: column;\n",
              "  align-items: center;\n",
              "  background-color: var(--sklearn-color-background);\n",
              "  padding-right: 1em;\n",
              "  padding-left: 1em;\n",
              "}\n",
              "\n",
              "\n",
              "/* Toggleable style: style used for estimator/Pipeline/ColumnTransformer box that is\n",
              "clickable and can be expanded/collapsed.\n",
              "- Pipeline and ColumnTransformer use this feature and define the default style\n",
              "- Estimators will overwrite some part of the style using the `sk-estimator` class\n",
              "*/\n",
              "\n",
              "/* Pipeline and ColumnTransformer style (default) */\n",
              "\n",
              "#sk-container-id-1 div.sk-toggleable {\n",
              "  /* Default theme specific background. It is overwritten whether we have a\n",
              "  specific estimator or a Pipeline/ColumnTransformer */\n",
              "  background-color: var(--sklearn-color-background);\n",
              "}\n",
              "\n",
              "/* Toggleable label */\n",
              "#sk-container-id-1 label.sk-toggleable__label {\n",
              "  cursor: pointer;\n",
              "  display: flex;\n",
              "  width: 100%;\n",
              "  margin-bottom: 0;\n",
              "  padding: 0.5em;\n",
              "  box-sizing: border-box;\n",
              "  text-align: center;\n",
              "  align-items: start;\n",
              "  justify-content: space-between;\n",
              "  gap: 0.5em;\n",
              "}\n",
              "\n",
              "#sk-container-id-1 label.sk-toggleable__label .caption {\n",
              "  font-size: 0.6rem;\n",
              "  font-weight: lighter;\n",
              "  color: var(--sklearn-color-text-muted);\n",
              "}\n",
              "\n",
              "#sk-container-id-1 label.sk-toggleable__label-arrow:before {\n",
              "  /* Arrow on the left of the label */\n",
              "  content: \"▸\";\n",
              "  float: left;\n",
              "  margin-right: 0.25em;\n",
              "  color: var(--sklearn-color-icon);\n",
              "}\n",
              "\n",
              "#sk-container-id-1 label.sk-toggleable__label-arrow:hover:before {\n",
              "  color: var(--sklearn-color-text);\n",
              "}\n",
              "\n",
              "/* Toggleable content - dropdown */\n",
              "\n",
              "#sk-container-id-1 div.sk-toggleable__content {\n",
              "  max-height: 0;\n",
              "  max-width: 0;\n",
              "  overflow: hidden;\n",
              "  text-align: left;\n",
              "  /* unfitted */\n",
              "  background-color: var(--sklearn-color-unfitted-level-0);\n",
              "}\n",
              "\n",
              "#sk-container-id-1 div.sk-toggleable__content.fitted {\n",
              "  /* fitted */\n",
              "  background-color: var(--sklearn-color-fitted-level-0);\n",
              "}\n",
              "\n",
              "#sk-container-id-1 div.sk-toggleable__content pre {\n",
              "  margin: 0.2em;\n",
              "  border-radius: 0.25em;\n",
              "  color: var(--sklearn-color-text);\n",
              "  /* unfitted */\n",
              "  background-color: var(--sklearn-color-unfitted-level-0);\n",
              "}\n",
              "\n",
              "#sk-container-id-1 div.sk-toggleable__content.fitted pre {\n",
              "  /* unfitted */\n",
              "  background-color: var(--sklearn-color-fitted-level-0);\n",
              "}\n",
              "\n",
              "#sk-container-id-1 input.sk-toggleable__control:checked~div.sk-toggleable__content {\n",
              "  /* Expand drop-down */\n",
              "  max-height: 200px;\n",
              "  max-width: 100%;\n",
              "  overflow: auto;\n",
              "}\n",
              "\n",
              "#sk-container-id-1 input.sk-toggleable__control:checked~label.sk-toggleable__label-arrow:before {\n",
              "  content: \"▾\";\n",
              "}\n",
              "\n",
              "/* Pipeline/ColumnTransformer-specific style */\n",
              "\n",
              "#sk-container-id-1 div.sk-label input.sk-toggleable__control:checked~label.sk-toggleable__label {\n",
              "  color: var(--sklearn-color-text);\n",
              "  background-color: var(--sklearn-color-unfitted-level-2);\n",
              "}\n",
              "\n",
              "#sk-container-id-1 div.sk-label.fitted input.sk-toggleable__control:checked~label.sk-toggleable__label {\n",
              "  background-color: var(--sklearn-color-fitted-level-2);\n",
              "}\n",
              "\n",
              "/* Estimator-specific style */\n",
              "\n",
              "/* Colorize estimator box */\n",
              "#sk-container-id-1 div.sk-estimator input.sk-toggleable__control:checked~label.sk-toggleable__label {\n",
              "  /* unfitted */\n",
              "  background-color: var(--sklearn-color-unfitted-level-2);\n",
              "}\n",
              "\n",
              "#sk-container-id-1 div.sk-estimator.fitted input.sk-toggleable__control:checked~label.sk-toggleable__label {\n",
              "  /* fitted */\n",
              "  background-color: var(--sklearn-color-fitted-level-2);\n",
              "}\n",
              "\n",
              "#sk-container-id-1 div.sk-label label.sk-toggleable__label,\n",
              "#sk-container-id-1 div.sk-label label {\n",
              "  /* The background is the default theme color */\n",
              "  color: var(--sklearn-color-text-on-default-background);\n",
              "}\n",
              "\n",
              "/* On hover, darken the color of the background */\n",
              "#sk-container-id-1 div.sk-label:hover label.sk-toggleable__label {\n",
              "  color: var(--sklearn-color-text);\n",
              "  background-color: var(--sklearn-color-unfitted-level-2);\n",
              "}\n",
              "\n",
              "/* Label box, darken color on hover, fitted */\n",
              "#sk-container-id-1 div.sk-label.fitted:hover label.sk-toggleable__label.fitted {\n",
              "  color: var(--sklearn-color-text);\n",
              "  background-color: var(--sklearn-color-fitted-level-2);\n",
              "}\n",
              "\n",
              "/* Estimator label */\n",
              "\n",
              "#sk-container-id-1 div.sk-label label {\n",
              "  font-family: monospace;\n",
              "  font-weight: bold;\n",
              "  display: inline-block;\n",
              "  line-height: 1.2em;\n",
              "}\n",
              "\n",
              "#sk-container-id-1 div.sk-label-container {\n",
              "  text-align: center;\n",
              "}\n",
              "\n",
              "/* Estimator-specific */\n",
              "#sk-container-id-1 div.sk-estimator {\n",
              "  font-family: monospace;\n",
              "  border: 1px dotted var(--sklearn-color-border-box);\n",
              "  border-radius: 0.25em;\n",
              "  box-sizing: border-box;\n",
              "  margin-bottom: 0.5em;\n",
              "  /* unfitted */\n",
              "  background-color: var(--sklearn-color-unfitted-level-0);\n",
              "}\n",
              "\n",
              "#sk-container-id-1 div.sk-estimator.fitted {\n",
              "  /* fitted */\n",
              "  background-color: var(--sklearn-color-fitted-level-0);\n",
              "}\n",
              "\n",
              "/* on hover */\n",
              "#sk-container-id-1 div.sk-estimator:hover {\n",
              "  /* unfitted */\n",
              "  background-color: var(--sklearn-color-unfitted-level-2);\n",
              "}\n",
              "\n",
              "#sk-container-id-1 div.sk-estimator.fitted:hover {\n",
              "  /* fitted */\n",
              "  background-color: var(--sklearn-color-fitted-level-2);\n",
              "}\n",
              "\n",
              "/* Specification for estimator info (e.g. \"i\" and \"?\") */\n",
              "\n",
              "/* Common style for \"i\" and \"?\" */\n",
              "\n",
              ".sk-estimator-doc-link,\n",
              "a:link.sk-estimator-doc-link,\n",
              "a:visited.sk-estimator-doc-link {\n",
              "  float: right;\n",
              "  font-size: smaller;\n",
              "  line-height: 1em;\n",
              "  font-family: monospace;\n",
              "  background-color: var(--sklearn-color-background);\n",
              "  border-radius: 1em;\n",
              "  height: 1em;\n",
              "  width: 1em;\n",
              "  text-decoration: none !important;\n",
              "  margin-left: 0.5em;\n",
              "  text-align: center;\n",
              "  /* unfitted */\n",
              "  border: var(--sklearn-color-unfitted-level-1) 1pt solid;\n",
              "  color: var(--sklearn-color-unfitted-level-1);\n",
              "}\n",
              "\n",
              ".sk-estimator-doc-link.fitted,\n",
              "a:link.sk-estimator-doc-link.fitted,\n",
              "a:visited.sk-estimator-doc-link.fitted {\n",
              "  /* fitted */\n",
              "  border: var(--sklearn-color-fitted-level-1) 1pt solid;\n",
              "  color: var(--sklearn-color-fitted-level-1);\n",
              "}\n",
              "\n",
              "/* On hover */\n",
              "div.sk-estimator:hover .sk-estimator-doc-link:hover,\n",
              ".sk-estimator-doc-link:hover,\n",
              "div.sk-label-container:hover .sk-estimator-doc-link:hover,\n",
              ".sk-estimator-doc-link:hover {\n",
              "  /* unfitted */\n",
              "  background-color: var(--sklearn-color-unfitted-level-3);\n",
              "  color: var(--sklearn-color-background);\n",
              "  text-decoration: none;\n",
              "}\n",
              "\n",
              "div.sk-estimator.fitted:hover .sk-estimator-doc-link.fitted:hover,\n",
              ".sk-estimator-doc-link.fitted:hover,\n",
              "div.sk-label-container:hover .sk-estimator-doc-link.fitted:hover,\n",
              ".sk-estimator-doc-link.fitted:hover {\n",
              "  /* fitted */\n",
              "  background-color: var(--sklearn-color-fitted-level-3);\n",
              "  color: var(--sklearn-color-background);\n",
              "  text-decoration: none;\n",
              "}\n",
              "\n",
              "/* Span, style for the box shown on hovering the info icon */\n",
              ".sk-estimator-doc-link span {\n",
              "  display: none;\n",
              "  z-index: 9999;\n",
              "  position: relative;\n",
              "  font-weight: normal;\n",
              "  right: .2ex;\n",
              "  padding: .5ex;\n",
              "  margin: .5ex;\n",
              "  width: min-content;\n",
              "  min-width: 20ex;\n",
              "  max-width: 50ex;\n",
              "  color: var(--sklearn-color-text);\n",
              "  box-shadow: 2pt 2pt 4pt #999;\n",
              "  /* unfitted */\n",
              "  background: var(--sklearn-color-unfitted-level-0);\n",
              "  border: .5pt solid var(--sklearn-color-unfitted-level-3);\n",
              "}\n",
              "\n",
              ".sk-estimator-doc-link.fitted span {\n",
              "  /* fitted */\n",
              "  background: var(--sklearn-color-fitted-level-0);\n",
              "  border: var(--sklearn-color-fitted-level-3);\n",
              "}\n",
              "\n",
              ".sk-estimator-doc-link:hover span {\n",
              "  display: block;\n",
              "}\n",
              "\n",
              "/* \"?\"-specific style due to the `<a>` HTML tag */\n",
              "\n",
              "#sk-container-id-1 a.estimator_doc_link {\n",
              "  float: right;\n",
              "  font-size: 1rem;\n",
              "  line-height: 1em;\n",
              "  font-family: monospace;\n",
              "  background-color: var(--sklearn-color-background);\n",
              "  border-radius: 1rem;\n",
              "  height: 1rem;\n",
              "  width: 1rem;\n",
              "  text-decoration: none;\n",
              "  /* unfitted */\n",
              "  color: var(--sklearn-color-unfitted-level-1);\n",
              "  border: var(--sklearn-color-unfitted-level-1) 1pt solid;\n",
              "}\n",
              "\n",
              "#sk-container-id-1 a.estimator_doc_link.fitted {\n",
              "  /* fitted */\n",
              "  border: var(--sklearn-color-fitted-level-1) 1pt solid;\n",
              "  color: var(--sklearn-color-fitted-level-1);\n",
              "}\n",
              "\n",
              "/* On hover */\n",
              "#sk-container-id-1 a.estimator_doc_link:hover {\n",
              "  /* unfitted */\n",
              "  background-color: var(--sklearn-color-unfitted-level-3);\n",
              "  color: var(--sklearn-color-background);\n",
              "  text-decoration: none;\n",
              "}\n",
              "\n",
              "#sk-container-id-1 a.estimator_doc_link.fitted:hover {\n",
              "  /* fitted */\n",
              "  background-color: var(--sklearn-color-fitted-level-3);\n",
              "}\n",
              "</style><div id=\"sk-container-id-1\" class=\"sk-top-container\"><div class=\"sk-text-repr-fallback\"><pre>LinearRegression()</pre><b>In a Jupyter environment, please rerun this cell to show the HTML representation or trust the notebook. <br />On GitHub, the HTML representation is unable to render, please try loading this page with nbviewer.org.</b></div><div class=\"sk-container\" hidden><div class=\"sk-item\"><div class=\"sk-estimator fitted sk-toggleable\"><input class=\"sk-toggleable__control sk-hidden--visually\" id=\"sk-estimator-id-1\" type=\"checkbox\" checked><label for=\"sk-estimator-id-1\" class=\"sk-toggleable__label fitted sk-toggleable__label-arrow\"><div><div>LinearRegression</div></div><div><a class=\"sk-estimator-doc-link fitted\" rel=\"noreferrer\" target=\"_blank\" href=\"https://scikit-learn.org/1.6/modules/generated/sklearn.linear_model.LinearRegression.html\">?<span>Documentation for LinearRegression</span></a><span class=\"sk-estimator-doc-link fitted\">i<span>Fitted</span></span></div></label><div class=\"sk-toggleable__content fitted\"><pre>LinearRegression()</pre></div> </div></div></div></div>"
            ],
            "text/plain": [
              "LinearRegression()"
            ]
          },
          "execution_count": 45,
          "metadata": {},
          "output_type": "execute_result"
        }
      ],
      "source": [
        "from sklearn.linear_model import LinearRegression\n",
        "regressao2 = LinearRegression()\n",
        "regressao2.fit(x,y)"
      ]
    },
    {
      "cell_type": "code",
      "execution_count": 46,
      "metadata": {
        "colab": {
          "base_uri": "https://localhost:8080/"
        },
        "id": "n1F5BBKjh51q",
        "outputId": "9cc6a454-4ec0-4c13-d793-b04ffe8be6c7"
      },
      "outputs": [
        {
          "data": {
            "text/plain": [
              "np.float64(251.6788552750226)"
            ]
          },
          "execution_count": 46,
          "metadata": {},
          "output_type": "execute_result"
        }
      ],
      "source": [
        "regressao2.intercept_"
      ]
    },
    {
      "cell_type": "code",
      "execution_count": 47,
      "metadata": {
        "colab": {
          "base_uri": "https://localhost:8080/"
        },
        "id": "8xxXTM2-iHVR",
        "outputId": "9f2c3364-22cc-4550-cd33-e2bb7c41e635"
      },
      "outputs": [
        {
          "data": {
            "text/plain": [
              "array([0.36274917])"
            ]
          },
          "execution_count": 47,
          "metadata": {},
          "output_type": "execute_result"
        }
      ],
      "source": [
        "regressao2.coef_"
      ]
    },
    {
      "cell_type": "code",
      "execution_count": 48,
      "metadata": {
        "colab": {
          "base_uri": "https://localhost:8080/"
        },
        "id": "pKRL1pEoidJj",
        "outputId": "e0364b9d-abe0-4039-dd63-a2253abdc894"
      },
      "outputs": [
        {
          "data": {
            "text/plain": [
              "0.30384384379611706"
            ]
          },
          "execution_count": 48,
          "metadata": {},
          "output_type": "execute_result"
        }
      ],
      "source": [
        "# coeficiente de determinação\n",
        "regressao2.score(x,y)"
      ]
    },
    {
      "cell_type": "code",
      "execution_count": 49,
      "metadata": {
        "colab": {
          "base_uri": "https://localhost:8080/"
        },
        "id": "4BwBkT4Gimkw",
        "outputId": "8ac13246-0cb8-4226-dae8-6f339a506f3b"
      },
      "outputs": [
        {
          "data": {
            "text/plain": [
              "array([375.01357169, 512.85825473, 454.81838819, 440.30842155,\n",
              "       483.83832146, 382.268555  , 498.3482881 , 454.81838819,\n",
              "       469.32835482, 440.30842155, 447.56340487, 433.05343823,\n",
              "       491.09330478, 353.24862173, 440.30842155, 411.28848828,\n",
              "       425.79845491, 440.30842155, 425.79845491, 447.56340487,\n",
              "       491.09330478, 491.09330478, 447.56340487, 491.09330478,\n",
              "       440.30842155, 469.32835482, 469.32835482, 396.77852164,\n",
              "       447.56340487, 425.79845491, 396.77852164, 469.32835482,\n",
              "       454.81838819, 433.05343823, 440.30842155, 353.24862173,\n",
              "       469.32835482, 447.56340487, 440.30842155, 396.77852164,\n",
              "       476.58333814])"
            ]
          },
          "execution_count": 49,
          "metadata": {},
          "output_type": "execute_result"
        }
      ],
      "source": [
        "# \n",
        "previsoes = regressao2.predict(x)\n",
        "previsoes"
      ]
    },
    {
      "cell_type": "code",
      "execution_count": 50,
      "metadata": {
        "colab": {
          "base_uri": "https://localhost:8080/"
        },
        "id": "zb2S4ciqGN7N",
        "outputId": "4e27192d-8e86-4b71-d256-302e99228327"
      },
      "outputs": [
        {
          "data": {
            "text/plain": [
              "array([541.87818801])"
            ]
          },
          "execution_count": 50,
          "metadata": {},
          "output_type": "execute_result"
        }
      ],
      "source": [
        "previsao = regressao2.predict([[800]])\n",
        "previsao"
      ]
    }
  ],
  "metadata": {
    "colab": {
      "collapsed_sections": [],
      "name": "correlacao_regressao.ipynb",
      "provenance": []
    },
    "kernelspec": {
      "display_name": "Python 3",
      "name": "python3"
    },
    "language_info": {
      "codemirror_mode": {
        "name": "ipython",
        "version": 3
      },
      "file_extension": ".py",
      "mimetype": "text/x-python",
      "name": "python",
      "nbconvert_exporter": "python",
      "pygments_lexer": "ipython3",
      "version": "3.12.5"
    }
  },
  "nbformat": 4,
  "nbformat_minor": 0
}
