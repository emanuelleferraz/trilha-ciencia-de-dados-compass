{
 "cells": [
  {
   "cell_type": "markdown",
   "id": "b849d39d-a943-45c4-9d2d-58d91f02c45c",
   "metadata": {},
   "source": [
    "# MLFlow com Naive Bayes"
   ]
  },
  {
   "cell_type": "code",
   "execution_count": 2,
   "id": "32a1f059-5519-468d-93d2-7cae9e57814c",
   "metadata": {},
   "outputs": [],
   "source": [
    "import pandas as pd\n",
    "from sklearn.model_selection import train_test_split\n",
    "from sklearn.naive_bayes import GaussianNB\n",
    "from sklearn.metrics import *\n",
    "import matplotlib.pyplot as plt\n",
    "\n",
    "import mlflow\n",
    "import mlflow.sklearn"
   ]
  },
  {
   "cell_type": "code",
   "execution_count": 3,
   "id": "3c9599d6-f6a4-4bd7-a6bc-0e1975933f53",
   "metadata": {},
   "outputs": [
    {
     "data": {
      "text/plain": [
       "(1000, 21)"
      ]
     },
     "execution_count": 3,
     "metadata": {},
     "output_type": "execute_result"
    }
   ],
   "source": [
    "credito = pd.read_csv('Credit.csv')\n",
    "credito.shape"
   ]
  },
  {
   "cell_type": "code",
   "execution_count": 4,
   "id": "1514af0d-79ea-4bb5-a146-f5bc9d04f10b",
   "metadata": {},
   "outputs": [
    {
     "data": {
      "text/html": [
       "<div>\n",
       "<style scoped>\n",
       "    .dataframe tbody tr th:only-of-type {\n",
       "        vertical-align: middle;\n",
       "    }\n",
       "\n",
       "    .dataframe tbody tr th {\n",
       "        vertical-align: top;\n",
       "    }\n",
       "\n",
       "    .dataframe thead th {\n",
       "        text-align: right;\n",
       "    }\n",
       "</style>\n",
       "<table border=\"1\" class=\"dataframe\">\n",
       "  <thead>\n",
       "    <tr style=\"text-align: right;\">\n",
       "      <th></th>\n",
       "      <th>checking_status</th>\n",
       "      <th>duration</th>\n",
       "      <th>credit_history</th>\n",
       "      <th>purpose</th>\n",
       "      <th>credit_amount</th>\n",
       "      <th>savings_status</th>\n",
       "      <th>employment</th>\n",
       "      <th>installment_commitment</th>\n",
       "      <th>personal_status</th>\n",
       "      <th>other_parties</th>\n",
       "      <th>...</th>\n",
       "      <th>property_magnitude</th>\n",
       "      <th>age</th>\n",
       "      <th>other_payment_plans</th>\n",
       "      <th>housing</th>\n",
       "      <th>existing_credits</th>\n",
       "      <th>job</th>\n",
       "      <th>num_dependents</th>\n",
       "      <th>own_telephone</th>\n",
       "      <th>foreign_worker</th>\n",
       "      <th>class</th>\n",
       "    </tr>\n",
       "  </thead>\n",
       "  <tbody>\n",
       "    <tr>\n",
       "      <th>0</th>\n",
       "      <td>&lt;0</td>\n",
       "      <td>6</td>\n",
       "      <td>'critical/other existing credit'</td>\n",
       "      <td>radio/tv</td>\n",
       "      <td>1169</td>\n",
       "      <td>'no known savings'</td>\n",
       "      <td>&gt;=7</td>\n",
       "      <td>4</td>\n",
       "      <td>'male single'</td>\n",
       "      <td>none</td>\n",
       "      <td>...</td>\n",
       "      <td>'real estate'</td>\n",
       "      <td>67</td>\n",
       "      <td>none</td>\n",
       "      <td>own</td>\n",
       "      <td>2</td>\n",
       "      <td>skilled</td>\n",
       "      <td>1</td>\n",
       "      <td>yes</td>\n",
       "      <td>yes</td>\n",
       "      <td>good</td>\n",
       "    </tr>\n",
       "    <tr>\n",
       "      <th>1</th>\n",
       "      <td>0&lt;=X&lt;200</td>\n",
       "      <td>48</td>\n",
       "      <td>'existing paid'</td>\n",
       "      <td>radio/tv</td>\n",
       "      <td>5951</td>\n",
       "      <td>&lt;100</td>\n",
       "      <td>1&lt;=X&lt;4</td>\n",
       "      <td>2</td>\n",
       "      <td>'female div/dep/mar'</td>\n",
       "      <td>none</td>\n",
       "      <td>...</td>\n",
       "      <td>'real estate'</td>\n",
       "      <td>22</td>\n",
       "      <td>none</td>\n",
       "      <td>own</td>\n",
       "      <td>1</td>\n",
       "      <td>skilled</td>\n",
       "      <td>1</td>\n",
       "      <td>none</td>\n",
       "      <td>yes</td>\n",
       "      <td>bad</td>\n",
       "    </tr>\n",
       "    <tr>\n",
       "      <th>2</th>\n",
       "      <td>'no checking'</td>\n",
       "      <td>12</td>\n",
       "      <td>'critical/other existing credit'</td>\n",
       "      <td>education</td>\n",
       "      <td>2096</td>\n",
       "      <td>&lt;100</td>\n",
       "      <td>4&lt;=X&lt;7</td>\n",
       "      <td>2</td>\n",
       "      <td>'male single'</td>\n",
       "      <td>none</td>\n",
       "      <td>...</td>\n",
       "      <td>'real estate'</td>\n",
       "      <td>49</td>\n",
       "      <td>none</td>\n",
       "      <td>own</td>\n",
       "      <td>1</td>\n",
       "      <td>'unskilled resident'</td>\n",
       "      <td>2</td>\n",
       "      <td>none</td>\n",
       "      <td>yes</td>\n",
       "      <td>good</td>\n",
       "    </tr>\n",
       "    <tr>\n",
       "      <th>3</th>\n",
       "      <td>&lt;0</td>\n",
       "      <td>42</td>\n",
       "      <td>'existing paid'</td>\n",
       "      <td>furniture/equipment</td>\n",
       "      <td>7882</td>\n",
       "      <td>&lt;100</td>\n",
       "      <td>4&lt;=X&lt;7</td>\n",
       "      <td>2</td>\n",
       "      <td>'male single'</td>\n",
       "      <td>guarantor</td>\n",
       "      <td>...</td>\n",
       "      <td>'life insurance'</td>\n",
       "      <td>45</td>\n",
       "      <td>none</td>\n",
       "      <td>'for free'</td>\n",
       "      <td>1</td>\n",
       "      <td>skilled</td>\n",
       "      <td>2</td>\n",
       "      <td>none</td>\n",
       "      <td>yes</td>\n",
       "      <td>good</td>\n",
       "    </tr>\n",
       "    <tr>\n",
       "      <th>4</th>\n",
       "      <td>&lt;0</td>\n",
       "      <td>24</td>\n",
       "      <td>'delayed previously'</td>\n",
       "      <td>'new car'</td>\n",
       "      <td>4870</td>\n",
       "      <td>&lt;100</td>\n",
       "      <td>1&lt;=X&lt;4</td>\n",
       "      <td>3</td>\n",
       "      <td>'male single'</td>\n",
       "      <td>none</td>\n",
       "      <td>...</td>\n",
       "      <td>'no known property'</td>\n",
       "      <td>53</td>\n",
       "      <td>none</td>\n",
       "      <td>'for free'</td>\n",
       "      <td>2</td>\n",
       "      <td>skilled</td>\n",
       "      <td>2</td>\n",
       "      <td>none</td>\n",
       "      <td>yes</td>\n",
       "      <td>bad</td>\n",
       "    </tr>\n",
       "  </tbody>\n",
       "</table>\n",
       "<p>5 rows × 21 columns</p>\n",
       "</div>"
      ],
      "text/plain": [
       "  checking_status  duration                    credit_history  \\\n",
       "0              <0         6  'critical/other existing credit'   \n",
       "1        0<=X<200        48                   'existing paid'   \n",
       "2   'no checking'        12  'critical/other existing credit'   \n",
       "3              <0        42                   'existing paid'   \n",
       "4              <0        24              'delayed previously'   \n",
       "\n",
       "               purpose  credit_amount      savings_status employment  \\\n",
       "0             radio/tv           1169  'no known savings'        >=7   \n",
       "1             radio/tv           5951                <100     1<=X<4   \n",
       "2            education           2096                <100     4<=X<7   \n",
       "3  furniture/equipment           7882                <100     4<=X<7   \n",
       "4            'new car'           4870                <100     1<=X<4   \n",
       "\n",
       "   installment_commitment       personal_status other_parties  ...  \\\n",
       "0                       4         'male single'          none  ...   \n",
       "1                       2  'female div/dep/mar'          none  ...   \n",
       "2                       2         'male single'          none  ...   \n",
       "3                       2         'male single'     guarantor  ...   \n",
       "4                       3         'male single'          none  ...   \n",
       "\n",
       "    property_magnitude age  other_payment_plans     housing existing_credits  \\\n",
       "0        'real estate'  67                 none         own                2   \n",
       "1        'real estate'  22                 none         own                1   \n",
       "2        'real estate'  49                 none         own                1   \n",
       "3     'life insurance'  45                 none  'for free'                1   \n",
       "4  'no known property'  53                 none  'for free'                2   \n",
       "\n",
       "                    job num_dependents  own_telephone foreign_worker class  \n",
       "0               skilled              1            yes            yes  good  \n",
       "1               skilled              1           none            yes   bad  \n",
       "2  'unskilled resident'              2           none            yes  good  \n",
       "3               skilled              2           none            yes  good  \n",
       "4               skilled              2           none            yes   bad  \n",
       "\n",
       "[5 rows x 21 columns]"
      ]
     },
     "execution_count": 4,
     "metadata": {},
     "output_type": "execute_result"
    }
   ],
   "source": [
    "credito.head()"
   ]
  },
  {
   "cell_type": "markdown",
   "id": "a2a30528-cd58-43af-a633-c3419e75c0b4",
   "metadata": {},
   "source": [
    "## Transformações e Separação das Variáveis"
   ]
  },
  {
   "cell_type": "code",
   "execution_count": 5,
   "id": "1d75c57a-51d3-4167-bf52-f4ca8adf9e65",
   "metadata": {},
   "outputs": [],
   "source": [
    "for col in credito.columns:\n",
    "    if credito[col].dtype == 'object':\n",
    "        credito[col] = credito[col].astype('category').cat.codes"
   ]
  },
  {
   "cell_type": "code",
   "execution_count": 6,
   "id": "25784921-1002-41c5-ad16-be545fe71d0e",
   "metadata": {},
   "outputs": [],
   "source": [
    "previsores = credito.iloc[:, 0:20].values\n",
    "classe = credito.iloc[:,20].values"
   ]
  },
  {
   "cell_type": "code",
   "execution_count": 7,
   "id": "3e660a21-d70a-4390-bbd0-3f08e8604f99",
   "metadata": {},
   "outputs": [],
   "source": [
    "X_treinamento, X_teste, y_treinamento, y_teste = train_test_split(previsores, classe, test_size=0.3, random_state=42)"
   ]
  },
  {
   "cell_type": "markdown",
   "id": "384b5e67-f329-45a4-96a0-5b0209aaa430",
   "metadata": {},
   "source": [
    "## Treinamento do Modelo"
   ]
  },
  {
   "cell_type": "code",
   "execution_count": 15,
   "id": "e1c6bc9a-e89d-4bbb-bdfd-8bdb793989cc",
   "metadata": {},
   "outputs": [
    {
     "name": "stderr",
     "output_type": "stream",
     "text": [
      "2025/02/04 10:51:59 WARNING mlflow.models.model: Model logged without a signature and input example. Please set `input_example` parameter when logging the model to auto infer the model signature.\n"
     ]
    },
    {
     "name": "stdout",
     "output_type": "stream",
     "text": [
      "Modelo: 8003783068b9416ebeddcd56a0515d04\n"
     ]
    },
    {
     "data": {
      "text/plain": [
       "<function mlflow.tracking.fluent.end_run(status: str = 'FINISHED') -> None>"
      ]
     },
     "execution_count": 15,
     "metadata": {},
     "output_type": "execute_result"
    },
    {
     "data": {
      "image/png": "[encoded data removed]",
      "text/plain": [
       "<Figure size 640x480 with 2 Axes>"
      ]
     },
     "metadata": {},
     "output_type": "display_data"
    },
    {
     "data": {
      "image/png": "[encoded data removed]",
      "text/plain": [
       "<Figure size 640x480 with 1 Axes>"
      ]
     },
     "metadata": {},
     "output_type": "display_data"
    }
   ],
   "source": [
    "# Treinando o modelo com experimento MLFlow\n",
    "mlflow.set_experiment(\"nbexperimento\")\n",
    "\n",
    "with mlflow.start_run():\n",
    "    naive_bayes = GaussianNB()\n",
    "    naive_bayes.fit(X_treinamento, y_treinamento)\n",
    "    previsoes = naive_bayes.predict(X_teste)\n",
    "\n",
    "    # Métricas\n",
    "    acuracia = accuracy_score(y_teste, previsoes)\n",
    "    recall = recall_score(y_teste, previsoes)\n",
    "    precision = precision_score(y_teste, previsoes)\n",
    "    f1 = f1_score(y_teste, previsoes)\n",
    "    auc= roc_auc_score(y_teste, previsoes)\n",
    "    log = log_loss(y_teste, previsoes)\n",
    "\n",
    "    # Registrar Métricas\n",
    "    mlflow.log_metric(\"acuracia\", acuracia)\n",
    "    mlflow.log_metric(\"recall\",recall)\n",
    "    mlflow.log_metric(\"precision\",precision)\n",
    "    mlflow.log_metric(\"f1\",f1)\n",
    "    mlflow.log_metric(\"auc\",auc)\n",
    "    mlflow.log_metric(\"log\",log)\n",
    "\n",
    "    # Gráficos\n",
    "    confusion = ConfusionMatrixDisplay.from_estimator(naive_bayes, X_teste, y_teste)\n",
    "    plt.savefig(\"confusionmatrix.png\")\n",
    "    roc = RocCurveDisplay.from_estimator(naive_bayes, X_teste, y_teste)\n",
    "    plt.savefig(\"roc.png\")\n",
    "\n",
    "    # Logar Gráficos\n",
    "    mlflow.log_artifact(\"confusionmatrix.png\")\n",
    "    mlflow.log_artifact(\"roc.png\")\n",
    "\n",
    "    # Modelo\n",
    "    mlflow.sklearn.log_model(naive_bayes, \"ModeloNB\")\n",
    "\n",
    "\n",
    "    # Informações da execução\n",
    "    print(\"Modelo:\", mlflow.active_run().info.run_uuid)\n",
    "\n",
    "mlflow.end_run"
   ]
  },
  {
   "cell_type": "code",
   "execution_count": null,
   "id": "d1be94dd-5052-496d-8095-90148dea6c3e",
   "metadata": {},
   "outputs": [],
   "source": []
  }
 ],
 "metadata": {
  "kernelspec": {
   "display_name": "Python 3 (ipykernel)",
   "language": "python",
   "name": "python3"
  },
  "language_info": {
   "codemirror_mode": {
    "name": "ipython",
    "version": 3
   },
   "file_extension": ".py",
   "mimetype": "text/x-python",
   "name": "python",
   "nbconvert_exporter": "python",
   "pygments_lexer": "ipython3",
   "version": "3.12.5"
  }
 },
 "nbformat": 4,
 "nbformat_minor": 5
}
