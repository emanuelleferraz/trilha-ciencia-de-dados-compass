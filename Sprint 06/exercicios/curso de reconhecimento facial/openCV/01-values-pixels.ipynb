{
 "cells": [
  {
   "cell_type": "markdown",
   "metadata": {},
   "source": [
    "# Importações"
   ]
  },
  {
   "cell_type": "code",
   "execution_count": 1,
   "metadata": {},
   "outputs": [],
   "source": [
    "import numpy as np\n",
    "import matplotlib.pyplot as plt"
   ]
  },
  {
   "cell_type": "markdown",
   "metadata": {},
   "source": [
    "# Criando Array"
   ]
  },
  {
   "cell_type": "code",
   "execution_count": 2,
   "metadata": {},
   "outputs": [
    {
     "name": "stdout",
     "output_type": "stream",
     "text": [
      "[  0   1   2   3   4   5   6   7   8   9  10  11  12  13  14  15  16  17\n",
      "  18  19  20  21  22  23  24  25  26  27  28  29  30  31  32  33  34  35\n",
      "  36  37  38  39  40  41  42  43  44  45  46  47  48  49  50  51  52  53\n",
      "  54  55  56  57  58  59  60  61  62  63  64  65  66  67  68  69  70  71\n",
      "  72  73  74  75  76  77  78  79  80  81  82  83  84  85  86  87  88  89\n",
      "  90  91  92  93  94  95  96  97  98  99 100 101 102 103 104 105 106 107\n",
      " 108 109 110 111 112 113 114 115 116 117 118 119 120 121 122 123 124 125\n",
      " 126 127 128 129 130 131 132 133 134 135 136 137 138 139 140 141 142 143\n",
      " 144 145 146 147 148 149 150 151 152 153 154 155 156 157 158 159 160 161\n",
      " 162 163 164 165 166 167 168 169 170 171 172 173 174 175 176 177 178 179\n",
      " 180 181 182 183 184 185 186 187 188 189 190 191 192 193 194 195 196 197\n",
      " 198 199 200 201 202 203 204 205 206 207 208 209 210 211 212 213 214 215\n",
      " 216 217 218 219 220 221 222 223 224 225 226 227 228 229 230 231 232 233\n",
      " 234 235 236 237 238 239 240 241 242 243 244 245 246 247 248 249 250 251\n",
      " 252 253 254 255]\n"
     ]
    }
   ],
   "source": [
    "array = np.arange(0, 256, 1)\n",
    "print(array)"
   ]
  },
  {
   "cell_type": "code",
   "execution_count": 3,
   "metadata": {},
   "outputs": [
    {
     "name": "stdout",
     "output_type": "stream",
     "text": [
      "[[  0   1   2   3   4   5   6   7   8   9  10  11  12  13  14  15]\n",
      " [ 16  17  18  19  20  21  22  23  24  25  26  27  28  29  30  31]\n",
      " [ 32  33  34  35  36  37  38  39  40  41  42  43  44  45  46  47]\n",
      " [ 48  49  50  51  52  53  54  55  56  57  58  59  60  61  62  63]\n",
      " [ 64  65  66  67  68  69  70  71  72  73  74  75  76  77  78  79]\n",
      " [ 80  81  82  83  84  85  86  87  88  89  90  91  92  93  94  95]\n",
      " [ 96  97  98  99 100 101 102 103 104 105 106 107 108 109 110 111]\n",
      " [112 113 114 115 116 117 118 119 120 121 122 123 124 125 126 127]\n",
      " [128 129 130 131 132 133 134 135 136 137 138 139 140 141 142 143]\n",
      " [144 145 146 147 148 149 150 151 152 153 154 155 156 157 158 159]\n",
      " [160 161 162 163 164 165 166 167 168 169 170 171 172 173 174 175]\n",
      " [176 177 178 179 180 181 182 183 184 185 186 187 188 189 190 191]\n",
      " [192 193 194 195 196 197 198 199 200 201 202 203 204 205 206 207]\n",
      " [208 209 210 211 212 213 214 215 216 217 218 219 220 221 222 223]\n",
      " [224 225 226 227 228 229 230 231 232 233 234 235 236 237 238 239]\n",
      " [240 241 242 243 244 245 246 247 248 249 250 251 252 253 254 255]]\n"
     ]
    }
   ],
   "source": [
    "# Fazendo reshape para 16x16\n",
    "array = array.reshape((16,16))\n",
    "print(array)"
   ]
  },
  {
   "cell_type": "code",
   "execution_count": 4,
   "metadata": {},
   "outputs": [],
   "source": [
    "# Convertendo para array de 8bit\n",
    "array_8_bit = array.astype(np.uint8)"
   ]
  },
  {
   "cell_type": "markdown",
   "metadata": {},
   "source": [
    "# Visualização com Matplot"
   ]
  },
  {
   "cell_type": "code",
   "execution_count": 6,
   "metadata": {},
   "outputs": [
    {
     "data": {
      "image/png": "[encoded data removed]",
      "text/plain": [
       "<Figure size 640x480 with 1 Axes>"
      ]
     },
     "metadata": {},
     "output_type": "display_data"
    }
   ],
   "source": [
    "plt.imshow(array_8_bit, cmap='gray')\n",
    "plt.axis('off')\n",
    "plt.show()"
   ]
  },
  {
   "cell_type": "markdown",
   "metadata": {},
   "source": [
    "# Criando Matrix"
   ]
  },
  {
   "cell_type": "code",
   "execution_count": 8,
   "metadata": {},
   "outputs": [
    {
     "data": {
      "text/plain": [
       "(np.float64(-0.5), np.float64(15.5), np.float64(15.5), np.float64(-0.5))"
      ]
     },
     "execution_count": 8,
     "metadata": {},
     "output_type": "execute_result"
    },
    {
     "data": {
      "image/png": "[encoded data removed]",
      "text/plain": [
       "<Figure size 640x480 with 1 Axes>"
      ]
     },
     "metadata": {},
     "output_type": "display_data"
    }
   ],
   "source": [
    "array1 = np.random.randint(low=0, high=255, size=(16,16), dtype=np.uint8)\n",
    "plt.imshow(array1, cmap='gray')\n",
    "plt.axis('off')"
   ]
  },
  {
   "cell_type": "code",
   "execution_count": 9,
   "metadata": {},
   "outputs": [
    {
     "data": {
      "text/plain": [
       "array([[129, 149, 245,  92,  33, 178, 124, 118, 106, 154,  99, 205, 233,\n",
       "        154, 122,  95],\n",
       "       [ 68, 172,  25,  95, 151,  23, 152, 224, 112,  50, 204, 204,  48,\n",
       "        193, 231,  64],\n",
       "       [254,  71,  73,  16, 207, 250, 189, 164, 154, 209, 243, 205,  12,\n",
       "        190,  49, 201],\n",
       "       [141, 136,  65,  75,  46, 251, 144, 133, 178,  10, 126,  77, 223,\n",
       "         11,  18,  61],\n",
       "       [ 41, 209, 151, 218, 117,  70,  36, 238, 139, 222,  27, 247,  73,\n",
       "          5,  50,  91],\n",
       "       [ 17,   2,   1, 217,  33,  49,  95, 248,   7,  97,  89,  77,  82,\n",
       "         45,  73,  75],\n",
       "       [189,  12, 235, 117, 138,  75,  20, 224, 239,  11,  99, 171,  36,\n",
       "         83, 139, 194],\n",
       "       [214, 135, 251, 227, 106, 216, 125,   5, 136, 104, 108, 219,  19,\n",
       "        143, 196, 221],\n",
       "       [124,  32, 178, 221, 116, 175, 159,  39, 110,  98, 222,  60,  13,\n",
       "         67, 142,  91],\n",
       "       [  7, 221, 215, 118,  86,  71,   8, 179,  65, 103, 111, 254, 169,\n",
       "         38, 250, 140],\n",
       "       [171, 183,  95,  12, 252, 104, 225, 193,  54,  64, 151,  54, 186,\n",
       "        175, 187,  58],\n",
       "       [ 49,  60,  37,  32,   6,   4,   3, 211, 233, 198, 114, 189, 125,\n",
       "         52, 174, 216],\n",
       "       [189, 135, 236,  57, 107, 150, 236, 164, 217, 137, 107, 243, 242,\n",
       "        159,   2, 100],\n",
       "       [185,  94,  94,  56,  12,  26, 248,  86,  41,   6, 244,  77,  96,\n",
       "         51, 153,  97],\n",
       "       [164, 202,  66,  83,  79, 154,  68,  30, 232, 209,  37,  49, 158,\n",
       "        116, 248,  54],\n",
       "       [206, 238,  16,  58,  89, 152,  75, 215, 127, 119,   8, 225, 204,\n",
       "        144, 119,  12]], dtype=uint8)"
      ]
     },
     "execution_count": 9,
     "metadata": {},
     "output_type": "execute_result"
    }
   ],
   "source": [
    "array1"
   ]
  }
 ],
 "metadata": {
  "kernelspec": {
   "display_name": "curso-face-recognition",
   "language": "python",
   "name": "python3"
  },
  "language_info": {
   "codemirror_mode": {
    "name": "ipython",
    "version": 3
   },
   "file_extension": ".py",
   "mimetype": "text/x-python",
   "name": "python",
   "nbconvert_exporter": "python",
   "pygments_lexer": "ipython3",
   "version": "3.12.5"
  }
 },
 "nbformat": 4,
 "nbformat_minor": 2
}
