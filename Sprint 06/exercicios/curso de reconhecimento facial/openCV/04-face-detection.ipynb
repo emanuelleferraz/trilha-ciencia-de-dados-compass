{
 "cells": [
  {
   "cell_type": "markdown",
   "metadata": {},
   "source": [
    "# Importações"
   ]
  },
  {
   "cell_type": "code",
   "execution_count": 1,
   "metadata": {},
   "outputs": [],
   "source": [
    "import numpy as np\n",
    "import cv2"
   ]
  },
  {
   "cell_type": "code",
   "execution_count": 2,
   "metadata": {},
   "outputs": [],
   "source": [
    "img = cv2.imread('./data/friends.jpg')"
   ]
  },
  {
   "cell_type": "code",
   "execution_count": 3,
   "metadata": {},
   "outputs": [],
   "source": [
    "# Visualizando imagem\n",
    "cv2.imshow('image',img)\n",
    "cv2.waitKey(0)\n",
    "cv2.destroyAllWindows()"
   ]
  },
  {
   "cell_type": "markdown",
   "metadata": {},
   "source": [
    "# Face Detection"
   ]
  },
  {
   "cell_type": "code",
   "execution_count": 4,
   "metadata": {},
   "outputs": [],
   "source": [
    "# Algoritmo de Classificação\n",
    "haar = cv2.CascadeClassifier('./data/haarcascade_frontalface_default.xml')"
   ]
  },
  {
   "cell_type": "code",
   "execution_count": 8,
   "metadata": {},
   "outputs": [],
   "source": [
    "image = img.copy()\n",
    "\n",
    "# Convertendo imagem para GrayScale\n",
    "gray = cv2.cvtColor(img,cv2.COLOR_BGR2GRAY)\n",
    "\n",
    "# Aplicando no Cascade Classifier o GrayScale\n",
    "face_det = haar.detectMultiScale(gray,1.3,5)\n",
    "\n",
    "# Criando o retângulo nas faces\n",
    "for x,y,w,h in face_det:\n",
    "    cv2.rectangle(image,(x,y),(x+w,y+h),(0,0,255),2)\n",
    "    \n",
    "cv2.imshow('detected faces',image)\n",
    "cv2.waitKey(0)\n",
    "cv2.destroyAllWindows()"
   ]
  },
  {
   "cell_type": "markdown",
   "metadata": {},
   "source": [
    "O haar.detectMultiScale(gray, 1.3, 5) usa um modelo treinado baseado em Haar Cascades. Esse modelo foi treinado em várias imagens contendo rostos e outras que não contêm. Ele usa um conjunto de features (características visuais) que são comuns em rostos humanos, como:\n",
    "\n",
    "- Diferença de contraste entre os olhos e a área ao redor.\n",
    "- Formato do nariz e boca.\n",
    "- Bordas e padrões comuns em rostos.\n",
    "\n",
    "Ele escaneia a imagem em várias escalas (daí o nome detectMultiScale), tentando encontrar padrões semelhantes aos de um rosto."
   ]
  },
  {
   "cell_type": "markdown",
   "metadata": {},
   "source": [
    "# Fazendo a Detecção em Vídeo"
   ]
  },
  {
   "cell_type": "code",
   "execution_count": 10,
   "metadata": {},
   "outputs": [],
   "source": [
    "cap = cv2.VideoCapture('./data/videoplayback.mp4')\n",
    "\n",
    "while True:\n",
    "    ret, frame = cap.read() # Lê o quadro do vídeo\n",
    "    if ret == False:\n",
    "        break\n",
    "        \n",
    "    image = frame.copy()\n",
    "\n",
    "    # Repetindo os passos acima\n",
    "    gray = cv2.cvtColor(image,cv2.COLOR_BGR2GRAY)\n",
    "    face_rect = haar.detectMultiScale(gray,1.3,5)\n",
    "    for x,y,w,h in face_rect:\n",
    "        cv2.rectangle(image,(x,y),(x+w,y+h),(0,255,0),2)\n",
    "    \n",
    "    cv2.imshow('face detection',image)\n",
    "    \n",
    "    if cv2.waitKey(10) == 27:\n",
    "        break\n",
    "        \n",
    "cap.release()\n",
    "cv2.destroyAllWindows()"
   ]
  }
 ],
 "metadata": {
  "kernelspec": {
   "display_name": "curso-face-recognition",
   "language": "python",
   "name": "python3"
  },
  "language_info": {
   "codemirror_mode": {
    "name": "ipython",
    "version": 3
   },
   "file_extension": ".py",
   "mimetype": "text/x-python",
   "name": "python",
   "nbconvert_exporter": "python",
   "pygments_lexer": "ipython3",
   "version": "3.12.5"
  }
 },
 "nbformat": 4,
 "nbformat_minor": 2
}
