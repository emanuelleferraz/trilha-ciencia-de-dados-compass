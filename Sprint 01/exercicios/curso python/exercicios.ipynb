{
 "cells": [
  {
   "cell_type": "markdown",
   "metadata": {},
   "source": [
    "# Exercícios do curso de Python (do Zero ao Avançado) referentes a Trilha de Ciência de Dados da Compass.Uol"
   ]
  },
  {
   "cell_type": "markdown",
   "metadata": {},
   "source": [
    "## Exercício de Operações Aritméticas"
   ]
  },
  {
   "cell_type": "code",
   "execution_count": 1,
   "metadata": {},
   "outputs": [
    {
     "name": "stdout",
     "output_type": "stream",
     "text": [
      "A soma dos números é igual a 20\n",
      "A subtração dos números é igual a 0\n",
      "A multiplicação dos números é igual a 100\n",
      "A divisão dos números é igual a 1.0\n",
      "O módulo do primeiro número em relação ao segundo é igual a 0\n",
      "O primeiro número elevado ao segundo é igual a 10000000000\n"
     ]
    }
   ],
   "source": [
    "num1 = num2 = 0\n",
    "\n",
    "num1 = int(input(\"Digite um número: \"))\n",
    "num2 = int(input(\"Digite outro número: \"))\n",
    "\n",
    "soma = num1 + num2\n",
    "subtracao = num1 - num2\n",
    "multiplicacao = num1 * num2\n",
    "divisao = num1 / num2\n",
    "modulo = num1 % num2\n",
    "expo = num1 ** num2\n",
    "\n",
    "print(f\"A soma dos números é igual a {soma}\")\n",
    "print(f\"A subtração dos números é igual a {subtracao}\")\n",
    "print(f\"A multiplicação dos números é igual a {multiplicacao}\")\n",
    "print(f\"A divisão dos números é igual a {divisao}\")\n",
    "print(f\"O módulo do primeiro número em relação ao segundo é igual a {modulo}\")\n",
    "print(f\"O primeiro número elevado ao segundo é igual a {expo}\")"
   ]
  },
  {
   "cell_type": "markdown",
   "metadata": {},
   "source": [
    "## Exercício de Estruturas Condicionais"
   ]
  },
  {
   "cell_type": "code",
   "execution_count": 2,
   "metadata": {},
   "outputs": [
    {
     "name": "stdout",
     "output_type": "stream",
     "text": [
      "Aprovado!\n",
      "Sua média é 8.5\n"
     ]
    }
   ],
   "source": [
    "nota1 = nota2 = 0\n",
    "mediaNotas = 0\n",
    "numFaltas = 0\n",
    "\n",
    "nota1 = float(input(\"Informe o valor da primeira nota: \"))\n",
    "nota2 = float(input(\"Informe o valor da segunda nota: \"))\n",
    "\n",
    "numFaltas = int(input(\"Informe o número de faltas: \"))\n",
    "\n",
    "mediaNotas = (nota1 + nota2) / 2\n",
    "\n",
    "if (numFaltas > 18):\n",
    "    print(\"Reprovado por faltas\")\n",
    "elif (mediaNotas >= 7):\n",
    "    print(\"Aprovado!\")\n",
    "elif (mediaNotas >= 5):\n",
    "    print(\"Recuperação\")\n",
    "else:\n",
    "    print(\"Reprovado!\")\n",
    "\n",
    "print(f\"Sua média é {mediaNotas}\")"
   ]
  },
  {
   "cell_type": "markdown",
   "metadata": {},
   "source": [
    "## Mini Projeto Jogo de Adivinhação (exercício para treinar laços de repetição e condicionais)"
   ]
  },
  {
   "cell_type": "code",
   "execution_count": 7,
   "metadata": {},
   "outputs": [
    {
     "name": "stdout",
     "output_type": "stream",
     "text": [
      "Seja bem vindo ao jogo de advinhação!\n",
      "Objetivo do jogo: Acertar o número gerado entre 1 e 20\n",
      "Regras: Você terá apenas três chances para adivinhar o número\n",
      "\n",
      "Escolha um número: \n",
      "Você escolheu um número maior.\n",
      "\n",
      "Escolha um número: \n",
      "\n",
      "Parabens! Você acertou o número!\n"
     ]
    }
   ],
   "source": [
    "import random\n",
    "\n",
    "novoJogo = 'sim'\n",
    "\n",
    "while novoJogo == 'sim':\n",
    "    print(\"Seja bem vindo ao jogo de advinhação!\")\n",
    "    print(\"Objetivo do jogo: Acertar o número gerado entre 1 e 20\")\n",
    "    print(\"Regras: Você terá apenas três chances para adivinhar o número\")\n",
    "\n",
    "    numeroGerado = random.randint(1, 20)\n",
    "\n",
    "    for i in range(3):\n",
    "        print(\"\\nEscolha um número: \")\n",
    "        escolha = int(input())\n",
    "\n",
    "        if(escolha == numeroGerado):\n",
    "            print(\"\\nParabens! Você acertou o número!\")\n",
    "            break\n",
    "        elif(escolha > numeroGerado):\n",
    "            print(\"Você escolheu um número maior.\")\n",
    "        else:\n",
    "            print(\"Você escolheu um número menor.\")\n",
    "\n",
    "    if (escolha != numeroGerado):\n",
    "        print(f\"O número escolhido era: {numeroGerado}\")\n",
    "\n",
    "    novoJogo = input(\"Deseja jogar novamente? Digite 'sim' para iniciar um novo jogo ou 'não' para finalizar: \")\n",
    "    novoJogo = novoJogo.lower()"
   ]
  },
  {
   "cell_type": "markdown",
   "metadata": {},
   "source": [
    "## Exercício para treinar funções e tratamento de exceções, calculando as raízes de uma equação de 2º grau."
   ]
  },
  {
   "cell_type": "code",
   "execution_count": 4,
   "metadata": {},
   "outputs": [
    {
     "name": "stdout",
     "output_type": "stream",
     "text": [
      "Calcular as raizes de uma equação de segundo grau\n",
      "Equação no formato ax² + bx + c = 0\n",
      "\n",
      "\n",
      "O valor de X1 é igual a -1.25+0.66j\n",
      "O valor de X2 é igual a -1.25-0.66j\n",
      "\n",
      "[(-1.25+0.6614378277661477j), (-1.25-0.6614378277661477j)]\n",
      "Calcular as raizes de uma equação de segundo grau\n",
      "Equação no formato ax² + bx + c = 0\n",
      "\n",
      "\n",
      "O valor de X1 é igual a -1.00\n",
      "O valor de X2 é igual a -2.00\n",
      "\n",
      "[-1.0, -2.0]\n"
     ]
    }
   ],
   "source": [
    "import sys\n",
    "import os\n",
    "\n",
    "\n",
    "def raizes(a, b, c):\n",
    "    delta = (b ** 2 - 4 * a * c)\n",
    "    x1 = (-b + delta**(1/2)) / (2 * a)\n",
    "    x2 = (-b - delta**(1/2)) / (2 * a)\n",
    "    \n",
    "    print(f\"\\nO valor de X1 é igual a {x1:.2f}\")\n",
    "    print(f\"O valor de X2 é igual a {x2:.2f}\\n\")\n",
    "    \n",
    "    # Retornar os valores em uma lista\n",
    "    valores = []\n",
    "    valores.append(x1)\n",
    "    valores.append(x2)\n",
    "    \n",
    "    return valores\n",
    "    \n",
    "if __name__ == '__main__':\n",
    "    while True:\n",
    "        print(\"Calcular as raizes de uma equação de segundo grau\")\n",
    "        print(\"Equação no formato ax² + bx + c = 0\\n\")\n",
    "        \n",
    "        try:\n",
    "            a = float(input(\"Entre com o valor de a: \"))\n",
    "            b = float(input(\"Entre com o valor de b: \"))\n",
    "            c = float(input(\"Entre com o valor de c: \"))\n",
    "        except ValueError:\n",
    "            print(\"Digite somente números!\")\n",
    "        else:\n",
    "            resultado = raizes(a, b, c)\n",
    "            print(resultado)\n",
    "            \n",
    "        while True:\n",
    "            continua = input(\"\\nDigite q para sair ou n para novo cálculo: \")\n",
    "            if (continua.lower() == 'q'):\n",
    "                break\n",
    "            elif (continua.lower() == 'n'):\n",
    "                os.system('cls')\n",
    "                break\n",
    "            else:\n",
    "                print(\"Entrada inválida!\")\n",
    "        if continua.lower() == 'q':\n",
    "            break"
   ]
  },
  {
   "cell_type": "markdown",
   "metadata": {},
   "source": [
    "## Exercício de Recursividade"
   ]
  },
  {
   "cell_type": "code",
   "execution_count": 5,
   "metadata": {},
   "outputs": [
    {
     "name": "stdout",
     "output_type": "stream",
     "text": [
      "A sequencia de Fibonacci é [0, 1, 1, 2, 3, 5, 8, 13, 21, 34]\n"
     ]
    }
   ],
   "source": [
    "# Fibonacci - Soma dos números anteriores\n",
    "# 0, 1, 1, 2, 3, 5, 8, 13......\n",
    "\n",
    "def fibonacci(numero):\n",
    "    if numero == 1:\n",
    "        return [0]\n",
    "    elif numero == 2:\n",
    "        return [0, 1]\n",
    "    else:\n",
    "        sequenciaFibonacci = fibonacci(numero - 1)\n",
    "        sequenciaFibonacci.append(sequenciaFibonacci[-1] + sequenciaFibonacci[-2])\n",
    "        return sequenciaFibonacci\n",
    "    \n",
    "if __name__ == '__main__':\n",
    "    \n",
    "    try:\n",
    "        numero = int(input(\"Digite um numero para calcular a sequência de fibonacci: \"))\n",
    "        resultado = fibonacci(numero)\n",
    "    except RecursionError:\n",
    "        print(\"Número inválido! Forneça apenas números inteiros positivos.\")\n",
    "    else:\n",
    "        print(f\"A sequencia de Fibonacci é {resultado}\")\n",
    "        "
   ]
  }
 ],
 "metadata": {
  "kernelspec": {
   "display_name": "Python 3",
   "language": "python",
   "name": "python3"
  },
  "language_info": {
   "codemirror_mode": {
    "name": "ipython",
    "version": 3
   },
   "file_extension": ".py",
   "mimetype": "text/x-python",
   "name": "python",
   "nbconvert_exporter": "python",
   "pygments_lexer": "ipython3",
   "version": "3.12.5"
  }
 },
 "nbformat": 4,
 "nbformat_minor": 2
}
