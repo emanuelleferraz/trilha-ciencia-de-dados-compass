{
 "cells": [
  {
   "cell_type": "markdown",
   "metadata": {},
   "source": [
    "Exercícios do curso de Python referentes a Trilha de Ciência de Dados da Compass.Uol"
   ]
  },
  {
   "cell_type": "markdown",
   "metadata": {},
   "source": [
    "Exercício de Operações Aritméticas"
   ]
  },
  {
   "cell_type": "code",
   "execution_count": 3,
   "metadata": {},
   "outputs": [
    {
     "name": "stdout",
     "output_type": "stream",
     "text": [
      "A soma dos números é igual a 22\n",
      "A subtração dos números é igual a -2\n",
      "A multiplicação dos números é igual a 120\n",
      "A divisão dos números é igual a 0.8333333333333334\n",
      "O módulo do primeiro número em relação ao segundo é igual a 10\n",
      "O primeiro número elevado ao segundo é igual a 1000000000000\n"
     ]
    }
   ],
   "source": [
    "num1 = num2 = 0\n",
    "\n",
    "num1 = int(input(\"Digite um número: \"))\n",
    "num2 = int(input(\"Digite outro número: \"))\n",
    "\n",
    "soma = num1 + num2\n",
    "subtracao = num1 - num2\n",
    "multiplicacao = num1 * num2\n",
    "divisao = num1 / num2\n",
    "modulo = num1 % num2\n",
    "expo = num1 ** num2\n",
    "\n",
    "print(f\"A soma dos números é igual a {soma}\")\n",
    "print(f\"A subtração dos números é igual a {subtracao}\")\n",
    "print(f\"A multiplicação dos números é igual a {multiplicacao}\")\n",
    "print(f\"A divisão dos números é igual a {divisao}\")\n",
    "print(f\"O módulo do primeiro número em relação ao segundo é igual a {modulo}\")\n",
    "print(f\"O primeiro número elevado ao segundo é igual a {expo}\")"
   ]
  },
  {
   "cell_type": "markdown",
   "metadata": {},
   "source": [
    "Exercício de Estruturas Condicionais"
   ]
  },
  {
   "cell_type": "code",
   "execution_count": 4,
   "metadata": {},
   "outputs": [
    {
     "name": "stdout",
     "output_type": "stream",
     "text": [
      "Aprovado!\n",
      "Sua média é 8.5\n"
     ]
    }
   ],
   "source": [
    "nota1 = nota2 = 0\n",
    "mediaNotas = 0\n",
    "numFaltas = 0\n",
    "\n",
    "nota1 = float(input(\"Informe o valor da primeira nota: \"))\n",
    "nota2 = float(input(\"Informe o valor da segunda nota: \"))\n",
    "\n",
    "numFaltas = int(input(\"Informe o número de faltas: \"))\n",
    "\n",
    "mediaNotas = (nota1 + nota2) / 2\n",
    "\n",
    "if (numFaltas > 18):\n",
    "    print(\"Reprovado por faltas\")\n",
    "elif (mediaNotas >= 7):\n",
    "    print(\"Aprovado!\")\n",
    "elif (mediaNotas >= 5):\n",
    "    print(\"Recuperação\")\n",
    "else:\n",
    "    print(\"Reprovado!\")\n",
    "\n",
    "print(f\"Sua média é {mediaNotas}\")"
   ]
  },
  {
   "cell_type": "markdown",
   "metadata": {},
   "source": [
    "Mini Projeto Jogo de Adivinhação (exercício para treinar laços de repetição e condicionais)"
   ]
  },
  {
   "cell_type": "code",
   "execution_count": 6,
   "metadata": {},
   "outputs": [
    {
     "name": "stdout",
     "output_type": "stream",
     "text": [
      "Seja bem vindo ao jogo de advinhação!\n",
      "Objetivo do jogo: Acertar o número gerado entre 1 e 20\n",
      "Regras: Você terá apenas três chances para adivinhar o número\n",
      "\n",
      "Escolha um número: \n",
      "Você escolheu um número maior.\n",
      "\n",
      "Escolha um número: \n",
      "Você escolheu um número maior.\n",
      "\n",
      "Escolha um número: \n",
      "Você escolheu um número maior.\n",
      "O número escolhido era: 1\n"
     ]
    }
   ],
   "source": [
    "import random\n",
    "\n",
    "novoJogo = 'sim'\n",
    "\n",
    "while novoJogo == 'sim':\n",
    "    print(\"Seja bem vindo ao jogo de advinhação!\")\n",
    "    print(\"Objetivo do jogo: Acertar o número gerado entre 1 e 20\")\n",
    "    print(\"Regras: Você terá apenas três chances para adivinhar o número\")\n",
    "\n",
    "    numeroGerado = random.randint(1, 20)\n",
    "\n",
    "    for i in range(3):\n",
    "        print(\"\\nEscolha um número: \")\n",
    "        escolha = int(input())\n",
    "\n",
    "        if(escolha == numeroGerado):\n",
    "            print(\"\\nParabens! Você acertou o número!\")\n",
    "            break\n",
    "        elif(escolha > numeroGerado):\n",
    "            print(\"Você escolheu um número maior.\")\n",
    "        else:\n",
    "            print(\"Você escolheu um número menor.\")\n",
    "\n",
    "    if (escolha != numeroGerado):\n",
    "        print(f\"O número escolhido era: {numeroGerado}\")\n",
    "\n",
    "    novoJogo = input(\"Deseja jogar novamente? Digite 'sim' para iniciar um novo jogo ou 'não' para finalizar: \")\n",
    "    novoJogo = novoJogo.lower()"
   ]
  }
 ],
 "metadata": {
  "kernelspec": {
   "display_name": "Python 3",
   "language": "python",
   "name": "python3"
  },
  "language_info": {
   "codemirror_mode": {
    "name": "ipython",
    "version": 3
   },
   "file_extension": ".py",
   "mimetype": "text/x-python",
   "name": "python",
   "nbconvert_exporter": "python",
   "pygments_lexer": "ipython3",
   "version": "3.12.5"
  }
 },
 "nbformat": 4,
 "nbformat_minor": 2
}
