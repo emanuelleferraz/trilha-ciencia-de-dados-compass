{
 "cells": [
  {
   "cell_type": "markdown",
   "metadata": {},
   "source": [
    "## Exercício Passageiros - Seção de Series do Curso de Pandas"
   ]
  },
  {
   "cell_type": "code",
   "execution_count": 1,
   "metadata": {},
   "outputs": [],
   "source": [
    "import pandas as pd\n",
    "import numpy as np"
   ]
  },
  {
   "cell_type": "code",
   "execution_count": 2,
   "metadata": {},
   "outputs": [],
   "source": [
    "# Abrindo arquivo\n",
    "data_arq = 'data/AirPassengers.csv'\n",
    "dataset = pd.read_csv(data_arq)"
   ]
  },
  {
   "cell_type": "code",
   "execution_count": 3,
   "metadata": {},
   "outputs": [
    {
     "data": {
      "text/plain": [
       "pandas.core.frame.DataFrame"
      ]
     },
     "execution_count": 3,
     "metadata": {},
     "output_type": "execute_result"
    }
   ],
   "source": [
    "type(dataset)"
   ]
  },
  {
   "cell_type": "code",
   "execution_count": 4,
   "metadata": {},
   "outputs": [
    {
     "data": {
      "text/html": [
       "<div>\n",
       "<style scoped>\n",
       "    .dataframe tbody tr th:only-of-type {\n",
       "        vertical-align: middle;\n",
       "    }\n",
       "\n",
       "    .dataframe tbody tr th {\n",
       "        vertical-align: top;\n",
       "    }\n",
       "\n",
       "    .dataframe thead th {\n",
       "        text-align: right;\n",
       "    }\n",
       "</style>\n",
       "<table border=\"1\" class=\"dataframe\">\n",
       "  <thead>\n",
       "    <tr style=\"text-align: right;\">\n",
       "      <th></th>\n",
       "      <th>Month</th>\n",
       "      <th>#Passengers</th>\n",
       "    </tr>\n",
       "  </thead>\n",
       "  <tbody>\n",
       "    <tr>\n",
       "      <th>0</th>\n",
       "      <td>1949-01</td>\n",
       "      <td>112</td>\n",
       "    </tr>\n",
       "    <tr>\n",
       "      <th>1</th>\n",
       "      <td>1949-02</td>\n",
       "      <td>118</td>\n",
       "    </tr>\n",
       "    <tr>\n",
       "      <th>2</th>\n",
       "      <td>1949-03</td>\n",
       "      <td>132</td>\n",
       "    </tr>\n",
       "    <tr>\n",
       "      <th>3</th>\n",
       "      <td>1949-04</td>\n",
       "      <td>129</td>\n",
       "    </tr>\n",
       "    <tr>\n",
       "      <th>4</th>\n",
       "      <td>1949-05</td>\n",
       "      <td>121</td>\n",
       "    </tr>\n",
       "    <tr>\n",
       "      <th>...</th>\n",
       "      <td>...</td>\n",
       "      <td>...</td>\n",
       "    </tr>\n",
       "    <tr>\n",
       "      <th>139</th>\n",
       "      <td>1960-08</td>\n",
       "      <td>606</td>\n",
       "    </tr>\n",
       "    <tr>\n",
       "      <th>140</th>\n",
       "      <td>1960-09</td>\n",
       "      <td>508</td>\n",
       "    </tr>\n",
       "    <tr>\n",
       "      <th>141</th>\n",
       "      <td>1960-10</td>\n",
       "      <td>461</td>\n",
       "    </tr>\n",
       "    <tr>\n",
       "      <th>142</th>\n",
       "      <td>1960-11</td>\n",
       "      <td>390</td>\n",
       "    </tr>\n",
       "    <tr>\n",
       "      <th>143</th>\n",
       "      <td>1960-12</td>\n",
       "      <td>432</td>\n",
       "    </tr>\n",
       "  </tbody>\n",
       "</table>\n",
       "<p>144 rows × 2 columns</p>\n",
       "</div>"
      ],
      "text/plain": [
       "       Month  #Passengers\n",
       "0    1949-01          112\n",
       "1    1949-02          118\n",
       "2    1949-03          132\n",
       "3    1949-04          129\n",
       "4    1949-05          121\n",
       "..       ...          ...\n",
       "139  1960-08          606\n",
       "140  1960-09          508\n",
       "141  1960-10          461\n",
       "142  1960-11          390\n",
       "143  1960-12          432\n",
       "\n",
       "[144 rows x 2 columns]"
      ]
     },
     "execution_count": 4,
     "metadata": {},
     "output_type": "execute_result"
    }
   ],
   "source": [
    "# Obtendo os passageiros\n",
    "dataset"
   ]
  },
  {
   "cell_type": "code",
   "execution_count": 8,
   "metadata": {},
   "outputs": [
    {
     "name": "stdout",
     "output_type": "stream",
     "text": [
      "Month\n",
      "1949-01    112\n",
      "1949-02    118\n",
      "1949-03    132\n",
      "1949-04    129\n",
      "1949-05    121\n",
      "          ... \n",
      "1960-08    606\n",
      "1960-09    508\n",
      "1960-10    461\n",
      "1960-11    390\n",
      "1960-12    432\n",
      "Length: 144, dtype: int64\n"
     ]
    }
   ],
   "source": [
    "# Convertendo para o formato de Series\n",
    "serie_passageiros = pd.Series(np.array(dataset[\"#Passengers\"]), index=dataset['Month'])\n",
    "print(serie_passageiros)"
   ]
  },
  {
   "cell_type": "code",
   "execution_count": 9,
   "metadata": {},
   "outputs": [
    {
     "data": {
      "text/plain": [
       "Index(['1949-01', '1949-02', '1949-03', '1949-04', '1949-05', '1949-06',\n",
       "       '1949-07', '1949-08', '1949-09', '1949-10',\n",
       "       ...\n",
       "       '1960-03', '1960-04', '1960-05', '1960-06', '1960-07', '1960-08',\n",
       "       '1960-09', '1960-10', '1960-11', '1960-12'],\n",
       "      dtype='object', name='Month', length=144)"
      ]
     },
     "execution_count": 9,
     "metadata": {},
     "output_type": "execute_result"
    }
   ],
   "source": [
    "# Visualizando os indices\n",
    "serie_passageiros.index"
   ]
  },
  {
   "cell_type": "code",
   "execution_count": 10,
   "metadata": {},
   "outputs": [
    {
     "data": {
      "text/plain": [
       "1"
      ]
     },
     "execution_count": 10,
     "metadata": {},
     "output_type": "execute_result"
    }
   ],
   "source": [
    "# Numero de Dimensões\n",
    "serie_passageiros.ndim"
   ]
  },
  {
   "cell_type": "code",
   "execution_count": 11,
   "metadata": {},
   "outputs": [
    {
     "data": {
      "text/plain": [
       "144"
      ]
     },
     "execution_count": 11,
     "metadata": {},
     "output_type": "execute_result"
    }
   ],
   "source": [
    "# Numero de linhas\n",
    "serie_passageiros.size"
   ]
  },
  {
   "cell_type": "code",
   "execution_count": null,
   "metadata": {},
   "outputs": [
    {
     "data": {
      "text/plain": [
       "Month\n",
       "1949-01    112\n",
       "1949-02    118\n",
       "1949-03    132\n",
       "1949-04    129\n",
       "1949-05    121\n",
       "dtype: int64"
      ]
     },
     "execution_count": 12,
     "metadata": {},
     "output_type": "execute_result"
    }
   ],
   "source": [
    "# Obtendo os primeiros registros\n",
    "serie_passageiros.head()"
   ]
  },
  {
   "cell_type": "code",
   "execution_count": 13,
   "metadata": {},
   "outputs": [
    {
     "data": {
      "text/plain": [
       "Month\n",
       "1960-08    606\n",
       "1960-09    508\n",
       "1960-10    461\n",
       "1960-11    390\n",
       "1960-12    432\n",
       "dtype: int64"
      ]
     },
     "execution_count": 13,
     "metadata": {},
     "output_type": "execute_result"
    }
   ],
   "source": [
    "# Obter os 10 últimos registros\n",
    "serie_passageiros.tail()"
   ]
  },
  {
   "cell_type": "code",
   "execution_count": 14,
   "metadata": {},
   "outputs": [
    {
     "data": {
      "text/plain": [
       "np.int64(112)"
      ]
     },
     "execution_count": 14,
     "metadata": {},
     "output_type": "execute_result"
    }
   ],
   "source": [
    "# Obtendo o primeiro registro\n",
    "serie_passageiros.iloc[0]"
   ]
  },
  {
   "cell_type": "code",
   "execution_count": 15,
   "metadata": {},
   "outputs": [
    {
     "data": {
      "text/plain": [
       "Month\n",
       "1949-01    112\n",
       "1949-02    118\n",
       "1949-03    132\n",
       "1949-04    129\n",
       "1949-05    121\n",
       "dtype: int64"
      ]
     },
     "execution_count": 15,
     "metadata": {},
     "output_type": "execute_result"
    }
   ],
   "source": [
    "# Obtendo os 5 primeiros elementos\n",
    "serie_passageiros.iloc[0:5]"
   ]
  },
  {
   "cell_type": "code",
   "execution_count": 16,
   "metadata": {},
   "outputs": [
    {
     "data": {
      "text/plain": [
       "np.int64(432)"
      ]
     },
     "execution_count": 16,
     "metadata": {},
     "output_type": "execute_result"
    }
   ],
   "source": [
    "# Obtendo o último elemento\n",
    "serie_passageiros.iloc[-1]"
   ]
  },
  {
   "cell_type": "code",
   "execution_count": 17,
   "metadata": {},
   "outputs": [
    {
     "data": {
      "text/plain": [
       "np.int64(606)"
      ]
     },
     "execution_count": 17,
     "metadata": {},
     "output_type": "execute_result"
    }
   ],
   "source": [
    "# Obtendo a quantidade de voos de um determinado mês\n",
    "serie_passageiros.loc[\"1960-08\"]"
   ]
  },
  {
   "cell_type": "code",
   "execution_count": 18,
   "metadata": {},
   "outputs": [
    {
     "data": {
      "text/plain": [
       "Month\n",
       "1960-06    535\n",
       "1960-07    622\n",
       "1960-08    606\n",
       "1960-09    508\n",
       "1960-10    461\n",
       "1960-11    390\n",
       "1960-12    432\n",
       "dtype: int64"
      ]
     },
     "execution_count": 18,
     "metadata": {},
     "output_type": "execute_result"
    }
   ],
   "source": [
    "# Obtendo a quantidade de voos em intervalos (meses)\n",
    "serie_passageiros.loc[\"1960-06\":\"1960-12\"]"
   ]
  },
  {
   "cell_type": "code",
   "execution_count": 19,
   "metadata": {},
   "outputs": [
    {
     "data": {
      "text/plain": [
       "Month\n",
       "1949-11    104\n",
       "1949-01    112\n",
       "1950-11    114\n",
       "1950-01    115\n",
       "1949-12    118\n",
       "          ... \n",
       "1960-06    535\n",
       "1959-07    548\n",
       "1959-08    559\n",
       "1960-08    606\n",
       "1960-07    622\n",
       "Length: 144, dtype: int64"
      ]
     },
     "execution_count": 19,
     "metadata": {},
     "output_type": "execute_result"
    }
   ],
   "source": [
    "# Ordenação\n",
    "serie_passageiros.sort_values()"
   ]
  },
  {
   "cell_type": "code",
   "execution_count": 20,
   "metadata": {},
   "outputs": [
    {
     "data": {
      "text/plain": [
       "Month\n",
       "1960-07    622\n",
       "1960-08    606\n",
       "1959-08    559\n",
       "1959-07    548\n",
       "1960-06    535\n",
       "          ... \n",
       "1949-12    118\n",
       "1950-01    115\n",
       "1950-11    114\n",
       "1949-01    112\n",
       "1949-11    104\n",
       "Length: 144, dtype: int64"
      ]
     },
     "execution_count": 20,
     "metadata": {},
     "output_type": "execute_result"
    }
   ],
   "source": [
    "# Ordenação em ordem decrescente\n",
    "serie_passageiros.sort_values(ascending=False)"
   ]
  },
  {
   "cell_type": "code",
   "execution_count": 21,
   "metadata": {},
   "outputs": [
    {
     "data": {
      "text/plain": [
       "Month\n",
       "1949-01    112\n",
       "1949-02    118\n",
       "1949-03    132\n",
       "1949-04    129\n",
       "1949-05    121\n",
       "          ... \n",
       "1960-08    606\n",
       "1960-09    508\n",
       "1960-10    461\n",
       "1960-11    390\n",
       "1960-12    432\n",
       "Length: 144, dtype: int64"
      ]
     },
     "execution_count": 21,
     "metadata": {},
     "output_type": "execute_result"
    }
   ],
   "source": [
    "# Ordenação do indice\n",
    "serie_passageiros.sort_index()"
   ]
  },
  {
   "cell_type": "code",
   "execution_count": 22,
   "metadata": {},
   "outputs": [
    {
     "data": {
      "text/plain": [
       "229    3\n",
       "118    2\n",
       "170    2\n",
       "148    2\n",
       "178    2\n",
       "      ..\n",
       "622    1\n",
       "606    1\n",
       "508    1\n",
       "390    1\n",
       "432    1\n",
       "Name: count, Length: 118, dtype: int64"
      ]
     },
     "execution_count": 22,
     "metadata": {},
     "output_type": "execute_result"
    }
   ],
   "source": [
    "# Contagem do número de numeros de passageiros\n",
    "serie_passageiros.value_counts()"
   ]
  },
  {
   "cell_type": "code",
   "execution_count": 23,
   "metadata": {},
   "outputs": [
    {
     "data": {
      "text/plain": [
       "Month\n",
       "1954-07    302\n",
       "1955-06    315\n",
       "1955-07    364\n",
       "1955-08    347\n",
       "1955-09    312\n",
       "          ... \n",
       "1960-08    606\n",
       "1960-09    508\n",
       "1960-10    461\n",
       "1960-11    390\n",
       "1960-12    432\n",
       "Length: 62, dtype: int64"
      ]
     },
     "execution_count": 23,
     "metadata": {},
     "output_type": "execute_result"
    }
   ],
   "source": [
    "# Valores maiores que 300\n",
    "serie_passageiros.loc[serie_passageiros > 300]"
   ]
  },
  {
   "cell_type": "code",
   "execution_count": 24,
   "metadata": {},
   "outputs": [
    {
     "data": {
      "text/plain": [
       "Month\n",
       "1954-07    302\n",
       "dtype: int64"
      ]
     },
     "execution_count": 24,
     "metadata": {},
     "output_type": "execute_result"
    }
   ],
   "source": [
    "# Retornando > 300 e index específico\n",
    "serie_passageiros.loc[(serie_passageiros > 30) & (serie_passageiros.index == '1954-07')]"
   ]
  },
  {
   "cell_type": "code",
   "execution_count": 28,
   "metadata": {},
   "outputs": [
    {
     "data": {
      "text/plain": [
       "Month\n",
       "1949-01    112\n",
       "1949-02    118\n",
       "1949-03    132\n",
       "1949-04    129\n",
       "1949-05    121\n",
       "1949-06    135\n",
       "1949-07    148\n",
       "1949-08    148\n",
       "1949-09    136\n",
       "1949-10    119\n",
       "1949-11    104\n",
       "1949-12    118\n",
       "1950-01    115\n",
       "1950-02    126\n",
       "1950-03    141\n",
       "1950-04    135\n",
       "1950-05    125\n",
       "1950-06    149\n",
       "1950-07    170\n",
       "dtype: int64"
      ]
     },
     "execution_count": 28,
     "metadata": {},
     "output_type": "execute_result"
    }
   ],
   "source": [
    "# Menores do que 1950-08\n",
    "serie_passageiros.loc[serie_passageiros.index < '1950-08']"
   ]
  },
  {
   "cell_type": "code",
   "execution_count": 29,
   "metadata": {},
   "outputs": [
    {
     "data": {
      "text/plain": [
       "Month\n",
       "1949-01    112\n",
       "1949-02    118\n",
       "1949-03    132\n",
       "1949-04    129\n",
       "1949-05    121\n",
       "1949-06    135\n",
       "1949-07    148\n",
       "1949-08    148\n",
       "1949-09    136\n",
       "1949-10    119\n",
       "1949-11    104\n",
       "1949-12    118\n",
       "1950-01    115\n",
       "dtype: int64"
      ]
     },
     "execution_count": 29,
     "metadata": {},
     "output_type": "execute_result"
    }
   ],
   "source": [
    "# Entre 1949-01 e 1950-01\n",
    "serie_passageiros.loc[\"1949-01\":\"1950-01\"]"
   ]
  },
  {
   "cell_type": "code",
   "execution_count": 30,
   "metadata": {},
   "outputs": [
    {
     "data": {
      "text/plain": [
       "np.int64(40363)"
      ]
     },
     "execution_count": 30,
     "metadata": {},
     "output_type": "execute_result"
    }
   ],
   "source": [
    "# Somatório dos Valores\n",
    "serie_passageiros.sum()"
   ]
  },
  {
   "cell_type": "code",
   "execution_count": 31,
   "metadata": {},
   "outputs": [
    {
     "data": {
      "text/plain": [
       "np.float64(280.2986111111111)"
      ]
     },
     "execution_count": 31,
     "metadata": {},
     "output_type": "execute_result"
    }
   ],
   "source": [
    "# Média dos valores\n",
    "serie_passageiros.mean()"
   ]
  },
  {
   "cell_type": "code",
   "execution_count": 32,
   "metadata": {},
   "outputs": [
    {
     "data": {
      "text/plain": [
       "np.int64(104)"
      ]
     },
     "execution_count": 32,
     "metadata": {},
     "output_type": "execute_result"
    }
   ],
   "source": [
    "# Valor mínimo\n",
    "serie_passageiros.min()"
   ]
  },
  {
   "cell_type": "code",
   "execution_count": 33,
   "metadata": {},
   "outputs": [
    {
     "data": {
      "text/plain": [
       "np.int64(622)"
      ]
     },
     "execution_count": 33,
     "metadata": {},
     "output_type": "execute_result"
    }
   ],
   "source": [
    "# Valor máximo\n",
    "serie_passageiros.max()"
   ]
  },
  {
   "cell_type": "code",
   "execution_count": 35,
   "metadata": {},
   "outputs": [
    {
     "data": {
      "text/plain": [
       "np.int64(1520)"
      ]
     },
     "execution_count": 35,
     "metadata": {},
     "output_type": "execute_result"
    }
   ],
   "source": [
    "# Somatório do intervalo 1949-01 e 1949-12\n",
    "serie_passageiros.loc[(serie_passageiros.index >= \"1949-01\") & (serie_passageiros.index <= \"1949-12\")].sum()"
   ]
  },
  {
   "cell_type": "code",
   "execution_count": 37,
   "metadata": {},
   "outputs": [
    {
     "data": {
      "text/plain": [
       "Index(['1949-01', '1949-02', '1949-03', '1949-04', '1949-05', '1949-06',\n",
       "       '1949-07', '1949-08', '1949-09', '1949-10',\n",
       "       ...\n",
       "       '1960-03', '1960-04', '1960-05', '1960-06', '1960-07', '1960-08',\n",
       "       '1960-09', '1960-10', '1960-11', '1960-12'],\n",
       "      dtype='object', name='Month', length=144)"
      ]
     },
     "execution_count": 37,
     "metadata": {},
     "output_type": "execute_result"
    }
   ],
   "source": [
    "# Valores únicos dos índices\n",
    "serie_passageiros.index.unique()"
   ]
  },
  {
   "cell_type": "code",
   "execution_count": 38,
   "metadata": {},
   "outputs": [
    {
     "data": {
      "text/plain": [
       "np.int64(0)"
      ]
     },
     "execution_count": 38,
     "metadata": {},
     "output_type": "execute_result"
    }
   ],
   "source": [
    "# Somatório de valores faltantes\n",
    "serie_passageiros.isna().sum()"
   ]
  },
  {
   "cell_type": "code",
   "execution_count": 39,
   "metadata": {},
   "outputs": [
    {
     "data": {
      "text/plain": [
       "Index([ 1,  2,  3,  4,  5,  6,  7,  8,  9, 10,\n",
       "       ...\n",
       "        3,  4,  5,  6,  7,  8,  9, 10, 11, 12],\n",
       "      dtype='int32', name='Month', length=144)"
      ]
     },
     "execution_count": 39,
     "metadata": {},
     "output_type": "execute_result"
    }
   ],
   "source": [
    "# Extração do mês\n",
    "pd.DatetimeIndex(serie_passageiros.index).month"
   ]
  },
  {
   "cell_type": "code",
   "execution_count": 40,
   "metadata": {},
   "outputs": [
    {
     "data": {
      "text/plain": [
       "Index([1949, 1949, 1949, 1949, 1949, 1949, 1949, 1949, 1949, 1949,\n",
       "       ...\n",
       "       1960, 1960, 1960, 1960, 1960, 1960, 1960, 1960, 1960, 1960],\n",
       "      dtype='int32', name='Month', length=144)"
      ]
     },
     "execution_count": 40,
     "metadata": {},
     "output_type": "execute_result"
    }
   ],
   "source": [
    "# Extração do ano\n",
    "pd.DatetimeIndex(serie_passageiros.index).year"
   ]
  },
  {
   "cell_type": "code",
   "execution_count": 41,
   "metadata": {},
   "outputs": [
    {
     "data": {
      "text/plain": [
       "np.int64(4216)"
      ]
     },
     "execution_count": 41,
     "metadata": {},
     "output_type": "execute_result"
    }
   ],
   "source": [
    "# Somatório dos valores do mês 07 utilizando datetimeindex\n",
    "serie_passageiros.loc[(pd.DatetimeIndex(serie_passageiros.index).month == 7)].sum()"
   ]
  },
  {
   "cell_type": "code",
   "execution_count": 42,
   "metadata": {},
   "outputs": [
    {
     "data": {
      "text/plain": [
       "np.int64(1676)"
      ]
     },
     "execution_count": 42,
     "metadata": {},
     "output_type": "execute_result"
    }
   ],
   "source": [
    "# Somatório do ano de 1950\n",
    "serie_passageiros.loc[(pd.DatetimeIndex(serie_passageiros.index).year == 1950)].sum()"
   ]
  }
 ],
 "metadata": {
  "kernelspec": {
   "display_name": "Python 3",
   "language": "python",
   "name": "python3"
  },
  "language_info": {
   "codemirror_mode": {
    "name": "ipython",
    "version": 3
   },
   "file_extension": ".py",
   "mimetype": "text/x-python",
   "name": "python",
   "nbconvert_exporter": "python",
   "pygments_lexer": "ipython3",
   "version": "3.12.5"
  }
 },
 "nbformat": 4,
 "nbformat_minor": 2
}
